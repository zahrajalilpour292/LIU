{
 "cells": [
  {
   "cell_type": "markdown",
   "metadata": {},
   "source": [
    "# Lab 5: Simple OOP and numpy\n"
   ]
  },
  {
   "cell_type": "markdown",
   "metadata": {},
   "source": [
    "__Student:__ zahja096\n",
    "\n",
    "__Student:__ zahra jalilpour"
   ]
  },
  {
   "cell_type": "markdown",
   "metadata": {},
   "source": [
    "# 2. Introduction"
   ]
  },
  {
   "cell_type": "markdown",
   "metadata": {},
   "source": [
    "## Object-oriented Programming"
   ]
  },
  {
   "cell_type": "markdown",
   "metadata": {},
   "source": [
    "The point of Object-oriented Programming is to support encapsulation and the DRY (Don't Repeat Yourself) principle without things getting out of hand. Often, software architects (those high-level programmers who are responsible for how large systems are designed on a technical level) talk about Object-oriented design or Object-oriented analysis. The point of this is to identify the necessary _objects_ in a system. An object in this sense is not exactly the same as a Python object but rather a somewhat higher level logical unit which can reasonably be thought of as an independent component within the system. These high level objects might then be further subdivided into smaller and smaller objects and at a some level the responsibility shifts from the system architect to the team or individual developer working on a specific component. Thus, Object-oriented thinking is necessary for anyone developing code which will be integrated with a larger system, for instance a data scientist implementing analytics tools."
   ]
  },
  {
   "cell_type": "markdown",
   "metadata": {},
   "source": [
    "## OOP in Python"
   ]
  },
  {
   "cell_type": "markdown",
   "metadata": {},
   "source": [
    "Python implements the Object-oriented paradigm to a somewhat larger degree than the Functional paradigm. However, there are features considered necessary for _strict_ object-oriented programming missing from Python. Mainly, we are talking about data protection. Not in a software security sense, but in the sense of encapsulation. There is no simple way to strictly control access to member variables in Python. This does not affect this lab in any way but is worth remembering if one has worked in a language such as Java previously."
   ]
  },
  {
   "cell_type": "markdown",
   "metadata": {},
   "source": [
    "# 3. Simple instance tests in Python"
   ]
  },
  {
   "cell_type": "markdown",
   "metadata": {},
   "source": [
    "Note: some of these questions will be extremely simple, and some might prove trickier. Don't expect that the answer needs to be hard."
   ]
  },
  {
   "cell_type": "code",
   "execution_count": 173,
   "metadata": {},
   "outputs": [],
   "source": [
    "class Person:\n",
    "    def __init__(self, name):\n",
    "        self.name = name\n",
    "        self.age = 0            # Age should be non-negative.\n",
    "        \n",
    "    def get_age(self):\n",
    "        \"\"\"Return the Person's age, a non-negative number.\"\"\"\n",
    "        return self.age\n",
    "    \n",
    "    def return_five(self):\n",
    "        \"\"\"Return 5. Dummy function.\"\"\"\n",
    "        return 5\n",
    "\n",
    "Jackal = Person \n",
    "\n",
    "president = Person(\"Jeb\")\n",
    "psec = Jackal(\"CJ Cregg\")"
   ]
  },
  {
   "cell_type": "markdown",
   "metadata": {},
   "source": [
    "a) Change the age of the `president` to 65 (`psec` should be unaffected)."
   ]
  },
  {
   "cell_type": "code",
   "execution_count": 174,
   "metadata": {},
   "outputs": [
    {
     "name": "stdout",
     "output_type": "stream",
     "text": [
      "65\n"
     ]
    }
   ],
   "source": [
    "president.age=65\n",
    "print(president.get_age())"
   ]
  },
  {
   "cell_type": "markdown",
   "metadata": {},
   "source": [
    "[Note: This mode of operation is sometimes considered poor OOP. We will remedy this later.]"
   ]
  },
  {
   "cell_type": "markdown",
   "metadata": {},
   "source": [
    "b) How many `Person` instances are there? One, two or three?"
   ]
  },
  {
   "cell_type": "code",
   "execution_count": 175,
   "metadata": {},
   "outputs": [
    {
     "name": "stdout",
     "output_type": "stream",
     "text": [
      "<class 'type'>\n",
      "<class '__main__.Person'>\n",
      "<class '__main__.Person'>\n"
     ]
    }
   ],
   "source": [
    "'''In Person class, there are two instances: president, psec'''\n",
    "print(type(Jackal))\n",
    "print(type(president))\n",
    "print(type(psec))"
   ]
  },
  {
   "cell_type": "markdown",
   "metadata": {},
   "source": [
    "c) Consider the following code snippets. What do you think that they will return, and why? Discuss amongst yourselves. After that, run the code and explain the output. You only need to write down your explanation of the output."
   ]
  },
  {
   "cell_type": "code",
   "execution_count": 176,
   "metadata": {},
   "outputs": [
    {
     "data": {
      "text/plain": [
       "False"
      ]
     },
     "execution_count": 176,
     "metadata": {},
     "output_type": "execute_result"
    }
   ],
   "source": [
    "\"Jeb\" is Person"
   ]
  },
  {
   "cell_type": "code",
   "execution_count": 177,
   "metadata": {
    "scrolled": true
   },
   "outputs": [
    {
     "data": {
      "text/plain": [
       "False"
      ]
     },
     "execution_count": 177,
     "metadata": {},
     "output_type": "execute_result"
    }
   ],
   "source": [
    "president is Person"
   ]
  },
  {
   "cell_type": "code",
   "execution_count": 178,
   "metadata": {},
   "outputs": [
    {
     "name": "stdout",
     "output_type": "stream",
     "text": [
      "202915272\n",
      "129509480\n",
      "129509480\n"
     ]
    }
   ],
   "source": [
    " \n",
    "\"\"\"we can not use \"is\" as a comparison operator in objects with class type.\n",
    "also if we want to see if two objects are the same, we can rephrase this and mention to the memory location as pointer.\n",
    "\"\"\"\n",
    "print(id(president))\n",
    "print(id(Person))\n",
    "print(id(Jackal))"
   ]
  },
  {
   "cell_type": "markdown",
   "metadata": {},
   "source": [
    "d) How would you go about checking whether or not the value bound to the name `president` is-a `Person`?"
   ]
  },
  {
   "cell_type": "code",
   "execution_count": 179,
   "metadata": {},
   "outputs": [
    {
     "name": "stdout",
     "output_type": "stream",
     "text": [
      "True\n"
     ]
    },
    {
     "data": {
      "text/plain": [
       "\"\\nAlso we can use 'type'\\n\""
      ]
     },
     "execution_count": 179,
     "metadata": {},
     "output_type": "execute_result"
    }
   ],
   "source": [
    "# isinstance works as a comparison operator and compare an object with class type\n",
    "print(isinstance(president, Person))\n",
    "\"\"\"\n",
    "Also we can use 'type'\n",
    "\"\"\"\n"
   ]
  },
  {
   "cell_type": "markdown",
   "metadata": {},
   "source": [
    "# 4. Subclasses"
   ]
  },
  {
   "cell_type": "markdown",
   "metadata": {},
   "source": [
    "a) Create class `Employee`, a subclass of `Person` with data attributes (fields) \n",
    "* `__work_days_accrued`\n",
    "* `__daily_salary`. \n",
    "\n",
    "These should be *the only* data attributes which you write in your class definition. In particular, you may not duplicate `name` and `age`.\n",
    "\n",
    "There should be methods\n",
    "* `work` which increments the number of work days accrued.\n",
    "* `expected_payout` which just returns the expected payout for the employee based on the accrued work days and daily salary (but without doing any resets).\n",
    "* `payout` which returns the accrued salary and resets the number of work days accrued. The `payout` function may not perform any calculations itself."
   ]
  },
  {
   "cell_type": "code",
   "execution_count": 180,
   "metadata": {},
   "outputs": [
    {
     "name": "stdout",
     "output_type": "stream",
     "text": [
      "--- Setting up test cases.\n",
      "--- Testing payout and expected_payout properties.\n",
      "OK\n",
      "--- Testing non-data-accessing calls to superclass methods.\n",
      "OK\n",
      "--- Testing data that should be set up by initialiser call.\n",
      "OK\n"
     ]
    }
   ],
   "source": [
    "# Your code goes here.\n",
    "class Employee(Person):\n",
    "    def __init__(self,name, work_days_accrued=0,daily_salary=15):\n",
    "        super().__init__(name)\n",
    "        self.__work_days_accrued = work_days_accrued\n",
    "        self.__daily_salary = daily_salary\n",
    "    def work(self):\n",
    "        self.__work_days_accrued +=1\n",
    "    def expected_payout(self):\n",
    "        return(self.__daily_salary * self.__work_days_accrued )\n",
    "        \n",
    "    def payout(self):\n",
    "        occurd_salary= self.expected_payout()\n",
    "        self.__work_days_accrued=0\n",
    "        return(occurd_salary)\n",
    "        \n",
    "\n",
    "# Ready-made tests.\n",
    "print(\"--- Setting up test cases.\")\n",
    "cleaner = Employee(name = \"Scruffy\")  # Should have daily_salary 15.\n",
    "josh = Employee(name = \"Josh\", daily_salary = 1000)\n",
    "toby = Employee(name = \"Toby\", daily_salary = 9999)\n",
    "\n",
    "josh.work()\n",
    "josh.work()\n",
    "toby.work()\n",
    "toby.work()\n",
    "toby.work()\n",
    "cleaner.work()\n",
    "\n",
    "print(\"--- Testing payout and expected_payout properties.\")\n",
    "assert cleaner.expected_payout() == 15, \"default salary should be 15\"\n",
    "assert josh.expected_payout() == 1000*2\n",
    "assert josh.payout() == 1000*2\n",
    "assert josh.expected_payout() == 0, \"salary should be reset afterwards\"\n",
    "assert toby.payout() == 9999*3, \"toby and josh instances should be independent.\"\n",
    "print(\"OK\")\n",
    "\n",
    "print(\"--- Testing non-data-accessing calls to superclass methods.\")\n",
    "assert josh.return_five() == 5, \"Person.return_five should be accessible\"\n",
    "print(\"OK\")\n",
    "\n",
    "print(\"--- Testing data that should be set up by initialiser call.\")\n",
    "assert josh.get_age() == 0, \"superclass method should be callable, values should not be missing.\"\n",
    "josh.age = 9\n",
    "assert josh.get_age() == 9, \"superclass method should be callable\"\n",
    "print(\"OK\")"
   ]
  },
  {
   "cell_type": "markdown",
   "metadata": {},
   "source": [
    "b) Which public data attributes (fields) does an `Employee` have? Can you access the age of an employee directly (without some transformation of the name)? The daily salary?"
   ]
  },
  {
   "cell_type": "code",
   "execution_count": 181,
   "metadata": {},
   "outputs": [
    {
     "name": "stdout",
     "output_type": "stream",
     "text": [
      "Employee Josh age is  9\n",
      "Employee Josh daily salary is  1000\n"
     ]
    }
   ],
   "source": [
    " '''the public data attributes that we can access directly are attributes related to Person(supperclass) \n",
    " which are name and age. The attributes which define by double underscore(__) are private attributes and \n",
    " we can not access them .\n",
    " '''\n",
    "print(\"Employee Josh age is \", josh.age)\n",
    "print(\"Employee Josh daily salary is \", josh._Employee__daily_salary)"
   ]
  },
  {
   "cell_type": "markdown",
   "metadata": {},
   "source": [
    "# 5. Introductory numpy"
   ]
  },
  {
   "cell_type": "markdown",
   "metadata": {},
   "source": [
    "A lot of computations will likely end up using data stored `numpy` arrays. Therefore, it is a good idea to have a feeling for how they are used and manipulated. The following steps will provide some introduction, so that we can build upon this in future labs.\n",
    "\n",
    "You may want to refer to the [official numpy.org absolute beginners guide to numpy](https://numpy.org/devdocs/user/absolute_beginners.html)."
   ]
  },
  {
   "cell_type": "markdown",
   "metadata": {},
   "source": [
    "a) Import the module `numpy`, giving it the shorthand `np`."
   ]
  },
  {
   "cell_type": "code",
   "execution_count": 182,
   "metadata": {},
   "outputs": [],
   "source": [
    "import numpy as np"
   ]
  },
  {
   "cell_type": "markdown",
   "metadata": {},
   "source": [
    "b) Create the $2 \\times 3$ matrix $A = \\begin{bmatrix}1 & 2 & 3 \\\\ 0 & 0 & 1\\end{bmatrix}$"
   ]
  },
  {
   "cell_type": "code",
   "execution_count": 183,
   "metadata": {},
   "outputs": [
    {
     "data": {
      "text/plain": [
       "array([[1, 2, 3],\n",
       "       [0, 0, 1]])"
      ]
     },
     "execution_count": 183,
     "metadata": {},
     "output_type": "execute_result"
    }
   ],
   "source": [
    "A=np.array([[1,2,3],[0,0,1]])\n",
    "A"
   ]
  },
  {
   "cell_type": "code",
   "execution_count": 184,
   "metadata": {},
   "outputs": [
    {
     "data": {
      "text/plain": [
       "matrix([[1, 2, 3],\n",
       "        [0, 0, 1]])"
      ]
     },
     "execution_count": 184,
     "metadata": {},
     "output_type": "execute_result"
    }
   ],
   "source": [
    "A1= np.matrix('1 2 3;0 0 1')\n",
    "A1"
   ]
  },
  {
   "cell_type": "markdown",
   "metadata": {},
   "source": [
    "c) Create the vector $b = \\begin{bmatrix}1\\\\ 2 \\\\ 3 \\end{bmatrix}$"
   ]
  },
  {
   "cell_type": "code",
   "execution_count": 185,
   "metadata": {},
   "outputs": [
    {
     "data": {
      "text/plain": [
       "array([[1],\n",
       "       [2],\n",
       "       [3]])"
      ]
     },
     "execution_count": 185,
     "metadata": {},
     "output_type": "execute_result"
    }
   ],
   "source": [
    "b=np.arange(1,4).reshape(3,1)\n",
    "b\n",
    "                       "
   ]
  },
  {
   "cell_type": "code",
   "execution_count": 186,
   "metadata": {},
   "outputs": [
    {
     "data": {
      "text/plain": [
       "array([[1],\n",
       "       [2],\n",
       "       [3]])"
      ]
     },
     "execution_count": 186,
     "metadata": {},
     "output_type": "execute_result"
    }
   ],
   "source": [
    "b=np.array([[1,2,3]]).T\n",
    "b"
   ]
  },
  {
   "cell_type": "code",
   "execution_count": 187,
   "metadata": {},
   "outputs": [
    {
     "data": {
      "text/plain": [
       "array([[1],\n",
       "       [2],\n",
       "       [3]])"
      ]
     },
     "execution_count": 187,
     "metadata": {},
     "output_type": "execute_result"
    }
   ],
   "source": [
    "b=np.array([1,2,3])\n",
    "b.shape=(3,1)\n",
    "b"
   ]
  },
  {
   "cell_type": "markdown",
   "metadata": {},
   "source": [
    "d) Perform the multiplication $Ab$. What is the result?"
   ]
  },
  {
   "cell_type": "code",
   "execution_count": 188,
   "metadata": {},
   "outputs": [
    {
     "data": {
      "text/plain": [
       "array([[14],\n",
       "       [ 3]])"
      ]
     },
     "execution_count": 188,
     "metadata": {},
     "output_type": "execute_result"
    }
   ],
   "source": [
    "A@b"
   ]
  },
  {
   "cell_type": "code",
   "execution_count": 189,
   "metadata": {},
   "outputs": [
    {
     "data": {
      "text/plain": [
       "array([[14],\n",
       "       [ 3]])"
      ]
     },
     "execution_count": 189,
     "metadata": {},
     "output_type": "execute_result"
    }
   ],
   "source": [
    "A.dot(b)"
   ]
  },
  {
   "cell_type": "markdown",
   "metadata": {},
   "source": [
    "e) Mathematically, what should the dimensions of $b^Tb$ be? What should the dimensions of $bb^T$ be?"
   ]
  },
  {
   "cell_type": "code",
   "execution_count": 190,
   "metadata": {},
   "outputs": [
    {
     "name": "stdout",
     "output_type": "stream",
     "text": [
      "[[14]]\n",
      "[[1 2 3]\n",
      " [2 4 6]\n",
      " [3 6 9]]\n"
     ]
    }
   ],
   "source": [
    "'''\n",
    "dimension in b=3*1\n",
    "dimension in b.T=1*3\n",
    "dimension in b^Tb=1*1\n",
    "dimension in bb^T=3*3\n",
    "  \n",
    "'''\n",
    "print(b.transpose().dot(b))\n",
    "print(b.dot(b.transpose()))"
   ]
  },
  {
   "cell_type": "markdown",
   "metadata": {},
   "source": [
    "f) Compute ```b.T @ b```? ```b @ b.T``` in numpy. How would you go about calculating $bb^T$ (if you wanted to actually store it as a matrix, which is rarely the most space- or time-efficient idea)?"
   ]
  },
  {
   "cell_type": "code",
   "execution_count": 191,
   "metadata": {},
   "outputs": [
    {
     "name": "stdout",
     "output_type": "stream",
     "text": [
      "[[14]]\n"
     ]
    }
   ],
   "source": [
    "print(b.T@b)\n",
    "#print(b@b.T)"
   ]
  },
  {
   "cell_type": "code",
   "execution_count": 192,
   "metadata": {},
   "outputs": [
    {
     "name": "stdout",
     "output_type": "stream",
     "text": [
      "[[1 2 3]\n",
      " [2 4 6]\n",
      " [3 6 9]]\n"
     ]
    }
   ],
   "source": [
    "print(b@b.T)"
   ]
  },
  {
   "cell_type": "markdown",
   "metadata": {},
   "source": [
    "Note: as `a @ b` is read `a.dot(b)` this should perhaps not be entirely surprising. But it is non-obvious."
   ]
  },
  {
   "cell_type": "markdown",
   "metadata": {},
   "source": [
    "d) Try to solve the equation $Ax = b$ using the `solve` method. Does this make mathematical sense? What does numpy say? Read the error message."
   ]
  },
  {
   "cell_type": "code",
   "execution_count": 193,
   "metadata": {},
   "outputs": [
    {
     "ename": "LinAlgError",
     "evalue": "Last 2 dimensions of the array must be square",
     "output_type": "error",
     "traceback": [
      "\u001b[1;31m---------------------------------------------------------------------------\u001b[0m",
      "\u001b[1;31mLinAlgError\u001b[0m                               Traceback (most recent call last)",
      "\u001b[1;32m<ipython-input-193-6c198c517947>\u001b[0m in \u001b[0;36m<module>\u001b[1;34m\u001b[0m\n\u001b[1;32m----> 1\u001b[1;33m \u001b[0mx\u001b[0m\u001b[1;33m=\u001b[0m \u001b[0mnp\u001b[0m\u001b[1;33m.\u001b[0m\u001b[0mlinalg\u001b[0m\u001b[1;33m.\u001b[0m\u001b[0msolve\u001b[0m\u001b[1;33m(\u001b[0m\u001b[0mA\u001b[0m\u001b[1;33m,\u001b[0m\u001b[0mb\u001b[0m\u001b[1;33m)\u001b[0m\u001b[1;33m\u001b[0m\u001b[1;33m\u001b[0m\u001b[0m\n\u001b[0m\u001b[0;32m      2\u001b[0m \u001b[0mx\u001b[0m\u001b[1;33m\u001b[0m\u001b[1;33m\u001b[0m\u001b[0m\n",
      "\u001b[1;32mC:\\ProgramData\\Anaconda3\\lib\\site-packages\\numpy\\linalg\\linalg.py\u001b[0m in \u001b[0;36msolve\u001b[1;34m(a, b)\u001b[0m\n\u001b[0;32m    388\u001b[0m     \u001b[0ma\u001b[0m\u001b[1;33m,\u001b[0m \u001b[0m_\u001b[0m \u001b[1;33m=\u001b[0m \u001b[0m_makearray\u001b[0m\u001b[1;33m(\u001b[0m\u001b[0ma\u001b[0m\u001b[1;33m)\u001b[0m\u001b[1;33m\u001b[0m\u001b[1;33m\u001b[0m\u001b[0m\n\u001b[0;32m    389\u001b[0m     \u001b[0m_assertRankAtLeast2\u001b[0m\u001b[1;33m(\u001b[0m\u001b[0ma\u001b[0m\u001b[1;33m)\u001b[0m\u001b[1;33m\u001b[0m\u001b[1;33m\u001b[0m\u001b[0m\n\u001b[1;32m--> 390\u001b[1;33m     \u001b[0m_assertNdSquareness\u001b[0m\u001b[1;33m(\u001b[0m\u001b[0ma\u001b[0m\u001b[1;33m)\u001b[0m\u001b[1;33m\u001b[0m\u001b[1;33m\u001b[0m\u001b[0m\n\u001b[0m\u001b[0;32m    391\u001b[0m     \u001b[0mb\u001b[0m\u001b[1;33m,\u001b[0m \u001b[0mwrap\u001b[0m \u001b[1;33m=\u001b[0m \u001b[0m_makearray\u001b[0m\u001b[1;33m(\u001b[0m\u001b[0mb\u001b[0m\u001b[1;33m)\u001b[0m\u001b[1;33m\u001b[0m\u001b[1;33m\u001b[0m\u001b[0m\n\u001b[0;32m    392\u001b[0m     \u001b[0mt\u001b[0m\u001b[1;33m,\u001b[0m \u001b[0mresult_t\u001b[0m \u001b[1;33m=\u001b[0m \u001b[0m_commonType\u001b[0m\u001b[1;33m(\u001b[0m\u001b[0ma\u001b[0m\u001b[1;33m,\u001b[0m \u001b[0mb\u001b[0m\u001b[1;33m)\u001b[0m\u001b[1;33m\u001b[0m\u001b[1;33m\u001b[0m\u001b[0m\n",
      "\u001b[1;32mC:\\ProgramData\\Anaconda3\\lib\\site-packages\\numpy\\linalg\\linalg.py\u001b[0m in \u001b[0;36m_assertNdSquareness\u001b[1;34m(*arrays)\u001b[0m\n\u001b[0;32m    211\u001b[0m         \u001b[0mm\u001b[0m\u001b[1;33m,\u001b[0m \u001b[0mn\u001b[0m \u001b[1;33m=\u001b[0m \u001b[0ma\u001b[0m\u001b[1;33m.\u001b[0m\u001b[0mshape\u001b[0m\u001b[1;33m[\u001b[0m\u001b[1;33m-\u001b[0m\u001b[1;36m2\u001b[0m\u001b[1;33m:\u001b[0m\u001b[1;33m]\u001b[0m\u001b[1;33m\u001b[0m\u001b[1;33m\u001b[0m\u001b[0m\n\u001b[0;32m    212\u001b[0m         \u001b[1;32mif\u001b[0m \u001b[0mm\u001b[0m \u001b[1;33m!=\u001b[0m \u001b[0mn\u001b[0m\u001b[1;33m:\u001b[0m\u001b[1;33m\u001b[0m\u001b[1;33m\u001b[0m\u001b[0m\n\u001b[1;32m--> 213\u001b[1;33m             \u001b[1;32mraise\u001b[0m \u001b[0mLinAlgError\u001b[0m\u001b[1;33m(\u001b[0m\u001b[1;34m'Last 2 dimensions of the array must be square'\u001b[0m\u001b[1;33m)\u001b[0m\u001b[1;33m\u001b[0m\u001b[1;33m\u001b[0m\u001b[0m\n\u001b[0m\u001b[0;32m    214\u001b[0m \u001b[1;33m\u001b[0m\u001b[0m\n\u001b[0;32m    215\u001b[0m \u001b[1;32mdef\u001b[0m \u001b[0m_assertFinite\u001b[0m\u001b[1;33m(\u001b[0m\u001b[1;33m*\u001b[0m\u001b[0marrays\u001b[0m\u001b[1;33m)\u001b[0m\u001b[1;33m:\u001b[0m\u001b[1;33m\u001b[0m\u001b[1;33m\u001b[0m\u001b[0m\n",
      "\u001b[1;31mLinAlgError\u001b[0m: Last 2 dimensions of the array must be square"
     ]
    }
   ],
   "source": [
    "x= np.linalg.solve(A,b)\n",
    "x"
   ]
  },
  {
   "cell_type": "code",
   "execution_count": 194,
   "metadata": {},
   "outputs": [
    {
     "data": {
      "text/plain": [
       "'\\n    numpy.linlag.solve() function uses LAPAK gesv and for gesv it is needed that A should be square matrix.\\n    As A is not square matrix, it does not have inverse.\\n'"
      ]
     },
     "execution_count": 194,
     "metadata": {},
     "output_type": "execute_result"
    }
   ],
   "source": [
    "\"\"\"\n",
    "    numpy.linlag.solve() function uses LAPAK gesv and for gesv it is needed that A should be square matrix.\n",
    "    As A is not square matrix, it does not have inverse.\n",
    "\"\"\""
   ]
  },
  {
   "cell_type": "markdown",
   "metadata": {},
   "source": [
    "e) Try to solve the equation $A^Tx = b$ using numpy. Does this make mathematical sense? What does numpy say?"
   ]
  },
  {
   "cell_type": "code",
   "execution_count": 195,
   "metadata": {},
   "outputs": [
    {
     "ename": "LinAlgError",
     "evalue": "Last 2 dimensions of the array must be square",
     "output_type": "error",
     "traceback": [
      "\u001b[1;31m---------------------------------------------------------------------------\u001b[0m",
      "\u001b[1;31mLinAlgError\u001b[0m                               Traceback (most recent call last)",
      "\u001b[1;32m<ipython-input-195-b0cd71a7265d>\u001b[0m in \u001b[0;36m<module>\u001b[1;34m\u001b[0m\n\u001b[1;32m----> 1\u001b[1;33m \u001b[0mnp\u001b[0m\u001b[1;33m.\u001b[0m\u001b[0mlinalg\u001b[0m\u001b[1;33m.\u001b[0m\u001b[0msolve\u001b[0m\u001b[1;33m(\u001b[0m\u001b[0mA\u001b[0m\u001b[1;33m.\u001b[0m\u001b[0mtranspose\u001b[0m\u001b[1;33m(\u001b[0m\u001b[1;33m)\u001b[0m\u001b[1;33m,\u001b[0m\u001b[0mb\u001b[0m\u001b[1;33m)\u001b[0m\u001b[1;33m\u001b[0m\u001b[1;33m\u001b[0m\u001b[0m\n\u001b[0m",
      "\u001b[1;32mC:\\ProgramData\\Anaconda3\\lib\\site-packages\\numpy\\linalg\\linalg.py\u001b[0m in \u001b[0;36msolve\u001b[1;34m(a, b)\u001b[0m\n\u001b[0;32m    388\u001b[0m     \u001b[0ma\u001b[0m\u001b[1;33m,\u001b[0m \u001b[0m_\u001b[0m \u001b[1;33m=\u001b[0m \u001b[0m_makearray\u001b[0m\u001b[1;33m(\u001b[0m\u001b[0ma\u001b[0m\u001b[1;33m)\u001b[0m\u001b[1;33m\u001b[0m\u001b[1;33m\u001b[0m\u001b[0m\n\u001b[0;32m    389\u001b[0m     \u001b[0m_assertRankAtLeast2\u001b[0m\u001b[1;33m(\u001b[0m\u001b[0ma\u001b[0m\u001b[1;33m)\u001b[0m\u001b[1;33m\u001b[0m\u001b[1;33m\u001b[0m\u001b[0m\n\u001b[1;32m--> 390\u001b[1;33m     \u001b[0m_assertNdSquareness\u001b[0m\u001b[1;33m(\u001b[0m\u001b[0ma\u001b[0m\u001b[1;33m)\u001b[0m\u001b[1;33m\u001b[0m\u001b[1;33m\u001b[0m\u001b[0m\n\u001b[0m\u001b[0;32m    391\u001b[0m     \u001b[0mb\u001b[0m\u001b[1;33m,\u001b[0m \u001b[0mwrap\u001b[0m \u001b[1;33m=\u001b[0m \u001b[0m_makearray\u001b[0m\u001b[1;33m(\u001b[0m\u001b[0mb\u001b[0m\u001b[1;33m)\u001b[0m\u001b[1;33m\u001b[0m\u001b[1;33m\u001b[0m\u001b[0m\n\u001b[0;32m    392\u001b[0m     \u001b[0mt\u001b[0m\u001b[1;33m,\u001b[0m \u001b[0mresult_t\u001b[0m \u001b[1;33m=\u001b[0m \u001b[0m_commonType\u001b[0m\u001b[1;33m(\u001b[0m\u001b[0ma\u001b[0m\u001b[1;33m,\u001b[0m \u001b[0mb\u001b[0m\u001b[1;33m)\u001b[0m\u001b[1;33m\u001b[0m\u001b[1;33m\u001b[0m\u001b[0m\n",
      "\u001b[1;32mC:\\ProgramData\\Anaconda3\\lib\\site-packages\\numpy\\linalg\\linalg.py\u001b[0m in \u001b[0;36m_assertNdSquareness\u001b[1;34m(*arrays)\u001b[0m\n\u001b[0;32m    211\u001b[0m         \u001b[0mm\u001b[0m\u001b[1;33m,\u001b[0m \u001b[0mn\u001b[0m \u001b[1;33m=\u001b[0m \u001b[0ma\u001b[0m\u001b[1;33m.\u001b[0m\u001b[0mshape\u001b[0m\u001b[1;33m[\u001b[0m\u001b[1;33m-\u001b[0m\u001b[1;36m2\u001b[0m\u001b[1;33m:\u001b[0m\u001b[1;33m]\u001b[0m\u001b[1;33m\u001b[0m\u001b[1;33m\u001b[0m\u001b[0m\n\u001b[0;32m    212\u001b[0m         \u001b[1;32mif\u001b[0m \u001b[0mm\u001b[0m \u001b[1;33m!=\u001b[0m \u001b[0mn\u001b[0m\u001b[1;33m:\u001b[0m\u001b[1;33m\u001b[0m\u001b[1;33m\u001b[0m\u001b[0m\n\u001b[1;32m--> 213\u001b[1;33m             \u001b[1;32mraise\u001b[0m \u001b[0mLinAlgError\u001b[0m\u001b[1;33m(\u001b[0m\u001b[1;34m'Last 2 dimensions of the array must be square'\u001b[0m\u001b[1;33m)\u001b[0m\u001b[1;33m\u001b[0m\u001b[1;33m\u001b[0m\u001b[0m\n\u001b[0m\u001b[0;32m    214\u001b[0m \u001b[1;33m\u001b[0m\u001b[0m\n\u001b[0;32m    215\u001b[0m \u001b[1;32mdef\u001b[0m \u001b[0m_assertFinite\u001b[0m\u001b[1;33m(\u001b[0m\u001b[1;33m*\u001b[0m\u001b[0marrays\u001b[0m\u001b[1;33m)\u001b[0m\u001b[1;33m:\u001b[0m\u001b[1;33m\u001b[0m\u001b[1;33m\u001b[0m\u001b[0m\n",
      "\u001b[1;31mLinAlgError\u001b[0m: Last 2 dimensions of the array must be square"
     ]
    }
   ],
   "source": [
    "np.linalg.solve(A.transpose(),b)"
   ]
  },
  {
   "cell_type": "code",
   "execution_count": 196,
   "metadata": {},
   "outputs": [
    {
     "data": {
      "text/plain": [
       "\"Here we have the same problem. As A is not square matrix, it's transpose is not square too.\""
      ]
     },
     "execution_count": 196,
     "metadata": {},
     "output_type": "execute_result"
    }
   ],
   "source": [
    "\"\"\"Here we have the same problem. As A is not square matrix, it's transpose is not square too.\"\"\""
   ]
  },
  {
   "cell_type": "code",
   "execution_count": 197,
   "metadata": {},
   "outputs": [
    {
     "data": {
      "text/plain": [
       "array([[1.0000000e+00],\n",
       "       [4.4408921e-16]])"
      ]
     },
     "execution_count": 197,
     "metadata": {},
     "output_type": "execute_result"
    }
   ],
   "source": [
    "A_pinv = np.linalg.pinv(A.T)\n",
    "x = np.dot(A_pinv,b)\n",
    "x"
   ]
  },
  {
   "cell_type": "code",
   "execution_count": 198,
   "metadata": {},
   "outputs": [
    {
     "data": {
      "text/plain": [
       "'\\n    transpose(A) is a matrix 3*2 and b is a matrix 3*1, So x should be  a matrix 2*1 that by multiplication by A gives b.\\n'"
      ]
     },
     "execution_count": 198,
     "metadata": {},
     "output_type": "execute_result"
    }
   ],
   "source": [
    "\"\"\"\n",
    "    transpose(A) is a matrix 3*2 and b is a matrix 3*1, So x should be  a matrix 2*1 that by multiplication by A gives b.\n",
    "\"\"\""
   ]
  },
  {
   "cell_type": "markdown",
   "metadata": {},
   "source": [
    "f) One of the two tasks above make sense from a mathematical point of view. Find a best solution $x$ in the least squares sense."
   ]
  },
  {
   "cell_type": "code",
   "execution_count": 199,
   "metadata": {},
   "outputs": [
    {
     "data": {
      "text/plain": [
       "array([[1.00000000e+00],\n",
       "       [4.15407418e-16]])"
      ]
     },
     "execution_count": 199,
     "metadata": {},
     "output_type": "execute_result"
    }
   ],
   "source": [
    "x1=np.linalg.lstsq(A.transpose(), b, rcond=None)[0]\n",
    "x1"
   ]
  },
  {
   "cell_type": "markdown",
   "metadata": {},
   "source": [
    "g) Is the resulting $Ax$ or $A^Tx$ (depending on your choice above) close to $b$? What is the norm-2-distance between the vectors?"
   ]
  },
  {
   "cell_type": "code",
   "execution_count": 200,
   "metadata": {},
   "outputs": [
    {
     "data": {
      "text/plain": [
       "array([[1.],\n",
       "       [2.],\n",
       "       [3.]])"
      ]
     },
     "execution_count": 200,
     "metadata": {},
     "output_type": "execute_result"
    }
   ],
   "source": [
    "(A.T).dot(x)"
   ]
  },
  {
   "cell_type": "code",
   "execution_count": 201,
   "metadata": {},
   "outputs": [
    {
     "data": {
      "text/plain": [
       "array([[1.],\n",
       "       [2.],\n",
       "       [3.]])"
      ]
     },
     "execution_count": 201,
     "metadata": {},
     "output_type": "execute_result"
    }
   ],
   "source": [
    "(A.T).dot(x1)"
   ]
  },
  {
   "cell_type": "code",
   "execution_count": 202,
   "metadata": {},
   "outputs": [
    {
     "data": {
      "text/plain": [
       "8.671119018262734e-16"
      ]
     },
     "execution_count": 202,
     "metadata": {},
     "output_type": "execute_result"
    }
   ],
   "source": [
    "dist1 = np.linalg.norm((A.T).dot(x1)-b)\n",
    "dist1"
   ]
  },
  {
   "cell_type": "code",
   "execution_count": 203,
   "metadata": {},
   "outputs": [
    {
     "data": {
      "text/plain": [
       "array([1.88684845e-31])"
      ]
     },
     "execution_count": 203,
     "metadata": {},
     "output_type": "execute_result"
    }
   ],
   "source": [
    "x1, residual, rank,s=np.linalg.lstsq(A.transpose(), b, rcond=None)\n",
    "residual"
   ]
  },
  {
   "cell_type": "markdown",
   "metadata": {},
   "source": [
    "Just to get some practice, run the following to get some test data:"
   ]
  },
  {
   "cell_type": "code",
   "execution_count": 204,
   "metadata": {},
   "outputs": [
    {
     "data": {
      "text/plain": [
       "1.3322676295501878e-15"
      ]
     },
     "execution_count": 204,
     "metadata": {},
     "output_type": "execute_result"
    }
   ],
   "source": [
    "dist = np.linalg.norm((A.T).dot(x)-b)\n",
    "dist"
   ]
  },
  {
   "cell_type": "code",
   "execution_count": 205,
   "metadata": {},
   "outputs": [],
   "source": [
    "import sklearn\n",
    "import sklearn.datasets as ds\n",
    "houses = ds.fetch_california_housing()"
   ]
  },
  {
   "cell_type": "code",
   "execution_count": 206,
   "metadata": {},
   "outputs": [
    {
     "data": {
      "text/plain": [
       "(20640, 8)"
      ]
     },
     "execution_count": 206,
     "metadata": {},
     "output_type": "execute_result"
    }
   ],
   "source": [
    "houses.data.shape"
   ]
  },
  {
   "cell_type": "markdown",
   "metadata": {},
   "source": [
    "h) How many rows does the dataset have? Columns? Find out using numpy. (First check what `houses` actually is)"
   ]
  },
  {
   "cell_type": "code",
   "execution_count": 207,
   "metadata": {},
   "outputs": [
    {
     "data": {
      "text/plain": [
       "(20640, 8)"
      ]
     },
     "execution_count": 207,
     "metadata": {},
     "output_type": "execute_result"
    }
   ],
   "source": [
    "\n",
    "houses.data.shape"
   ]
  },
  {
   "cell_type": "markdown",
   "metadata": {},
   "source": [
    "i) Get the third column (remember: indexing starts at zero, so column number 2) of the dataset by indexing/slicing."
   ]
  },
  {
   "cell_type": "code",
   "execution_count": 208,
   "metadata": {},
   "outputs": [
    {
     "data": {
      "text/plain": [
       "array([6.98412698, 6.23813708, 8.28813559, ..., 5.20554273, 5.32951289,\n",
       "       5.25471698])"
      ]
     },
     "execution_count": 208,
     "metadata": {},
     "output_type": "execute_result"
    }
   ],
   "source": [
    "houses.data[:,2]"
   ]
  },
  {
   "cell_type": "markdown",
   "metadata": {},
   "source": [
    "j) Get the values of the third, fourth and hundredrth rows (that is, index 2, 3, 99)."
   ]
  },
  {
   "cell_type": "code",
   "execution_count": 209,
   "metadata": {},
   "outputs": [
    {
     "data": {
      "text/plain": [
       "array([[ 7.25740000e+00,  5.20000000e+01,  8.28813559e+00,\n",
       "         1.07344633e+00,  4.96000000e+02,  2.80225989e+00,\n",
       "         3.78500000e+01, -1.22240000e+02],\n",
       "       [ 5.64310000e+00,  5.20000000e+01,  5.81735160e+00,\n",
       "         1.07305936e+00,  5.58000000e+02,  2.54794521e+00,\n",
       "         3.78500000e+01, -1.22250000e+02],\n",
       "       [ 2.61040000e+00,  3.70000000e+01,  3.70714286e+00,\n",
       "         1.10714286e+00,  1.83800000e+03,  1.87551020e+00,\n",
       "         3.78200000e+01, -1.22260000e+02]])"
      ]
     },
     "execution_count": 209,
     "metadata": {},
     "output_type": "execute_result"
    }
   ],
   "source": [
    "houses.data[[2,3,99],]"
   ]
  },
  {
   "cell_type": "markdown",
   "metadata": {},
   "source": [
    "k) Mathematical sanity check: without actually computing the rank of ```houses.data```, can you provide a bound? Could it have $10^{15}$ linearly independent rows? 2000? Etc. Write down the tightest bound you can find, and explain why briefly."
   ]
  },
  {
   "cell_type": "code",
   "execution_count": 210,
   "metadata": {},
   "outputs": [
    {
     "data": {
      "text/plain": [
       "'\\nRank of a matrix demonstrates the linearity independence of a matrix, and row-rank of a matrix= column-rank of a matrix=rank\\nSo for this matrix maximum rank should be 8.\\n'"
      ]
     },
     "execution_count": 210,
     "metadata": {},
     "output_type": "execute_result"
    }
   ],
   "source": [
    "'''\n",
    "Rank of a matrix demonstrates the linearity independence of a matrix, and row-rank of a matrix= column-rank of a matrix=rank\n",
    "So for this matrix maximum rank should be 8.\n",
    "'''"
   ]
  },
  {
   "cell_type": "markdown",
   "metadata": {},
   "source": [
    "l) Find out the actual rank of the matrix using numpy. "
   ]
  },
  {
   "cell_type": "code",
   "execution_count": 211,
   "metadata": {},
   "outputs": [
    {
     "data": {
      "text/plain": [
       "8"
      ]
     },
     "execution_count": 211,
     "metadata": {},
     "output_type": "execute_result"
    }
   ],
   "source": [
    "rank = np.linalg.matrix_rank(houses.data)\n",
    "rank"
   ]
  },
  {
   "cell_type": "markdown",
   "metadata": {},
   "source": [
    "# 6. A simple classifier"
   ]
  },
  {
   "cell_type": "markdown",
   "metadata": {},
   "source": [
    "Our goal in this section is to build a naïve subspace-projection based classifier which takes a numerical vector and produces a label. We will build this from the ground up (there are many libraries that perform this automatically, but may not use them in this case).\n",
    "\n",
    "We will first practice our numpy (and linear algebra) skills to build the algorithm, and then encapsulate data and methods in a class. We will be taking a slightly different route than more general SVD methods for finding principal components, simply because this is not our task. This is worth remembering if you find material on the subject!\n",
    "\n",
    "The main idea here is to pick out all the data corresponding to a certain set of vectors, and reduce this matrix to some rank $\\leq k$ matrix which is a good approximation of the row space in some sense (here: the sense that the vectors correspond to maximal singular values). A naïve classification is then given by picking the subspace which is closest by orthogonal projection."
   ]
  },
  {
   "cell_type": "markdown",
   "metadata": {},
   "source": [
    "## The dataset"
   ]
  },
  {
   "cell_type": "markdown",
   "metadata": {},
   "source": [
    "First, we will import some data. Here we use the classic MNIST data set of handwritten digits. We can naturally partition the sets of vectors used for training and validation in many ways. Feel free to experiment with a nicer (possibly non-deterministic) version later. This is only to get us started, and to have a set of data with known properties (which is helpful for lab assistants)."
   ]
  },
  {
   "cell_type": "code",
   "execution_count": 212,
   "metadata": {},
   "outputs": [
    {
     "data": {
      "text/plain": [
       "(600, 64)"
      ]
     },
     "execution_count": 212,
     "metadata": {},
     "output_type": "execute_result"
    }
   ],
   "source": [
    "import sklearn.datasets as ds\n",
    "digits = ds.load_digits()\n",
    "training_digits = digits.data[0:600, :]\n",
    "training_labels = digits.target[0:600]\n",
    "training_digits.shape\n",
    "# The set of labels can be found in digits.target_names."
   ]
  },
  {
   "cell_type": "markdown",
   "metadata": {},
   "source": [
    "If we are curious, we can view the images from the dataset."
   ]
  },
  {
   "cell_type": "code",
   "execution_count": 213,
   "metadata": {},
   "outputs": [
    {
     "data": {
      "text/plain": [
       "Text(0.5, 0, 'Index: 2, actually the number 2')"
      ]
     },
     "execution_count": 213,
     "metadata": {},
     "output_type": "execute_result"
    },
    {
     "data": {
      "image/png": "[encoded data removed]",
      "text/plain": [
       "<Figure size 432x288 with 1 Axes>"
      ]
     },
     "metadata": {
      "needs_background": "light"
     },
     "output_type": "display_data"
    }
   ],
   "source": [
    "%matplotlib inline\n",
    "from matplotlib import pyplot as plt \n",
    "# We show one of the digits.\n",
    "d_index = 2\n",
    "plt.imshow(training_digits[d_index].reshape(8,8))\n",
    "plt.xlabel(f\"Index: {d_index}, actually the number {training_labels[d_index]}\")\n",
    "# Note: digits.images[i] is the same as digits.data[i], but in 8x8 format (no need to reshape).\n",
    "# We would however like to stress that the 64 pixel images we'll be working with are stored in vector format."
   ]
  },
  {
   "cell_type": "code",
   "execution_count": 214,
   "metadata": {},
   "outputs": [
    {
     "data": {
      "text/plain": [
       "array([[ 0.,  0., 11., ...,  3.,  0.,  0.],\n",
       "       [ 0.,  0.,  6., ..., 13., 11.,  1.],\n",
       "       [ 0.,  0.,  9., ..., 12., 11.,  0.],\n",
       "       ...,\n",
       "       [ 0.,  0.,  2., ..., 16.,  6.,  0.],\n",
       "       [ 0.,  0.,  1., ...,  7.,  0.,  0.],\n",
       "       [ 0.,  0.,  6., ..., 12.,  0.,  0.]])"
      ]
     },
     "execution_count": 214,
     "metadata": {},
     "output_type": "execute_result"
    }
   ],
   "source": [
    "#training_labels\n",
    "training_digits[np.where(training_labels == 9)]\n"
   ]
  },
  {
   "cell_type": "code",
   "execution_count": 215,
   "metadata": {},
   "outputs": [
    {
     "data": {
      "text/plain": [
       "(1797, 64)"
      ]
     },
     "execution_count": 215,
     "metadata": {},
     "output_type": "execute_result"
    }
   ],
   "source": [
    "digits.data.shape"
   ]
  },
  {
   "cell_type": "markdown",
   "metadata": {},
   "source": [
    "## Tasks"
   ]
  },
  {
   "cell_type": "markdown",
   "metadata": {},
   "source": [
    "a) Get all rows with label 4. Store that in the matrix $A_4$. Similarly for $A_9$. This should be two single lines of code!"
   ]
  },
  {
   "cell_type": "code",
   "execution_count": 216,
   "metadata": {},
   "outputs": [
    {
     "data": {
      "text/plain": [
       "(57, 64)"
      ]
     },
     "execution_count": 216,
     "metadata": {},
     "output_type": "execute_result"
    }
   ],
   "source": [
    "a4 = training_digits[np.where(training_labels == 4)]    # Replace with your code.\n",
    "a9 = training_digits[np.where(training_labels == 9)] \n",
    "a4.shape\n",
    "# Replace with your code."
   ]
  },
  {
   "cell_type": "markdown",
   "metadata": {},
   "source": [
    "b) Compute the thin SVD $A_4 = U_4\\Sigma_4 V^T_4$ and similarly for $A_9$. Thin here means that you do not necessarily get the full-rank square $U,V^T$ matrices."
   ]
  },
  {
   "cell_type": "code",
   "execution_count": 217,
   "metadata": {},
   "outputs": [],
   "source": [
    "u4,sigma4,vt4=np.linalg.svd(a4, full_matrices=False)"
   ]
  },
  {
   "cell_type": "code",
   "execution_count": 218,
   "metadata": {},
   "outputs": [],
   "source": [
    "u9,sigma9,vt9=np.linalg.svd(a9, full_matrices=False)"
   ]
  },
  {
   "cell_type": "markdown",
   "metadata": {},
   "source": [
    "**Note** Our data is stored by row (one row per digit). What we use the different matrices in the decomposition for is thus slightly different than if it was stored by column. Instead of picking the best $k$ columns of $U$ we pick the best $k$ rows of $V^T$."
   ]
  },
  {
   "cell_type": "markdown",
   "metadata": {},
   "source": [
    "c) Let $sample4$ be the first row of $A_4$ and $sample9$ be the first row of $A_9$."
   ]
  },
  {
   "cell_type": "code",
   "execution_count": 219,
   "metadata": {},
   "outputs": [],
   "source": [
    "sample4=a4[0,:]\n",
    "sample9=a9[0,:]"
   ]
  },
  {
   "cell_type": "code",
   "execution_count": 220,
   "metadata": {},
   "outputs": [
    {
     "data": {
      "text/plain": [
       "array([ 0.,  0.,  0.,  1., 11.,  0.,  0.,  0.,  0.,  0.,  0.,  7.,  8.,\n",
       "        0.,  0.,  0.,  0.,  0.,  1., 13.,  6.,  2.,  2.,  0.,  0.,  0.,\n",
       "        7., 15.,  0.,  9.,  8.,  0.,  0.,  5., 16., 10.,  0., 16.,  6.,\n",
       "        0.,  0.,  4., 15., 16., 13., 16.,  1.,  0.,  0.,  0.,  0.,  3.,\n",
       "       15., 10.,  0.,  0.,  0.,  0.,  0.,  2., 16.,  4.,  0.,  0.])"
      ]
     },
     "execution_count": 220,
     "metadata": {},
     "output_type": "execute_result"
    }
   ],
   "source": [
    "sample4"
   ]
  },
  {
   "cell_type": "code",
   "execution_count": 221,
   "metadata": {},
   "outputs": [
    {
     "data": {
      "text/plain": [
       "array([ 0.,  0., 11., 12.,  0.,  0.,  0.,  0.,  0.,  2., 16., 16., 16.,\n",
       "       13.,  0.,  0.,  0.,  3., 16., 12., 10., 14.,  0.,  0.,  0.,  1.,\n",
       "       16.,  1., 12., 15.,  0.,  0.,  0.,  0., 13., 16.,  9., 15.,  2.,\n",
       "        0.,  0.,  0.,  0.,  3.,  0.,  9., 11.,  0.,  0.,  0.,  0.,  0.,\n",
       "        9., 15.,  4.,  0.,  0.,  0.,  9., 12., 13.,  3.,  0.,  0.])"
      ]
     },
     "execution_count": 221,
     "metadata": {},
     "output_type": "execute_result"
    }
   ],
   "source": [
    "sample9"
   ]
  },
  {
   "cell_type": "markdown",
   "metadata": {},
   "source": [
    "d) Let $R$ be the first 3 rows of $V^T$. Compute the orthogonal projection of $sample4$ onto the row space of $R_4$, and onto the row space of $R_9$"
   ]
  },
  {
   "cell_type": "code",
   "execution_count": 222,
   "metadata": {},
   "outputs": [],
   "source": [
    "r4 = vt4[0:3,:]  \n",
    "r9 = vt9[0:3,:]  \n",
    "\n",
    "coeffs_in_r4 = r4 @ sample4.transpose()  \n",
    "coeffs_in_r9 = r9 @ sample9.transpose() \n",
    "\n",
    "sample4_in_r4 = coeffs_in_r4 @ r4   # Linear combination of rows in R4\n",
    "sample4_in_r9 = coeffs_in_r9 @ r9   "
   ]
  },
  {
   "cell_type": "markdown",
   "metadata": {},
   "source": [
    "[Mathematical aside: where did the $\\Sigma$ go? This is a very important matrix, and strongly affects both interpretations and (in general) row- and column spaces. *Assuming* that the rank is $\\geq 3$ the row spaces should be the same whether or not we scale the basis vectors by some $\\sigma_i$ (since $\\sigma_i > 0$ for all $i=1,2,\\ldots, r$). That is enough for our application, though the interpretations of the vectors might be different. The rank assumption is rather important, and we will make rather casually based on knowledge about the data set. Later, we'll include a check for this in our code.]"
   ]
  },
  {
   "cell_type": "markdown",
   "metadata": {},
   "source": [
    "e) Which of the projections is closest to sample4 (in the sense that the difference (sample4_in_z**?**t - sample4) as the smallest 2-norm?"
   ]
  },
  {
   "cell_type": "code",
   "execution_count": 223,
   "metadata": {},
   "outputs": [
    {
     "name": "stdout",
     "output_type": "stream",
     "text": [
      "19.75899698363075\n",
      "29.93786823269645\n"
     ]
    }
   ],
   "source": [
    "print(np.linalg.norm(sample4_in_r4 - sample4))\n",
    "print(np.linalg.norm(sample4_in_r9 - sample9))\n"
   ]
  },
  {
   "cell_type": "markdown",
   "metadata": {},
   "source": [
    "f) Create a function `split_data(data, data_labels, labels)` which takes a matrix of data (such as `training_data`), the labels of all rows (such as `training_labels`) and a vector of the labels (here the numbers 0,...,9) and returns a dictionary mapping a label to the matrix of all corresponding data. \n",
    "\n",
    "Here the dictionary would for instance have the key 2, and the corresponding value be the matrix of all the images in `data` classified as the number 2."
   ]
  },
  {
   "cell_type": "code",
   "execution_count": 224,
   "metadata": {},
   "outputs": [
    {
     "data": {
      "text/plain": [
       "{1: array([[ 0.,  0.,  0., ..., 10.,  0.,  0.],\n",
       "        [ 0.,  0.,  0., ..., 16.,  1.,  0.],\n",
       "        [ 0.,  0.,  0., ..., 15.,  4.,  0.],\n",
       "        ...,\n",
       "        [ 0.,  0., 10., ..., 16., 16., 11.],\n",
       "        [ 0.,  0.,  3., ..., 16., 15., 11.],\n",
       "        [ 0.,  0.,  5., ..., 16., 11.,  2.]]),\n",
       " 2: array([[ 0.,  0.,  0., ..., 16.,  9.,  0.],\n",
       "        [ 0.,  0.,  5., ..., 13., 12.,  4.],\n",
       "        [ 0.,  0.,  8., ..., 12., 13.,  1.],\n",
       "        ...,\n",
       "        [ 0.,  0.,  3., ..., 12., 14.,  7.],\n",
       "        [ 0.,  0.,  7., ..., 12., 12., 11.],\n",
       "        [ 0.,  0.,  9., ..., 16., 16.,  3.]]),\n",
       " 3: array([[ 0.,  0.,  7., ...,  9.,  0.,  0.],\n",
       "        [ 0.,  2.,  9., ..., 11.,  0.,  0.],\n",
       "        [ 0.,  1.,  8., ...,  2.,  0.,  0.],\n",
       "        ...,\n",
       "        [ 0.,  0.,  0., ..., 16., 11.,  0.],\n",
       "        [ 0.,  0.,  0., ..., 16.,  9.,  0.],\n",
       "        [ 0.,  0.,  1., ..., 16., 16.,  8.]]),\n",
       " 4: array([[0., 0., 0., ..., 4., 0., 0.],\n",
       "        [0., 0., 0., ..., 4., 0., 0.],\n",
       "        [0., 0., 0., ..., 8., 0., 0.],\n",
       "        ...,\n",
       "        [0., 0., 0., ..., 0., 0., 0.],\n",
       "        [0., 0., 0., ..., 0., 0., 0.],\n",
       "        [0., 0., 3., ..., 0., 0., 0.]]),\n",
       " 5: array([[ 0.,  0., 12., ..., 10.,  0.,  0.],\n",
       "        [ 0.,  5., 12., ...,  0.,  0.,  0.],\n",
       "        [ 0.,  0., 12., ...,  0.,  0.,  0.],\n",
       "        ...,\n",
       "        [ 0.,  0., 11., ...,  2.,  0.,  0.],\n",
       "        [ 0.,  1.,  9., ...,  1.,  0.,  0.],\n",
       "        [ 0.,  0.,  9., ...,  7.,  0.,  0.]]),\n",
       " 6: array([[ 0.,  0.,  0., ..., 11.,  3.,  0.],\n",
       "        [ 0.,  0.,  0., ..., 16., 11.,  0.],\n",
       "        [ 0.,  0.,  1., ..., 14.,  7.,  0.],\n",
       "        ...,\n",
       "        [ 0.,  0.,  0., ..., 16.,  7.,  0.],\n",
       "        [ 0.,  0.,  0., ...,  5.,  0.,  0.],\n",
       "        [ 0.,  0.,  0., ..., 12.,  0.,  0.]]),\n",
       " 7: array([[0., 0., 7., ..., 0., 0., 0.],\n",
       "        [0., 0., 1., ..., 0., 0., 0.],\n",
       "        [0., 0., 0., ..., 1., 0., 0.],\n",
       "        ...,\n",
       "        [0., 0., 9., ..., 0., 0., 0.],\n",
       "        [0., 0., 3., ..., 0., 0., 0.],\n",
       "        [0., 0., 6., ..., 0., 0., 0.]]),\n",
       " 8: array([[ 0.,  0.,  9., ..., 11.,  1.,  0.],\n",
       "        [ 0.,  0., 10., ...,  0.,  0.,  0.],\n",
       "        [ 0.,  0., 10., ...,  1.,  0.,  0.],\n",
       "        ...,\n",
       "        [ 0.,  0.,  0., ..., 16., 14.,  0.],\n",
       "        [ 0.,  0.,  0., ..., 15., 13.,  0.],\n",
       "        [ 0.,  0.,  0., ..., 15., 15.,  0.]]),\n",
       " 9: array([[ 0.,  0., 11., ...,  3.,  0.,  0.],\n",
       "        [ 0.,  0.,  6., ..., 13., 11.,  1.],\n",
       "        [ 0.,  0.,  9., ..., 12., 11.,  0.],\n",
       "        ...,\n",
       "        [ 0.,  0.,  2., ..., 16.,  6.,  0.],\n",
       "        [ 0.,  0.,  1., ...,  7.,  0.,  0.],\n",
       "        [ 0.,  0.,  6., ..., 12.,  0.,  0.]])}"
      ]
     },
     "execution_count": 224,
     "metadata": {},
     "output_type": "execute_result"
    }
   ],
   "source": [
    "a=np.array([1,2,3,4,5,6,7,8,9])\n",
    "def split_data(data,data_labels,labels):\n",
    "    label_data=[np.where(data_labels==label) for label in labels]\n",
    "    val_data = [data[i] for i in label_data]\n",
    "    dict_d=dict(zip(labels,val_data))\n",
    "    return dict_d\n",
    "        \n",
    "labelled_data =split_data(training_digits,training_labels,a)\n",
    "labelled_data"
   ]
  },
  {
   "cell_type": "markdown",
   "metadata": {},
   "source": [
    "f) Create a function `subspaces(labelled_data, k = 3)` that takes a dictionary such as above, and returns a dictionary mapping every occurring label $d$ to the respective $Z_d$ matrix with at most $k$ rows. Here the $Z_d$ matrices is defined as above, the best norm-2-approximation. If a particular matrix has a rank $r < k$, we should only keep $r$ rows (say, if there were many more *different* digit 9-rows in the training set, than digit 1:s)!"
   ]
  },
  {
   "cell_type": "code",
   "execution_count": 225,
   "metadata": {},
   "outputs": [
    {
     "data": {
      "text/plain": [
       "{0: array([[-2.22044605e-16, -1.11022302e-16, -6.22677983e-02,\n",
       "         -2.21559903e-01, -1.85755698e-01, -4.65294746e-02,\n",
       "         -7.19433898e-04,  0.00000000e+00,  0.00000000e+00,\n",
       "         -1.60651048e-02, -2.16411071e-01, -2.37672403e-01,\n",
       "         -2.21536861e-01, -1.79709853e-01, -1.83977537e-02,\n",
       "          0.00000000e+00,  0.00000000e+00, -7.07286375e-02,\n",
       "         -2.54589437e-01, -8.91593640e-02, -5.90627625e-02,\n",
       "         -2.16965843e-01, -5.69881345e-02,  0.00000000e+00,\n",
       "          0.00000000e+00, -9.37520410e-02, -2.30953456e-01,\n",
       "         -2.86090093e-02, -5.65268834e-03, -1.75885867e-01,\n",
       "         -1.01780725e-01,  0.00000000e+00,  0.00000000e+00,\n",
       "         -9.65548729e-02, -2.06667165e-01, -1.69539405e-02,\n",
       "          0.00000000e+00, -1.64728706e-01, -1.15771415e-01,\n",
       "          0.00000000e+00,  0.00000000e+00, -5.32815091e-02,\n",
       "         -2.34992285e-01, -4.22723136e-02, -1.81644481e-02,\n",
       "         -1.96313998e-01, -1.02663267e-01,  0.00000000e+00,\n",
       "          0.00000000e+00, -1.13684202e-02, -2.20736164e-01,\n",
       "         -1.81633742e-01, -1.83171998e-01, -2.36795911e-01,\n",
       "         -4.65012122e-02,  0.00000000e+00,  0.00000000e+00,\n",
       "          0.00000000e+00, -6.69036074e-02, -2.21787055e-01,\n",
       "         -2.26462673e-01, -9.22151482e-02, -4.00727982e-03,\n",
       "          0.00000000e+00],\n",
       "        [ 1.11022302e-16,  2.22044605e-16, -1.28439135e-01,\n",
       "         -6.61924311e-02, -2.30318912e-01, -2.89592454e-01,\n",
       "         -1.00651332e-02,  0.00000000e+00, -5.42101086e-20,\n",
       "          8.63401760e-03, -1.69924854e-01,  1.00486759e-02,\n",
       "          2.01664158e-01, -3.51256221e-01, -1.58518402e-01,\n",
       "          0.00000000e+00, -3.15544362e-30,  1.06861995e-02,\n",
       "         -6.13633367e-02,  1.95084474e-01,  3.11819649e-01,\n",
       "          1.63424692e-01, -2.56745159e-01,  0.00000000e+00,\n",
       "          0.00000000e+00, -6.12712869e-02,  2.94109953e-02,\n",
       "          1.18786724e-01,  3.08840015e-02,  2.47414704e-01,\n",
       "         -1.71886829e-01,  0.00000000e+00,  0.00000000e+00,\n",
       "         -6.28800553e-02,  1.29105475e-01,  7.84808425e-02,\n",
       "          0.00000000e+00,  1.27912455e-01, -1.62704935e-02,\n",
       "          0.00000000e+00,  0.00000000e+00, -7.51883676e-02,\n",
       "          1.42683805e-02,  2.44989872e-01,  5.40188784e-02,\n",
       "         -1.43448600e-03,  1.37905987e-01,  0.00000000e+00,\n",
       "          0.00000000e+00, -3.72596662e-02, -1.39311121e-01,\n",
       "          2.29713823e-01,  1.12290028e-01,  2.33407188e-02,\n",
       "          1.06291350e-01,  0.00000000e+00,  0.00000000e+00,\n",
       "          0.00000000e+00, -1.27842872e-01, -1.61720136e-01,\n",
       "         -4.03061431e-02,  9.07941773e-02,  6.42486419e-03,\n",
       "          0.00000000e+00],\n",
       "        [-6.17561557e-16,  2.22044605e-16, -1.81624526e-02,\n",
       "         -8.52446485e-02,  5.45895419e-02,  1.41405681e-01,\n",
       "          6.33760137e-03,  0.00000000e+00, -6.93889390e-18,\n",
       "         -5.89961829e-02, -8.15676781e-02,  1.85716598e-02,\n",
       "         -3.55434988e-02,  1.33767904e-01,  1.13796932e-01,\n",
       "          0.00000000e+00,  0.00000000e+00, -1.16742230e-01,\n",
       "         -9.17473985e-03,  2.09804594e-01, -1.35393819e-02,\n",
       "         -9.32768905e-02,  1.55377042e-01,  0.00000000e+00,\n",
       "          0.00000000e+00, -9.71539655e-02,  8.42488817e-02,\n",
       "          3.23866523e-02,  1.26978116e-02,  8.83592560e-02,\n",
       "         -4.61345274e-02,  0.00000000e+00,  0.00000000e+00,\n",
       "         -1.40073708e-01,  1.01261670e-01,  4.49939677e-02,\n",
       "          0.00000000e+00,  2.71478691e-01, -1.74029521e-01,\n",
       "          0.00000000e+00,  0.00000000e+00, -7.40213711e-02,\n",
       "         -9.27031669e-04,  1.66726906e-01,  1.53983917e-01,\n",
       "          3.45540730e-01, -3.29264630e-01,  0.00000000e+00,\n",
       "          0.00000000e+00, -3.31027155e-03, -7.20777053e-02,\n",
       "          8.63863373e-02,  2.59668773e-01, -1.53515338e-01,\n",
       "         -3.29292801e-01,  0.00000000e+00,  0.00000000e+00,\n",
       "          0.00000000e+00, -5.04540790e-02, -6.72314286e-02,\n",
       "         -1.48213664e-01, -3.78706010e-01, -5.59065440e-02,\n",
       "          0.00000000e+00],\n",
       "        [-6.93889390e-16,  1.38777878e-17, -1.26612709e-01,\n",
       "         -8.60136927e-02,  1.71874835e-02,  1.78949710e-01,\n",
       "          2.29045085e-03,  0.00000000e+00, -1.38777878e-17,\n",
       "         -8.40522278e-02, -1.40918125e-01,  2.57152081e-01,\n",
       "          3.71614754e-03,  5.22483373e-02,  9.02825078e-02,\n",
       "          0.00000000e+00,  0.00000000e+00, -1.31119781e-01,\n",
       "          1.13066552e-01,  3.95011385e-01, -9.81433552e-02,\n",
       "         -2.99130950e-01,  7.93205919e-02,  0.00000000e+00,\n",
       "          0.00000000e+00, -1.27856902e-01,  2.30896844e-01,\n",
       "          2.22678202e-01, -4.29337229e-02, -3.50481872e-01,\n",
       "          1.05257486e-01,  0.00000000e+00,  0.00000000e+00,\n",
       "         -8.00442759e-02,  1.20791569e-01,  1.16074465e-01,\n",
       "          0.00000000e+00, -2.88582899e-01,  1.06214176e-01,\n",
       "          0.00000000e+00,  0.00000000e+00, -4.02995505e-02,\n",
       "          2.04555393e-02,  1.48585101e-01, -6.13527972e-03,\n",
       "         -2.30826718e-01,  1.34973305e-01,  0.00000000e+00,\n",
       "          0.00000000e+00, -4.97047199e-02, -9.05808150e-03,\n",
       "          1.82111433e-01, -7.22452123e-03,  2.45699130e-02,\n",
       "          1.16350987e-01,  0.00000000e+00,  0.00000000e+00,\n",
       "          0.00000000e+00, -8.74956766e-02, -6.88164286e-02,\n",
       "          4.12053536e-03,  8.28007295e-02, -4.36743240e-03,\n",
       "          0.00000000e+00],\n",
       "        [ 7.77156117e-16,  6.10622664e-16, -2.87044168e-01,\n",
       "         -2.29779300e-02,  3.70984569e-01,  1.58060620e-01,\n",
       "          1.07432263e-03,  0.00000000e+00, -2.77555756e-17,\n",
       "         -2.28767330e-02, -1.48255278e-01, -1.42873680e-01,\n",
       "         -1.76486014e-01,  2.82724388e-01,  2.49762658e-02,\n",
       "          5.29395592e-23,  0.00000000e+00,  5.90626335e-03,\n",
       "         -7.38055812e-02, -2.50102171e-01, -1.69300873e-01,\n",
       "          1.57044355e-01,  4.08826243e-02,  0.00000000e+00,\n",
       "          0.00000000e+00, -3.02439329e-02, -1.16700833e-01,\n",
       "         -5.75335477e-02,  1.16382994e-02,  1.61606526e-01,\n",
       "         -2.60304989e-02,  0.00000000e+00,  0.00000000e+00,\n",
       "         -6.88461051e-02,  8.42767912e-02,  6.21129205e-02,\n",
       "          0.00000000e+00,  8.87752256e-02, -2.92380500e-02,\n",
       "          0.00000000e+00,  0.00000000e+00, -1.51037613e-01,\n",
       "          1.06211310e-01,  1.96015206e-01, -4.47064328e-02,\n",
       "         -2.93994519e-02,  4.47001400e-02,  0.00000000e+00,\n",
       "          0.00000000e+00, -6.21078563e-02, -2.44980163e-01,\n",
       "          1.98003983e-01, -1.27649434e-01,  4.39253132e-02,\n",
       "          7.84959475e-02,  0.00000000e+00,  0.00000000e+00,\n",
       "          0.00000000e+00, -3.14774766e-01, -1.51392734e-01,\n",
       "          1.56404265e-01,  2.37199295e-01,  5.90448103e-03,\n",
       "          0.00000000e+00],\n",
       "        [-4.85722573e-16, -3.33066907e-16,  4.85371700e-02,\n",
       "         -2.16333860e-03,  2.41451952e-02, -7.20691900e-02,\n",
       "         -1.28681615e-03,  5.55111512e-17,  0.00000000e+00,\n",
       "          4.27110185e-02,  5.76366774e-03, -1.45394145e-01,\n",
       "          1.00019250e-01, -1.31351999e-01, -2.49376714e-02,\n",
       "          1.35525272e-20,  6.77626358e-21,  1.42886869e-01,\n",
       "         -1.34118251e-01, -3.71163718e-01, -2.92112763e-01,\n",
       "         -7.54228962e-02,  4.57570848e-02,  0.00000000e+00,\n",
       "         -2.52435490e-29,  1.26935324e-01, -6.12411588e-03,\n",
       "         -1.24754824e-01, -4.71761570e-02, -1.05432413e-01,\n",
       "          1.35365504e-01,  0.00000000e+00,  7.34683969e-40,\n",
       "          3.93390421e-02,  1.13703164e-01,  5.93606026e-02,\n",
       "          1.40129846e-44, -1.91888850e-01,  2.01438360e-01,\n",
       "         -3.36311631e-44, -1.96181785e-44,  3.88539899e-02,\n",
       "         -2.50630248e-02,  1.92105129e-01,  5.79851312e-02,\n",
       "         -4.21748748e-03,  2.09400041e-01,  0.00000000e+00,\n",
       "          0.00000000e+00,  4.00323131e-02,  1.25329331e-03,\n",
       "          3.57545879e-01,  4.18189075e-01, -1.50368662e-02,\n",
       "          4.40797939e-02,  0.00000000e+00,  0.00000000e+00,\n",
       "          0.00000000e+00,  5.85676409e-02, -4.13845965e-03,\n",
       "         -2.12088677e-01, -2.66108206e-01, -3.03416026e-02,\n",
       "          0.00000000e+00],\n",
       "        [-1.16573418e-15,  0.00000000e+00, -2.88344851e-02,\n",
       "          8.73965958e-02,  1.00380400e-02,  2.81503509e-01,\n",
       "          2.36665307e-02,  0.00000000e+00, -3.46944695e-17,\n",
       "          1.19834674e-01,  9.86852428e-02,  1.48128399e-01,\n",
       "          9.46504593e-02, -1.79015454e-01,  1.84793579e-01,\n",
       "          3.46944695e-18,  8.67361738e-19,  3.95989661e-01,\n",
       "         -3.07440256e-02, -1.09911319e-02,  2.84533003e-01,\n",
       "         -3.88768193e-01,  1.71363919e-02,  0.00000000e+00,\n",
       "         -8.27180613e-25,  2.82512400e-01, -1.24417188e-01,\n",
       "         -7.84902660e-02,  6.32350650e-02, -9.15699438e-02,\n",
       "         -8.79860436e-02,  0.00000000e+00,  1.92592994e-34,\n",
       "          1.33341215e-01, -2.17555856e-01, -7.89768249e-02,\n",
       "          0.00000000e+00,  4.04490578e-02, -8.45789738e-02,\n",
       "         -3.67341985e-40, -2.23849022e-40, -6.38877009e-02,\n",
       "          1.81230335e-02, -3.08706165e-02, -6.92648774e-02,\n",
       "          1.34966184e-01, -1.28857697e-01,  0.00000000e+00,\n",
       "          0.00000000e+00, -1.03690261e-01, -1.40468467e-01,\n",
       "          2.31764797e-01,  5.50029883e-02, -1.01620624e-01,\n",
       "          8.71738316e-02,  0.00000000e+00,  0.00000000e+00,\n",
       "          0.00000000e+00, -1.52465068e-01, -2.65421021e-02,\n",
       "          1.07721781e-01,  1.07386176e-01,  3.50798836e-02,\n",
       "          0.00000000e+00],\n",
       "        [ 6.17561557e-16, -5.55111512e-16, -1.34528139e-01,\n",
       "          1.49713968e-01,  1.72553922e-02, -1.49644478e-01,\n",
       "         -1.81314061e-02,  4.16333634e-17, -1.87350135e-16,\n",
       "         -6.48920417e-02,  7.55686640e-02, -5.14962596e-02,\n",
       "          1.82354026e-01,  2.64383745e-01, -1.34214314e-01,\n",
       "          2.77555756e-17,  6.93889390e-18,  1.06212591e-01,\n",
       "         -5.21218361e-02,  3.09573567e-01,  1.17295694e-01,\n",
       "          3.51919243e-01, -2.56272056e-02,  0.00000000e+00,\n",
       "          0.00000000e+00,  1.13245772e-01, -1.73572405e-01,\n",
       "         -8.88057361e-02, -4.47177269e-03, -2.35358410e-01,\n",
       "          1.43059948e-01,  0.00000000e+00,  0.00000000e+00,\n",
       "         -6.79545829e-03, -2.42013242e-01, -6.51519151e-02,\n",
       "          0.00000000e+00, -2.80521205e-01,  7.65111778e-02,\n",
       "         -3.67341985e-39, -2.80098263e-39, -1.87900483e-01,\n",
       "         -1.05419301e-01, -8.11618178e-02,  1.07484317e-02,\n",
       "          1.09190915e-02, -1.71026885e-02,  0.00000000e+00,\n",
       "          0.00000000e+00, -6.10857596e-02, -2.42926641e-01,\n",
       "          7.39227642e-02,  1.97718613e-02,  1.27220457e-01,\n",
       "         -1.94757975e-01,  0.00000000e+00,  0.00000000e+00,\n",
       "          0.00000000e+00, -1.93232674e-01,  1.09665381e-01,\n",
       "         -8.04372874e-03, -2.24166350e-01, -6.76524161e-02,\n",
       "          0.00000000e+00]]),\n",
       " 1: array([[-2.22044605e-16,  0.00000000e+00, -1.85012127e-02,\n",
       "         -9.13930124e-02, -1.89272990e-01, -1.44826302e-01,\n",
       "         -2.59467981e-02,  0.00000000e+00, -1.97215226e-31,\n",
       "         -2.73006146e-04, -3.02429137e-02, -1.58197310e-01,\n",
       "         -2.43341445e-01, -1.87287225e-01, -3.50266241e-02,\n",
       "          0.00000000e+00,  0.00000000e+00, -7.44390604e-03,\n",
       "         -9.39305868e-02, -2.39135833e-01, -2.47455878e-01,\n",
       "         -1.62589388e-01, -1.82688757e-02,  0.00000000e+00,\n",
       "          0.00000000e+00, -4.74422265e-02, -1.84687779e-01,\n",
       "         -2.58082598e-01, -2.50044025e-01, -1.47954202e-01,\n",
       "         -1.06384018e-02,  0.00000000e+00,  0.00000000e+00,\n",
       "         -3.26867940e-02, -1.34115167e-01, -1.89187192e-01,\n",
       "         -2.52423185e-01, -1.36572860e-01, -1.08073011e-02,\n",
       "          0.00000000e+00,  0.00000000e+00, -8.00966782e-03,\n",
       "         -6.30604890e-02, -1.35054315e-01, -2.56376838e-01,\n",
       "         -1.51512929e-01, -8.88171455e-03,  0.00000000e+00,\n",
       "          0.00000000e+00, -1.69515660e-03, -4.69446368e-02,\n",
       "         -1.28749608e-01, -2.52714731e-01, -1.92320477e-01,\n",
       "         -3.73853477e-02, -1.26631576e-02,  0.00000000e+00,\n",
       "          0.00000000e+00, -1.54665157e-02, -9.13127454e-02,\n",
       "         -2.23212243e-01, -1.99772107e-01, -5.11997372e-02,\n",
       "         -1.76227144e-02],\n",
       "        [ 2.77555756e-17, -1.11022302e-16, -9.96177503e-02,\n",
       "         -2.98674646e-01,  5.55249363e-02,  2.34196264e-01,\n",
       "          6.98094064e-02,  0.00000000e+00,  6.61744490e-24,\n",
       "         -1.44957227e-03, -1.22822379e-01, -2.73257205e-01,\n",
       "          7.02759297e-02,  2.65222425e-01,  9.77049199e-02,\n",
       "          0.00000000e+00,  0.00000000e+00,  7.24695153e-03,\n",
       "         -6.29374570e-02, -1.04150720e-01,  9.89759167e-02,\n",
       "          2.65535257e-01,  6.06224432e-02,  0.00000000e+00,\n",
       "          0.00000000e+00,  4.96380713e-02,  7.18235611e-02,\n",
       "         -5.84463106e-02,  4.65505972e-02,  2.75476158e-01,\n",
       "          3.86286267e-02,  0.00000000e+00,  0.00000000e+00,\n",
       "          2.51904984e-02, -2.15472439e-02, -1.98975678e-01,\n",
       "         -2.47877597e-02,  2.52928126e-01,  3.48505905e-02,\n",
       "          0.00000000e+00,  0.00000000e+00,  7.31121803e-03,\n",
       "         -9.98376532e-02, -1.91611609e-01, -4.90931113e-02,\n",
       "          2.11793244e-01,  2.73250143e-02,  0.00000000e+00,\n",
       "          0.00000000e+00, -2.20771102e-03, -1.86226692e-01,\n",
       "         -2.57184047e-01, -6.33915653e-02,  9.31899679e-02,\n",
       "         -1.09810813e-01, -6.90533560e-02,  0.00000000e+00,\n",
       "          0.00000000e+00, -8.29295997e-02, -2.92707890e-01,\n",
       "         -1.34034569e-01,  1.93495343e-02, -1.47176144e-01,\n",
       "         -9.94955296e-02],\n",
       "        [ 6.10622664e-16,  1.66533454e-16, -9.34137039e-02,\n",
       "         -3.97483537e-02,  2.26901381e-01,  6.34742597e-03,\n",
       "         -5.26748967e-02,  0.00000000e+00, -1.35525272e-20,\n",
       "          1.77629874e-03, -9.01729762e-02, -1.12917126e-01,\n",
       "          2.22080424e-01,  1.00568185e-01, -5.98747644e-02,\n",
       "          0.00000000e+00,  0.00000000e+00, -1.14738229e-02,\n",
       "         -1.44452606e-01, -9.96307643e-02,  1.89042221e-01,\n",
       "          3.78765046e-02, -4.71744987e-02,  0.00000000e+00,\n",
       "          0.00000000e+00, -3.44478550e-02, -1.43831759e-01,\n",
       "         -3.91511974e-02,  1.37153062e-01, -3.50687082e-02,\n",
       "         -3.08255352e-02,  0.00000000e+00,  0.00000000e+00,\n",
       "          1.78192813e-02,  1.32288210e-01,  1.26415477e-01,\n",
       "          4.57826354e-02, -1.19825793e-01, -2.88026329e-02,\n",
       "          0.00000000e+00,  0.00000000e+00,  3.24222477e-02,\n",
       "          3.19484451e-01,  2.84172401e-01, -2.81506510e-02,\n",
       "         -1.91511291e-01, -2.35501637e-02,  0.00000000e+00,\n",
       "          0.00000000e+00,  1.18705368e-02,  7.90572983e-02,\n",
       "          1.46716837e-01,  3.35278756e-03, -3.68289970e-01,\n",
       "         -2.51392053e-01, -1.08673687e-01,  0.00000000e+00,\n",
       "          0.00000000e+00, -7.55162744e-02, -9.17596753e-02,\n",
       "         -3.89790948e-02, -2.81993267e-01, -3.11223550e-01,\n",
       "         -1.82194199e-01],\n",
       "        [ 1.94289029e-16,  2.22044605e-16,  4.33482875e-02,\n",
       "         -4.08116794e-02, -2.31181315e-01,  2.36794779e-02,\n",
       "          1.52843200e-02,  0.00000000e+00, -2.16840434e-19,\n",
       "         -1.05522286e-03, -1.92234395e-02, -2.32001836e-01,\n",
       "         -1.07198967e-01,  4.25272770e-02,  5.13364694e-02,\n",
       "          0.00000000e+00,  0.00000000e+00, -4.87493090e-02,\n",
       "         -3.44882573e-01, -1.39803390e-01, -5.24368926e-02,\n",
       "          5.81372335e-02,  3.19417915e-02,  0.00000000e+00,\n",
       "          0.00000000e+00, -2.22410943e-01, -2.87320102e-01,\n",
       "          9.25912675e-02, -2.48615596e-02,  5.01643810e-02,\n",
       "          1.85236854e-02,  0.00000000e+00,  0.00000000e+00,\n",
       "          6.97461910e-02,  4.73777834e-01,  2.52949941e-01,\n",
       "         -3.25148024e-03,  1.11754099e-02,  9.25747969e-03,\n",
       "          0.00000000e+00,  0.00000000e+00,  6.89074161e-02,\n",
       "          3.14837155e-01, -1.42321027e-02,  1.86492108e-02,\n",
       "          4.07404770e-02,  2.03953829e-03,  0.00000000e+00,\n",
       "          0.00000000e+00,  1.30313813e-02,  1.46905460e-01,\n",
       "         -7.27591893e-02, -1.74396913e-02,  1.50673846e-01,\n",
       "          1.14097201e-01,  8.66296096e-02,  0.00000000e+00,\n",
       "          0.00000000e+00,  3.46181351e-02, -3.21257217e-02,\n",
       "         -1.00814721e-01,  2.31144989e-01,  1.85203959e-01,\n",
       "          9.84000024e-02],\n",
       "        [-2.49800181e-16, -5.55111512e-17, -6.12453004e-02,\n",
       "         -9.88176086e-02,  5.12922818e-02, -3.31666835e-02,\n",
       "         -7.73941279e-02,  5.55111512e-17,  5.55111512e-17,\n",
       "         -9.69494078e-03, -1.73476809e-01, -1.08895193e-02,\n",
       "         -2.67793089e-02,  6.97203656e-02, -1.65384976e-01,\n",
       "          0.00000000e+00,  1.05879118e-22,  1.27876979e-02,\n",
       "         -1.69956310e-01, -1.01998772e-01,  4.92356578e-02,\n",
       "          2.72202942e-02, -1.24403331e-01,  0.00000000e+00,\n",
       "          0.00000000e+00, -1.58847124e-03, -4.74833665e-01,\n",
       "         -8.52891924e-02,  9.40381277e-02, -1.56910954e-02,\n",
       "         -7.56256522e-02,  0.00000000e+00,  0.00000000e+00,\n",
       "         -2.92210818e-01, -5.79169513e-01,  5.40647024e-02,\n",
       "          1.54715008e-01, -2.79890832e-02, -5.87607537e-02,\n",
       "          0.00000000e+00,  0.00000000e+00,  1.52712588e-02,\n",
       "          2.74269788e-02,  9.20725424e-02,  1.39391584e-01,\n",
       "          1.89290485e-02, -3.02118523e-02,  0.00000000e+00,\n",
       "          0.00000000e+00,  1.08699310e-02, -2.82405300e-02,\n",
       "          2.79850016e-02,  1.69207026e-01,  1.45524254e-01,\n",
       "          3.97077375e-02, -2.04195721e-02,  0.00000000e+00,\n",
       "          0.00000000e+00, -3.98571185e-02, -9.46050065e-02,\n",
       "          4.13359612e-02,  1.76073989e-01,  1.66234214e-01,\n",
       "          3.75741825e-02],\n",
       "        [-7.91033905e-16,  2.63677968e-16,  1.45311859e-02,\n",
       "          1.83139313e-01, -3.38545258e-02,  1.85520964e-01,\n",
       "          1.68101837e-01,  1.31838984e-16,  5.55111512e-17,\n",
       "          5.05649647e-03,  9.96055682e-02,  2.31364959e-01,\n",
       "         -8.40784086e-03,  9.05059321e-03,  1.67519242e-01,\n",
       "          0.00000000e+00,  0.00000000e+00,  5.25923356e-02,\n",
       "          2.11744640e-01, -1.83742423e-02, -2.65771791e-02,\n",
       "          9.32968154e-02,  1.52968574e-01,  0.00000000e+00,\n",
       "          0.00000000e+00, -5.73521278e-02, -1.97565104e-01,\n",
       "         -1.39147637e-01, -8.59059559e-02,  1.68715854e-01,\n",
       "          1.08368904e-01,  0.00000000e+00,  0.00000000e+00,\n",
       "         -1.30415399e-01, -1.85750321e-01,  8.49080645e-03,\n",
       "         -1.72436968e-01,  2.46078036e-01,  1.10550306e-01,\n",
       "          0.00000000e+00,  0.00000000e+00,  3.26711779e-02,\n",
       "          2.81251941e-01,  2.34846551e-01, -2.12134434e-01,\n",
       "          2.28333055e-01,  6.99057891e-02,  0.00000000e+00,\n",
       "          0.00000000e+00,  3.27260438e-03,  2.39471062e-01,\n",
       "          2.05622261e-01, -2.32298753e-01,  1.45552509e-01,\n",
       "          3.44627263e-02, -3.58318064e-02,  0.00000000e+00,\n",
       "          0.00000000e+00,  1.42476757e-02,  8.49680221e-02,\n",
       "         -1.70047013e-01, -5.26596672e-02, -7.50701330e-02,\n",
       "         -8.52531938e-02],\n",
       "        [ 0.00000000e+00,  0.00000000e+00, -2.27873993e-02,\n",
       "          2.31465126e-01, -1.34797902e-01, -2.72304468e-01,\n",
       "          6.48824273e-02,  1.11022302e-16,  0.00000000e+00,\n",
       "         -7.89262101e-03, -2.23001367e-01, -2.61330432e-02,\n",
       "          1.63574943e-03, -1.32316414e-02,  1.76688550e-01,\n",
       "          0.00000000e+00,  0.00000000e+00, -7.41687561e-02,\n",
       "         -5.09454566e-01,  7.76487062e-02,  7.70986793e-02,\n",
       "          1.17295999e-01,  1.74609717e-01,  0.00000000e+00,\n",
       "          0.00000000e+00, -4.00768621e-02, -8.61545834e-02,\n",
       "          9.91496813e-02,  7.29776068e-03,  2.17833727e-01,\n",
       "          1.10758017e-01, -1.01889883e-31, -1.69537249e-31,\n",
       "          6.55937088e-02, -7.83209109e-02, -4.90324719e-02,\n",
       "         -4.65966344e-02,  1.51095376e-01,  1.05870233e-01,\n",
       "          1.11853853e-33,  3.59226034e-32, -7.35195295e-02,\n",
       "         -3.44077106e-01,  1.21088258e-02, -2.65853060e-02,\n",
       "          4.29749822e-02,  7.02103671e-02,  4.37555659e-33,\n",
       "          0.00000000e+00, -3.01180645e-02, -8.42787228e-02,\n",
       "          2.70448588e-01, -9.89483096e-03, -1.14768836e-01,\n",
       "         -4.09050840e-02, -9.19217213e-03,  0.00000000e+00,\n",
       "          0.00000000e+00, -5.00962071e-03,  2.35645466e-01,\n",
       "          1.10890315e-01, -1.25538050e-01, -7.31756163e-02,\n",
       "          4.45755459e-02],\n",
       "        [ 4.54497551e-16, -1.04083409e-16,  1.77133901e-01,\n",
       "         -8.34396504e-02, -2.27056522e-01,  2.51873212e-01,\n",
       "          9.98007566e-02,  4.23272528e-16, -2.91433544e-16,\n",
       "          5.12545626e-03,  1.88945963e-01, -1.96842882e-01,\n",
       "         -9.39534489e-02,  2.19770974e-01,  1.31950698e-01,\n",
       "          0.00000000e+00,  0.00000000e+00,  5.06177740e-02,\n",
       "          1.48210374e-02,  9.05277586e-02, -7.70223631e-03,\n",
       "          2.15159275e-01,  9.64750259e-02,  0.00000000e+00,\n",
       "         -2.58493941e-26, -1.76394124e-02,  7.16668000e-02,\n",
       "          1.14894050e-01,  5.93507023e-05,  1.29547727e-01,\n",
       "          5.91737503e-02, -1.89048356e-28, -3.14562524e-28,\n",
       "         -9.69192354e-02, -2.26632182e-01, -2.20656656e-01,\n",
       "         -1.21593135e-02, -1.62139204e-01,  3.67507668e-02,\n",
       "          2.07535692e-30,  6.66514576e-29, -1.26616445e-02,\n",
       "          9.86544970e-02, -2.90567688e-02,  6.47590844e-02,\n",
       "         -3.82443142e-01,  2.90512206e-02,  8.11848801e-30,\n",
       "          0.00000000e+00,  2.53462116e-02,  2.47908793e-01,\n",
       "         -1.87568276e-02,  7.49074509e-02, -3.33008211e-01,\n",
       "         -5.35465213e-02, -8.51247658e-02,  0.00000000e+00,\n",
       "          0.00000000e+00,  1.58610122e-01,  1.46375664e-01,\n",
       "          1.11584899e-01,  9.70815519e-02,  1.38043405e-01,\n",
       "          7.91720439e-02]]),\n",
       " 2: array([[ 1.11022302e-16, -7.33179827e-03, -1.37911572e-01,\n",
       "         -2.30334054e-01, -1.67616106e-01, -4.39501114e-02,\n",
       "         -2.67891645e-03,  0.00000000e+00,  0.00000000e+00,\n",
       "         -8.24348724e-02, -2.37789287e-01, -2.25403845e-01,\n",
       "         -2.37430622e-01, -9.19298949e-02, -8.52885673e-03,\n",
       "          0.00000000e+00, -2.60430468e-04, -9.90441786e-02,\n",
       "         -1.62379849e-01, -9.45852258e-02, -2.26227918e-01,\n",
       "         -9.38081904e-02, -7.80011372e-03,  0.00000000e+00,\n",
       "          0.00000000e+00, -3.17901932e-02, -5.38143875e-02,\n",
       "         -9.63940133e-02, -2.34973126e-01, -6.40247953e-02,\n",
       "         -2.74165211e-03,  0.00000000e+00,  0.00000000e+00,\n",
       "         -3.01255753e-03, -3.23858800e-02, -1.81453995e-01,\n",
       "         -1.90091418e-01, -2.63324661e-02,  0.00000000e+00,\n",
       "          0.00000000e+00,  0.00000000e+00, -2.16217643e-02,\n",
       "         -1.30860444e-01, -2.22607579e-01, -1.04864080e-01,\n",
       "         -1.10523727e-02, -4.82297564e-03,  0.00000000e+00,\n",
       "         -8.00424416e-04, -2.95941107e-02, -2.02568383e-01,\n",
       "         -2.54156540e-01, -2.00668732e-01, -1.66341296e-01,\n",
       "         -9.84867181e-02, -9.42386440e-03, -2.66808139e-04,\n",
       "         -8.09795502e-03, -1.42280745e-01, -2.31879926e-01,\n",
       "         -2.37712447e-01, -2.31478527e-01, -1.52389000e-01,\n",
       "         -1.98450601e-02],\n",
       "        [-1.11022302e-16,  1.54109653e-02,  2.17115779e-01,\n",
       "          1.99302151e-01, -2.14428087e-01, -2.76006556e-01,\n",
       "         -2.82797286e-02,  0.00000000e+00,  0.00000000e+00,\n",
       "          1.30258473e-01,  2.58208844e-01,  2.38043652e-04,\n",
       "         -8.61403985e-02, -3.63878334e-01, -9.07951348e-02,\n",
       "          0.00000000e+00,  2.43758389e-04,  1.57985673e-01,\n",
       "          1.29005730e-01, -5.93735039e-02,  1.39688611e-01,\n",
       "         -3.60775592e-01, -8.52250787e-02,  0.00000000e+00,\n",
       "         -1.75162308e-46,  4.35602634e-02,  6.61536853e-02,\n",
       "          1.11355208e-01,  1.29362977e-02, -2.76956522e-01,\n",
       "         -3.08246666e-02,  0.00000000e+00,  0.00000000e+00,\n",
       "         -1.51702745e-02, -3.27281667e-02,  2.66298236e-03,\n",
       "         -1.72124765e-01, -9.18489654e-02,  0.00000000e+00,\n",
       "          0.00000000e+00,  0.00000000e+00, -1.36995557e-01,\n",
       "         -2.38668212e-01, -1.27665557e-01, -7.34708900e-02,\n",
       "          1.57952944e-02,  1.13230734e-02,  0.00000000e+00,\n",
       "         -6.26175946e-03, -6.27736204e-02, -1.50537171e-02,\n",
       "         -7.10080277e-02, -1.04566556e-01,  5.63733901e-02,\n",
       "          9.94412764e-02,  1.03546808e-02, -2.08725315e-03,\n",
       "          5.95582574e-03,  2.11349596e-01,  1.87977693e-01,\n",
       "         -1.03676021e-02, -8.71625211e-02,  3.11606536e-02,\n",
       "          2.05346060e-02],\n",
       "        [-4.16333634e-16,  3.05715840e-02,  1.33336462e-01,\n",
       "          1.71193950e-03,  6.87164969e-02,  4.87462769e-02,\n",
       "          1.71634032e-03,  0.00000000e+00,  2.71050543e-20,\n",
       "          5.60040973e-02, -4.02047941e-02, -4.61509693e-02,\n",
       "         -3.14329629e-02,  3.43691053e-02,  4.88341423e-03,\n",
       "          0.00000000e+00, -1.30791748e-03, -1.53892918e-02,\n",
       "         -1.35297977e-01,  5.98929923e-02, -4.50313415e-02,\n",
       "         -1.86858135e-02,  3.02551807e-03,  4.48415509e-44,\n",
       "         -2.24207754e-43, -7.13238233e-02, -1.34899393e-01,\n",
       "          2.32146557e-01, -6.99583726e-02, -1.30626663e-01,\n",
       "         -1.44544752e-03,  0.00000000e+00,  0.00000000e+00,\n",
       "         -7.10694997e-03,  1.01230957e-01,  3.77497488e-01,\n",
       "         -2.79900995e-01, -1.23142531e-01,  0.00000000e+00,\n",
       "          0.00000000e+00,  0.00000000e+00,  4.14399687e-02,\n",
       "          3.74015241e-01,  1.15687125e-01, -4.14097068e-01,\n",
       "         -7.10907985e-02, -1.84470424e-02,  0.00000000e+00,\n",
       "         -3.63121926e-04,  8.90350153e-02,  2.53446993e-01,\n",
       "         -1.15696735e-01, -1.84739298e-01, -1.18671147e-01,\n",
       "         -2.31304293e-01, -6.68877074e-02, -1.21040642e-04,\n",
       "          3.01433689e-02,  1.75449277e-01, -1.12611669e-02,\n",
       "          7.66320747e-02,  7.67180558e-02, -1.22153345e-01,\n",
       "         -1.14236007e-01],\n",
       "        [-1.11022302e-16, -7.70180379e-03, -9.93180447e-02,\n",
       "          1.25030146e-01,  3.71269321e-01, -2.26520478e-02,\n",
       "         -6.84593804e-03,  0.00000000e+00, -8.67361738e-19,\n",
       "          5.83272065e-02,  8.68212676e-02, -2.37237011e-01,\n",
       "          1.56131775e-01,  1.49308321e-01, -2.11900771e-02,\n",
       "          0.00000000e+00,  3.71136044e-03,  2.34136687e-01,\n",
       "         -7.95812381e-02, -4.41983892e-01,  8.63079328e-02,\n",
       "          9.61928024e-02, -1.91885543e-02,  0.00000000e+00,\n",
       "         -2.93873588e-39,  1.31036254e-01,  2.18164251e-02,\n",
       "         -1.57722965e-01,  1.17619353e-01, -1.20270173e-02,\n",
       "         -1.11580946e-02,  0.00000000e+00,  0.00000000e+00,\n",
       "          4.92637837e-03, -5.61331976e-02, -6.15994516e-03,\n",
       "         -4.37117288e-02, -4.14220973e-02,  0.00000000e+00,\n",
       "          0.00000000e+00,  0.00000000e+00, -5.06161079e-02,\n",
       "         -6.07981390e-02, -9.33582536e-02, -1.18671166e-01,\n",
       "         -5.40359088e-02, -4.16864888e-02,  0.00000000e+00,\n",
       "         -5.85283146e-03, -3.52436309e-02, -2.07556007e-01,\n",
       "         -1.36609694e-01, -2.78429223e-01, -2.45344583e-01,\n",
       "         -1.10283292e-01,  9.11585271e-03, -1.95094382e-03,\n",
       "         -1.14402384e-02, -7.24552625e-02,  1.29936415e-01,\n",
       "          1.53103164e-01,  1.32669214e-01,  2.58444092e-01,\n",
       "          8.86089061e-02],\n",
       "        [-1.83880688e-16, -4.59165321e-02, -2.17903422e-01,\n",
       "          4.35846461e-02,  1.95786861e-01, -1.03973780e-02,\n",
       "         -1.55936102e-02,  5.55111512e-17,  1.11022302e-16,\n",
       "         -1.87685836e-01,  9.34371466e-02,  2.65150848e-01,\n",
       "          4.42444738e-03,  4.72947271e-02, -5.29584158e-02,\n",
       "          0.00000000e+00,  9.81766470e-04, -7.47951496e-02,\n",
       "          3.52157461e-01,  1.52987959e-01, -1.38419192e-01,\n",
       "          4.30257655e-02, -6.13160055e-02,  0.00000000e+00,\n",
       "          0.00000000e+00,  2.18073827e-02,  1.13020569e-01,\n",
       "          8.04791824e-02, -2.59768772e-03, -1.40612793e-01,\n",
       "         -3.65130093e-02,  0.00000000e+00,  0.00000000e+00,\n",
       "          4.09248270e-03, -1.21525029e-01,  8.81418706e-02,\n",
       "          1.05943847e-02, -1.38152786e-01,  0.00000000e+00,\n",
       "          0.00000000e+00,  0.00000000e+00, -9.15300187e-02,\n",
       "         -2.30665366e-01,  1.89082940e-01, -1.63652022e-01,\n",
       "         -5.38299352e-02,  9.45046197e-03,  0.00000000e+00,\n",
       "          1.05871840e-02, -3.90669944e-02, -2.36522157e-01,\n",
       "          9.60650508e-02, -9.91359318e-02, -1.17429963e-01,\n",
       "         -1.80184277e-01, -9.28796672e-03,  3.52906133e-03,\n",
       "         -2.24751712e-02, -1.95538301e-01,  1.68709810e-01,\n",
       "          1.29145981e-01, -9.45219056e-02, -4.32158692e-01,\n",
       "          2.12542152e-02],\n",
       "        [-2.22044605e-16, -1.84897819e-02,  9.57759419e-02,\n",
       "          1.52385859e-01, -1.50257366e-02, -7.66001149e-02,\n",
       "         -2.21308592e-02,  2.77555756e-17,  1.38777878e-17,\n",
       "         -1.12665585e-01,  1.24851573e-01,  6.71431224e-02,\n",
       "          1.35839710e-01, -4.05585892e-03, -6.20476102e-02,\n",
       "          0.00000000e+00, -2.62657007e-03, -3.93417827e-01,\n",
       "         -1.48680259e-01, -2.62461506e-01,  1.76630025e-01,\n",
       "          9.18897438e-02, -6.71475610e-02,  0.00000000e+00,\n",
       "          0.00000000e+00, -2.49214024e-01, -3.35915415e-01,\n",
       "         -1.97813808e-01,  1.98365438e-01,  6.61259125e-03,\n",
       "         -2.81689469e-02,  0.00000000e+00,  0.00000000e+00,\n",
       "         -4.08204016e-02, -1.79877534e-01, -1.11698439e-01,\n",
       "          1.28158332e-01,  1.56077012e-02,  0.00000000e+00,\n",
       "          0.00000000e+00,  0.00000000e+00, -7.15551369e-02,\n",
       "         -9.15182379e-02, -5.70949747e-02,  7.82998308e-02,\n",
       "          4.01646363e-02,  7.26025852e-03,  0.00000000e+00,\n",
       "          1.96046852e-03,  2.06443728e-02,  2.91207387e-01,\n",
       "          6.48415828e-02, -1.12619095e-01, -1.24821189e-01,\n",
       "         -1.65265899e-01, -4.61983371e-02,  6.53489507e-04,\n",
       "         -1.29313278e-02,  1.03683302e-01,  7.99585278e-02,\n",
       "         -1.34141210e-01, -1.24720245e-01, -2.51870368e-01,\n",
       "         -1.10530557e-01],\n",
       "        [ 3.81639165e-17,  3.16005111e-02,  1.48680709e-01,\n",
       "          1.26209123e-01,  1.92049414e-01, -4.54068774e-02,\n",
       "         -5.54163303e-03,  5.55111512e-17, -1.66533454e-16,\n",
       "          9.89972029e-02,  8.35276904e-02, -4.92217402e-02,\n",
       "         -5.48050526e-02,  1.25329942e-01, -4.34714007e-03,\n",
       "          0.00000000e+00, -1.84259660e-03, -2.10654683e-01,\n",
       "          3.01905960e-01,  1.04178709e-01, -1.85977109e-01,\n",
       "          1.90278310e-01,  8.29478196e-03,  0.00000000e+00,\n",
       "          0.00000000e+00, -2.36764859e-01, -1.52241881e-01,\n",
       "          2.43945918e-01, -2.73982001e-01,  2.21704452e-01,\n",
       "          3.23577883e-03, -2.91590608e-30,  2.71290931e-31,\n",
       "         -1.61408920e-02,  1.24841926e-01, -1.27823279e-01,\n",
       "         -1.49481732e-01,  2.02631135e-01, -7.85967081e-31,\n",
       "         -8.81340459e-31,  1.04877064e-30, -6.46823349e-02,\n",
       "          7.93510946e-02, -3.50543884e-01,  9.33026142e-02,\n",
       "          1.10102052e-01,  6.05214485e-03,  5.00467822e-32,\n",
       "         -1.83146283e-04,  7.31271929e-03, -8.45395848e-02,\n",
       "         -1.01965531e-01, -3.65668997e-02, -5.70701295e-02,\n",
       "          3.88142531e-02,  7.89059221e-02, -6.10487610e-05,\n",
       "          3.24222038e-02,  9.79986349e-02,  2.75358015e-01,\n",
       "          6.80707900e-02, -8.72305161e-02,  7.68404086e-02,\n",
       "          1.39578355e-01],\n",
       "        [ 1.04083409e-16,  1.04924607e-02, -2.01338228e-02,\n",
       "         -3.79899913e-02,  2.38520778e-01,  8.69198940e-02,\n",
       "         -7.38464202e-03, -2.77555756e-17, -1.66533454e-16,\n",
       "          7.67116901e-02, -3.18615110e-02, -1.15704193e-01,\n",
       "          2.29303313e-01,  1.47555828e-01, -3.91224088e-02,\n",
       "          0.00000000e+00, -1.08835059e-03,  1.86450966e-01,\n",
       "         -5.41995300e-02, -1.14899830e-01,  1.89389231e-01,\n",
       "          8.05144770e-02, -4.82339493e-02,  0.00000000e+00,\n",
       "          1.03397577e-25,  1.08143462e-01, -3.41739594e-02,\n",
       "          2.95146905e-02,  6.30300657e-02, -1.77065865e-02,\n",
       "         -9.81428623e-03, -6.19687219e-29,  5.76546087e-30,\n",
       "          1.44593540e-02,  2.46649929e-02,  8.93959142e-02,\n",
       "         -1.58954590e-01,  2.75678108e-02, -1.67033452e-29,\n",
       "         -1.87302169e-29,  2.22884373e-29, -9.17564672e-03,\n",
       "          6.12420946e-02, -1.23349610e-01, -6.06346276e-02,\n",
       "          1.12323818e-01,  3.46425692e-02,  1.06359248e-30,\n",
       "          1.09426299e-02,  5.39758859e-02, -1.10836401e-01,\n",
       "         -1.02669947e-01,  1.27099148e-01,  3.80752048e-01,\n",
       "          3.14608669e-01,  5.16091755e-02,  3.64754330e-03,\n",
       "          3.17229150e-02,  6.65019480e-02,  3.66209789e-03,\n",
       "         -1.29564291e-01, -3.80065478e-01, -4.30301540e-01,\n",
       "         -1.08684661e-01]]),\n",
       " 3: array([[ 0.00000000e+00, -1.62646031e-02, -1.58412828e-01,\n",
       "         -2.49112261e-01, -2.38039275e-01, -1.10409860e-01,\n",
       "         -1.21837192e-02,  0.00000000e+00,  0.00000000e+00,\n",
       "         -6.09366141e-02, -2.18475740e-01, -1.65873752e-01,\n",
       "         -2.16337670e-01, -1.98110719e-01, -3.95407678e-02,\n",
       "          0.00000000e+00,  0.00000000e+00, -3.86894389e-02,\n",
       "         -7.67429586e-02, -5.80718249e-02, -2.21346557e-01,\n",
       "         -1.58358219e-01, -2.01563843e-02,  0.00000000e+00,\n",
       "          0.00000000e+00, -8.00423026e-03, -2.17689260e-02,\n",
       "         -1.38877187e-01, -2.66706316e-01, -1.16787553e-01,\n",
       "         -1.10026128e-03,  0.00000000e+00,  0.00000000e+00,\n",
       "         -5.70106213e-04, -8.97370945e-03, -8.07512812e-02,\n",
       "         -2.23903445e-01, -2.15678268e-01, -2.82292174e-02,\n",
       "          0.00000000e+00,  0.00000000e+00, -5.87428199e-03,\n",
       "         -2.12355166e-02, -4.94117985e-03, -7.61500061e-02,\n",
       "         -2.41359537e-01, -1.02469639e-01,  0.00000000e+00,\n",
       "          0.00000000e+00, -1.31345957e-02, -1.42175625e-01,\n",
       "         -1.43768060e-01, -1.69310390e-01, -2.34730701e-01,\n",
       "         -1.00248747e-01, -1.96778441e-03,  0.00000000e+00,\n",
       "         -1.48405289e-02, -1.80812011e-01, -2.51415622e-01,\n",
       "         -2.36909425e-01, -1.42028597e-01, -2.75780651e-02,\n",
       "         -2.94865260e-03],\n",
       "        [-2.22044605e-16, -4.89433436e-02, -2.10582620e-01,\n",
       "         -6.57179220e-02, -5.93540990e-02, -1.78708125e-01,\n",
       "         -5.08853302e-02,  0.00000000e+00,  0.00000000e+00,\n",
       "          9.20797184e-02,  1.68278745e-01,  1.18124255e-01,\n",
       "          5.52553543e-02, -2.75162399e-01, -1.71700774e-01,\n",
       "          0.00000000e+00,  0.00000000e+00,  1.61686482e-01,\n",
       "          2.94927875e-01,  1.01803694e-01,  9.65104576e-02,\n",
       "         -2.95177236e-01, -9.91963765e-02,  0.00000000e+00,\n",
       "          0.00000000e+00,  4.13982601e-02,  9.67624814e-02,\n",
       "          2.03800473e-01,  1.02567223e-02, -1.18056795e-01,\n",
       "         -8.30022990e-04,  0.00000000e+00,  0.00000000e+00,\n",
       "          1.46176744e-03,  2.95819028e-02,  1.21486798e-01,\n",
       "         -9.20454074e-02,  1.07313119e-01,  6.63006301e-02,\n",
       "          0.00000000e+00,  0.00000000e+00,  2.24860745e-02,\n",
       "          7.81334813e-02, -6.88009703e-03, -2.52408618e-01,\n",
       "         -3.29055935e-02,  1.56422267e-01,  0.00000000e+00,\n",
       "          0.00000000e+00,  1.86726830e-02,  2.17240782e-01,\n",
       "          4.08401020e-02, -2.37743798e-01, -1.88036185e-02,\n",
       "          2.07019777e-01,  1.19093976e-02,  0.00000000e+00,\n",
       "         -5.03380808e-02, -2.29032097e-01, -4.28252219e-02,\n",
       "          1.61145664e-01,  2.71139413e-01,  1.17624368e-01,\n",
       "          1.72734291e-02],\n",
       "        [ 8.32667268e-17, -2.64183244e-02, -2.17690045e-01,\n",
       "         -1.34376702e-01,  1.67281972e-01,  2.32648201e-01,\n",
       "          3.93585563e-02,  0.00000000e+00,  0.00000000e+00,\n",
       "         -1.10641430e-01,  6.56852362e-02,  8.03014673e-02,\n",
       "         -1.92427721e-01,  2.77383861e-01,  9.75340011e-02,\n",
       "          0.00000000e+00, -3.15544362e-30,  1.52180239e-01,\n",
       "          2.03210371e-01, -1.79855163e-01, -1.90395029e-01,\n",
       "          3.03387329e-01,  5.97666179e-02,  0.00000000e+00,\n",
       "          0.00000000e+00,  9.11262231e-02,  6.75682661e-02,\n",
       "         -3.31233428e-01,  9.35698010e-02,  9.30017941e-02,\n",
       "          2.34213151e-03,  0.00000000e+00,  0.00000000e+00,\n",
       "          6.60949052e-04, -4.71946095e-02, -1.48573690e-01,\n",
       "          6.96153755e-02, -5.89077122e-02, -5.90640166e-02,\n",
       "          0.00000000e+00,  0.00000000e+00, -1.42517430e-02,\n",
       "         -2.16313688e-02,  3.10541409e-03,  9.97186928e-03,\n",
       "          8.10129599e-04, -5.27305791e-03,  0.00000000e+00,\n",
       "          0.00000000e+00, -1.81757263e-02,  8.65001794e-03,\n",
       "          8.72971494e-02, -1.17510974e-01, -1.93181834e-01,\n",
       "          1.73511808e-01,  2.63951741e-02,  0.00000000e+00,\n",
       "         -2.24178259e-02, -2.39070516e-01, -9.34102204e-02,\n",
       "          1.05609956e-01,  2.41314825e-01,  2.66055015e-01,\n",
       "          4.02690242e-02],\n",
       "        [ 7.21644966e-16,  2.69616454e-02,  7.43630066e-02,\n",
       "          4.63644590e-02,  1.21180984e-01,  1.24560642e-01,\n",
       "         -1.10104811e-02,  0.00000000e+00, -3.46944695e-18,\n",
       "          1.34064124e-01,  1.46458949e-03, -1.70225637e-01,\n",
       "         -1.07797154e-01,  1.60925970e-01, -3.62789903e-02,\n",
       "          0.00000000e+00,  4.13590306e-25,  4.99854561e-02,\n",
       "         -1.46585807e-01, -1.71528665e-02,  7.18320022e-02,\n",
       "         -4.30209984e-02, -7.12010001e-02,  0.00000000e+00,\n",
       "          0.00000000e+00,  3.59973750e-02,  1.94731063e-02,\n",
       "          2.57408753e-01, -8.73525484e-02, -4.56983094e-01,\n",
       "         -1.00345552e-02,  0.00000000e+00,  0.00000000e+00,\n",
       "         -1.27359276e-02,  1.49124397e-02,  2.93017348e-01,\n",
       "          2.60624855e-01, -3.07617501e-01, -1.22966427e-01,\n",
       "          0.00000000e+00,  0.00000000e+00, -7.69065424e-02,\n",
       "         -2.18113472e-01,  1.57780145e-02,  1.12852874e-01,\n",
       "         -1.19685786e-01, -4.12417330e-02,  0.00000000e+00,\n",
       "          0.00000000e+00, -4.75451087e-02, -2.46096577e-01,\n",
       "         -5.38412488e-02, -1.97769413e-01, -9.92917095e-02,\n",
       "          1.26884882e-01,  9.35779711e-03,  0.00000000e+00,\n",
       "          1.33382592e-02,  9.05048166e-02,  6.04783756e-02,\n",
       "          1.29975147e-01,  2.04770370e-01,  7.94707760e-02,\n",
       "          1.27197745e-02],\n",
       "        [-1.07552856e-16, -4.69471633e-02, -1.55062861e-01,\n",
       "          1.90392983e-02,  1.99954767e-01,  3.62020194e-01,\n",
       "          1.04571150e-01, -2.77555756e-17,  2.77555756e-16,\n",
       "          5.11722811e-02,  1.90858447e-01, -1.66639119e-01,\n",
       "         -3.36943185e-01,  1.07789424e-01,  1.31782248e-01,\n",
       "          0.00000000e+00,  6.77626358e-21, -1.83558452e-01,\n",
       "          1.00643464e-02, -3.09917696e-02, -2.66800764e-01,\n",
       "          2.55588426e-02,  1.41455076e-02,  0.00000000e+00,\n",
       "          0.00000000e+00, -9.68024003e-02, -4.94044971e-02,\n",
       "          3.55904913e-01, -8.93926784e-03, -7.80519039e-03,\n",
       "          4.83050105e-03,  0.00000000e+00,  0.00000000e+00,\n",
       "         -2.47112296e-03, -3.94127490e-02,  5.98700162e-02,\n",
       "         -1.45535055e-01,  1.90946400e-01,  7.36668201e-02,\n",
       "          0.00000000e+00,  0.00000000e+00,  8.49744719e-03,\n",
       "          5.03477488e-02, -1.60211360e-02, -2.61712560e-01,\n",
       "         -4.32328210e-02, -1.14508599e-02,  0.00000000e+00,\n",
       "          0.00000000e+00,  5.07091028e-02,  1.21417388e-01,\n",
       "         -1.31270129e-01, -1.22686557e-01,  1.82473146e-01,\n",
       "         -1.83376246e-01, -4.26540020e-02,  0.00000000e+00,\n",
       "         -5.57341622e-02, -8.26941784e-02,  5.75918325e-02,\n",
       "          4.60733367e-02, -7.76133523e-02, -2.26759991e-01,\n",
       "         -6.25344257e-02],\n",
       "        [ 2.56739074e-16,  2.92333287e-03, -1.00180634e-01,\n",
       "         -4.05484387e-02, -1.36786129e-02,  8.00055177e-02,\n",
       "          1.14592345e-01,  5.55111512e-17,  1.17961196e-16,\n",
       "          4.20979486e-02,  1.92809968e-01,  1.99036091e-01,\n",
       "          1.05369852e-02, -2.29492571e-01,  2.51190474e-01,\n",
       "          0.00000000e+00, -6.77626358e-21,  1.19235836e-01,\n",
       "          2.54373171e-01,  8.58413441e-02, -1.66170635e-01,\n",
       "         -7.51744997e-02,  1.11905145e-01,  0.00000000e+00,\n",
       "         -1.57772181e-30,  2.78741534e-02,  6.11652336e-02,\n",
       "          1.06599305e-01, -7.37464110e-02,  4.61824197e-02,\n",
       "          1.12859905e-02,  0.00000000e+00,  0.00000000e+00,\n",
       "         -4.69114264e-03,  3.48926554e-02,  2.83977120e-01,\n",
       "          1.74627848e-01, -2.87857934e-01, -4.19053974e-02,\n",
       "          0.00000000e+00,  0.00000000e+00,  1.92824542e-02,\n",
       "          7.21065528e-02,  5.51633037e-02,  3.86882773e-01,\n",
       "          3.65018862e-03, -2.81029484e-01,  0.00000000e+00,\n",
       "          0.00000000e+00,  6.78869479e-02,  2.47022268e-01,\n",
       "          1.19258113e-01,  1.02390360e-01, -8.73517654e-02,\n",
       "         -2.56098938e-01, -6.85424341e-03,  0.00000000e+00,\n",
       "          4.48833643e-02, -2.87940230e-02,  4.22004955e-03,\n",
       "         -7.50906600e-02, -1.08988731e-01, -1.27300845e-02,\n",
       "         -8.76608738e-03],\n",
       "        [ 2.67147415e-16,  2.66024408e-02, -4.49989047e-02,\n",
       "          5.54861203e-03,  1.78130695e-01,  3.00652330e-01,\n",
       "          3.28052952e-02,  5.55111512e-17,  0.00000000e+00,\n",
       "         -3.22073979e-02, -1.97579618e-02,  1.56301526e-02,\n",
       "          1.16813052e-01,  1.85554638e-01,  5.42907919e-03,\n",
       "          0.00000000e+00,  0.00000000e+00,  7.06948576e-02,\n",
       "          4.85228167e-02,  2.00406177e-01,  1.62061321e-01,\n",
       "         -1.98767863e-01, -8.31017045e-02,  0.00000000e+00,\n",
       "          0.00000000e+00,  3.92684205e-02,  4.65142758e-02,\n",
       "          1.92527459e-01,  8.21394909e-03, -8.67273346e-02,\n",
       "         -3.51228197e-03, -1.42221764e-30,  5.58369103e-31,\n",
       "         -2.63985523e-03, -8.99522652e-02, -9.10555483e-02,\n",
       "         -9.33642656e-02,  1.26996705e-01,  8.70094962e-02,\n",
       "         -2.08774977e-30,  3.42428261e-31,  8.72614568e-03,\n",
       "         -3.86793775e-02,  3.99288948e-02, -5.10615856e-02,\n",
       "         -2.22244575e-01,  1.70612079e-01,  1.87901477e-31,\n",
       "          7.49322993e-32, -1.66489937e-02, -4.78987479e-02,\n",
       "          3.49039137e-01,  2.38726370e-01, -4.18000609e-01,\n",
       "          3.52000956e-02,  3.10241569e-02,  0.00000000e+00,\n",
       "          9.02932393e-03, -3.25251075e-02, -5.38647349e-02,\n",
       "         -2.68776465e-01, -2.76638701e-01,  9.98755828e-02,\n",
       "          3.88797646e-02],\n",
       "        [ 6.59194921e-16, -9.23302419e-03, -1.03599605e-02,\n",
       "          5.67794733e-02,  6.40055177e-02, -4.75028883e-02,\n",
       "         -2.41447913e-02,  1.38777878e-16,  0.00000000e+00,\n",
       "         -2.90033924e-01, -2.16724061e-01, -1.23793109e-01,\n",
       "          5.43664061e-02,  2.69977106e-01, -7.51254485e-02,\n",
       "          0.00000000e+00, -1.73472348e-18, -1.14865285e-01,\n",
       "          1.70277651e-01,  7.27201210e-02,  3.32990650e-01,\n",
       "          3.12885292e-02, -1.69613308e-01,  0.00000000e+00,\n",
       "         -5.16987883e-26, -1.99481289e-02, -4.78272139e-02,\n",
       "         -1.55824801e-02,  1.40079237e-01, -2.65915758e-01,\n",
       "         -4.11957592e-03, -3.40581933e-29,  1.33714006e-29,\n",
       "          6.32201631e-03, -4.08838709e-02, -1.80149942e-01,\n",
       "         -1.13801222e-01, -2.15247468e-01, -3.49148083e-02,\n",
       "         -4.99958459e-29,  8.20021194e-30,  5.68748817e-02,\n",
       "          1.73240042e-01,  2.69155122e-02,  5.56074782e-02,\n",
       "         -1.20473464e-01, -2.89347798e-01,  4.49972188e-30,\n",
       "          1.79442180e-30,  1.31662113e-01,  4.02295686e-01,\n",
       "         -8.43171629e-03, -9.24400318e-02,  7.58921710e-02,\n",
       "         -1.71106612e-01, -2.60492256e-02,  0.00000000e+00,\n",
       "          1.88564708e-02, -7.58805347e-02, -1.97694589e-02,\n",
       "          8.16089447e-02,  5.30383658e-02, -9.62990443e-02,\n",
       "         -4.04355387e-02]]),\n",
       " 4: array([[ 2.22044605e-16, -5.55111512e-17, -5.74647651e-03,\n",
       "         -1.24942545e-01, -2.03367187e-01, -2.43417857e-02,\n",
       "          0.00000000e+00,  0.00000000e+00, -1.97215226e-31,\n",
       "         -6.36985816e-04, -5.38989178e-02, -2.31530824e-01,\n",
       "         -1.83335716e-01, -3.40413087e-02, -9.88643289e-04,\n",
       "          0.00000000e+00,  0.00000000e+00, -1.40855635e-02,\n",
       "         -1.69714587e-01, -2.23697283e-01, -1.37979669e-01,\n",
       "         -9.74998060e-02, -2.51638119e-02, -3.21781722e-04,\n",
       "         -3.20531489e-04, -7.50653412e-02, -2.51421355e-01,\n",
       "         -1.36615199e-01, -1.58516468e-01, -1.65281878e-01,\n",
       "         -7.69399911e-02,  0.00000000e+00,  0.00000000e+00,\n",
       "         -1.26382924e-01, -2.68712557e-01, -1.89908329e-01,\n",
       "         -2.45983144e-01, -2.41619204e-01, -8.66983745e-02,\n",
       "          0.00000000e+00,  0.00000000e+00, -7.36052444e-02,\n",
       "         -1.89898342e-01, -2.36611808e-01, -2.67752262e-01,\n",
       "         -1.72987704e-01, -3.73687098e-02,  0.00000000e+00,\n",
       "          0.00000000e+00, -5.52416181e-03, -2.30638697e-02,\n",
       "         -1.36221983e-01, -2.42108450e-01, -5.20061005e-02,\n",
       "         -9.20586411e-04,  0.00000000e+00,  0.00000000e+00,\n",
       "          0.00000000e+00, -8.44771681e-03, -1.30906540e-01,\n",
       "         -2.17511019e-01, -3.06660420e-02,  0.00000000e+00,\n",
       "          0.00000000e+00],\n",
       "        [ 0.00000000e+00, -5.55111512e-17,  3.12734640e-02,\n",
       "          2.88532925e-01, -1.08172644e-01, -8.46628769e-02,\n",
       "          0.00000000e+00,  0.00000000e+00,  4.23516474e-22,\n",
       "          2.04176128e-03,  2.21856309e-01,  1.59454544e-01,\n",
       "         -2.90337867e-01, -7.80727726e-02,  4.18482331e-03,\n",
       "          0.00000000e+00, -6.01853108e-36,  5.14749387e-02,\n",
       "          3.34486790e-01, -1.80373052e-01, -3.03697986e-01,\n",
       "         -9.42057386e-03,  8.21651607e-02,  1.97716388e-03,\n",
       "          7.16380880e-04,  1.87181174e-01,  1.05949950e-01,\n",
       "         -2.11530445e-01, -1.81338153e-01,  1.78393502e-01,\n",
       "          2.15257458e-01,  0.00000000e+00,  0.00000000e+00,\n",
       "          7.48217454e-02, -1.52223807e-03,  3.38092115e-02,\n",
       "          1.74123223e-02,  8.14544487e-02, -1.07372731e-02,\n",
       "          0.00000000e+00,  0.00000000e+00, -8.90068515e-02,\n",
       "         -9.86121145e-02,  8.24365740e-03, -1.38069529e-02,\n",
       "         -2.31095631e-01, -1.16189574e-01,  0.00000000e+00,\n",
       "          0.00000000e+00, -2.00649165e-02, -2.56849216e-02,\n",
       "          2.14602752e-01, -6.77100309e-02, -1.22598706e-01,\n",
       "         -4.84320279e-03,  0.00000000e+00,  0.00000000e+00,\n",
       "          0.00000000e+00,  4.78167936e-02,  3.13780469e-01,\n",
       "         -1.03474038e-01, -8.26760534e-02,  0.00000000e+00,\n",
       "          0.00000000e+00],\n",
       "        [ 2.22044605e-16,  1.66533454e-16,  2.33459622e-02,\n",
       "          1.32286850e-01, -1.28364770e-01, -9.65970535e-03,\n",
       "          6.93889390e-18,  0.00000000e+00, -1.08420217e-19,\n",
       "          4.54012843e-03,  8.32692116e-02,  3.69303827e-02,\n",
       "         -8.87221970e-02,  4.31964762e-02, -3.15610502e-03,\n",
       "          0.00000000e+00, -1.57772181e-30,  3.44522636e-02,\n",
       "          3.77555621e-02, -1.21649878e-01,  3.41393424e-01,\n",
       "         -4.44281418e-04, -8.12621639e-02, -1.75168172e-04,\n",
       "          1.25076392e-03,  2.11599889e-02, -3.29748579e-02,\n",
       "          2.11053144e-02,  4.67441135e-01, -3.72268695e-01,\n",
       "         -1.86681998e-01,  0.00000000e+00,  0.00000000e+00,\n",
       "          4.70022814e-02, -5.48485697e-02,  2.06670192e-02,\n",
       "          1.48413663e-01, -1.66885130e-01,  2.84824420e-02,\n",
       "          0.00000000e+00,  0.00000000e+00,  1.90051225e-01,\n",
       "          1.64968674e-01,  9.15550513e-02, -7.37720755e-02,\n",
       "         -1.66511514e-01,  7.86229545e-02,  0.00000000e+00,\n",
       "          0.00000000e+00,  2.45195311e-02,  7.40828550e-02,\n",
       "          2.90241347e-01, -9.79215527e-02, -2.49639370e-01,\n",
       "          3.95047889e-03,  0.00000000e+00,  0.00000000e+00,\n",
       "          0.00000000e+00,  4.54863667e-02,  1.48848119e-01,\n",
       "         -1.97860498e-01, -1.40747976e-01,  0.00000000e+00,\n",
       "          0.00000000e+00],\n",
       "        [ 8.32667268e-17,  0.00000000e+00,  3.79535172e-03,\n",
       "          5.70146918e-02, -1.38359835e-01, -7.64743615e-02,\n",
       "          5.55111512e-17,  0.00000000e+00,  0.00000000e+00,\n",
       "         -5.49802980e-03, -4.88603313e-02,  1.55635347e-02,\n",
       "         -1.33378014e-01, -6.07090368e-02, -2.56134234e-03,\n",
       "          0.00000000e+00,  1.61558713e-27, -1.10272692e-01,\n",
       "         -6.33634726e-02, -1.27694175e-02, -1.57018924e-01,\n",
       "          8.68280389e-03,  2.00565679e-02, -1.36826179e-03,\n",
       "         -4.19000774e-03, -1.30026344e-01, -1.92601107e-02,\n",
       "         -1.55784355e-01, -2.12272557e-01, -6.92487083e-02,\n",
       "          2.72313529e-02,  0.00000000e+00,  0.00000000e+00,\n",
       "          8.63615062e-02, -6.54153758e-03, -4.74437043e-01,\n",
       "         -1.78388316e-01, -3.78422200e-02, -1.18162309e-02,\n",
       "          0.00000000e+00,  0.00000000e+00,  3.04159026e-01,\n",
       "          5.21079472e-01,  2.23296374e-01,  8.47961242e-02,\n",
       "          2.61715562e-01,  3.85377420e-02,  0.00000000e+00,\n",
       "          0.00000000e+00,  3.76057479e-02,  1.72657689e-01,\n",
       "          9.55483193e-02,  5.67853286e-02,  7.41155452e-02,\n",
       "          5.43977635e-03,  0.00000000e+00,  0.00000000e+00,\n",
       "          0.00000000e+00, -4.35273104e-03,  7.69328509e-02,\n",
       "          4.32272470e-02, -2.53719976e-03,  0.00000000e+00,\n",
       "          0.00000000e+00],\n",
       "        [-5.55111512e-17, -3.33066907e-16,  2.98661004e-03,\n",
       "         -2.77338378e-02, -1.34065555e-01, -6.64190396e-03,\n",
       "          1.11022302e-16, -5.55111512e-17,  0.00000000e+00,\n",
       "         -4.24715447e-04, -5.88828481e-04, -3.05415534e-02,\n",
       "         -2.62298580e-02,  1.93379310e-01,  5.78270084e-03,\n",
       "          0.00000000e+00,  0.00000000e+00, -1.87768562e-02,\n",
       "         -1.99329984e-02, -1.21401864e-01,  5.73385002e-02,\n",
       "          6.96345797e-01,  3.00899310e-02,  1.51770797e-03,\n",
       "         -1.57309673e-03, -2.77442283e-02,  5.67502683e-02,\n",
       "         -3.43648993e-01,  2.11199060e-01,  2.95959269e-01,\n",
       "         -1.77844308e-01,  0.00000000e+00,  0.00000000e+00,\n",
       "          3.13557090e-02,  9.77007249e-03, -1.08393303e-01,\n",
       "          1.47376317e-01,  6.60729614e-02, -5.16452289e-02,\n",
       "          0.00000000e+00,  0.00000000e+00,  2.05854099e-02,\n",
       "          2.00267162e-02,  3.97315967e-03, -2.47747222e-02,\n",
       "          1.71260284e-02, -1.26401074e-01,  0.00000000e+00,\n",
       "          0.00000000e+00, -2.76761019e-02, -7.00053953e-02,\n",
       "         -1.98370610e-01, -6.96974911e-02,  1.06117685e-01,\n",
       "         -1.55282027e-03,  0.00000000e+00,  0.00000000e+00,\n",
       "          0.00000000e+00,  3.22423765e-02, -4.24547409e-02,\n",
       "         -1.47849808e-01,  8.07103118e-02,  0.00000000e+00,\n",
       "          0.00000000e+00],\n",
       "        [ 4.99600361e-16,  2.77555756e-16,  6.89429692e-02,\n",
       "          2.03634115e-02, -6.88419205e-02,  1.27358436e-01,\n",
       "          1.94289029e-16, -5.55111512e-17,  5.55111512e-17,\n",
       "         -4.37472429e-04,  7.76802627e-02, -2.18176474e-01,\n",
       "         -6.29490480e-02,  7.08546605e-02,  4.34082908e-03,\n",
       "          0.00000000e+00,  8.47032947e-22, -1.04142102e-01,\n",
       "         -8.87461777e-02,  3.49044610e-02,  1.46002709e-01,\n",
       "          1.04055691e-01,  8.46249485e-02,  1.17831901e-03,\n",
       "         -6.96767424e-03, -8.37121363e-02, -6.50904108e-02,\n",
       "          3.25473039e-01, -1.27983511e-01,  9.19095086e-03,\n",
       "          2.21151933e-01, -7.97379666e-31,  8.11234222e-31,\n",
       "          2.63335881e-01,  9.10119008e-02,  1.81996146e-01,\n",
       "         -1.78736024e-01,  2.55202069e-01,  2.90798286e-01,\n",
       "          3.25105862e-32,  4.57987977e-32, -4.14789403e-02,\n",
       "          1.90865115e-01,  1.42107511e-01, -2.53273892e-01,\n",
       "         -9.23120096e-02, -6.76884661e-02,  0.00000000e+00,\n",
       "          0.00000000e+00, -4.10441282e-02, -5.17920387e-02,\n",
       "          8.20984507e-02, -3.02431422e-01,  2.15180120e-01,\n",
       "         -7.18935193e-03,  0.00000000e+00,  0.00000000e+00,\n",
       "          0.00000000e+00,  1.17405213e-01,  2.31512152e-02,\n",
       "         -2.40003958e-01,  1.43377976e-01,  0.00000000e+00,\n",
       "          0.00000000e+00],\n",
       "        [ 4.40619763e-16,  3.74700271e-16, -1.27974946e-02,\n",
       "         -5.36368094e-02, -3.95855402e-02,  4.56702989e-02,\n",
       "          1.04083409e-16,  1.70002901e-16,  3.46944695e-16,\n",
       "         -2.57341168e-03, -2.74555467e-02,  1.16851555e-01,\n",
       "         -4.97263063e-02,  1.78990025e-01, -1.84447660e-02,\n",
       "          0.00000000e+00,  0.00000000e+00, -4.50913824e-02,\n",
       "          1.25114176e-01, -1.35960268e-01, -1.55778946e-02,\n",
       "         -2.36897311e-01, -2.13253957e-01, -7.52602894e-03,\n",
       "         -2.16090556e-03, -3.13168286e-02,  1.61309182e-01,\n",
       "         -1.95351337e-01, -5.74863142e-02, -2.23270186e-01,\n",
       "         -2.48324799e-01, -2.60179777e-28,  2.64700429e-28,\n",
       "          1.90632128e-01,  1.51146215e-02, -7.76131642e-02,\n",
       "         -4.35249689e-02,  3.86033739e-01,  4.26342970e-01,\n",
       "          1.06079920e-29,  1.49438486e-29, -3.80628930e-03,\n",
       "          7.96533402e-02, -7.37820824e-02,  7.58578277e-02,\n",
       "         -8.89204919e-02, -5.15669840e-02,  0.00000000e+00,\n",
       "          0.00000000e+00, -1.03802423e-01, -2.46327845e-01,\n",
       "         -3.14411618e-01,  9.07140190e-02, -1.78560170e-01,\n",
       "         -2.26118973e-02,  0.00000000e+00,  0.00000000e+00,\n",
       "          0.00000000e+00, -5.56930260e-02, -9.20445390e-02,\n",
       "          2.62397393e-03,  8.48649272e-03,  0.00000000e+00,\n",
       "          0.00000000e+00],\n",
       "        [ 2.77555756e-16, -1.66533454e-16,  2.13840000e-02,\n",
       "          7.37074001e-02, -2.34948575e-01, -1.17975567e-03,\n",
       "         -2.77555756e-16,  5.55111512e-17,  1.11022302e-16,\n",
       "         -6.27153360e-03,  1.36657136e-01, -5.56745364e-02,\n",
       "         -3.36805408e-01, -3.52494302e-02,  4.78504820e-03,\n",
       "          0.00000000e+00,  4.33680869e-19, -9.03508178e-02,\n",
       "         -1.08134913e-01, -2.87990326e-01, -5.67343503e-02,\n",
       "         -9.71218112e-02,  5.93124627e-02,  2.43902307e-03,\n",
       "         -7.29001403e-03, -2.32560488e-01, -1.93451861e-01,\n",
       "          3.00979171e-03, -3.29651210e-02, -4.32376649e-02,\n",
       "         -6.31180975e-02, -1.07862884e-25,  1.09737013e-25,\n",
       "         -2.64929065e-01,  1.01063764e-01,  4.72076240e-01,\n",
       "          2.38150125e-01,  9.54975786e-02, -5.62850498e-02,\n",
       "          4.39776149e-27,  6.19528014e-27,  3.97920698e-02,\n",
       "          1.03048340e-01, -6.07907939e-02,  1.50569082e-01,\n",
       "          3.18262933e-01,  1.31055996e-01,  0.00000000e+00,\n",
       "          0.00000000e+00,  2.82879483e-02, -7.89053099e-02,\n",
       "         -1.21454335e-01,  1.14599253e-01,  7.43206821e-02,\n",
       "          2.96436655e-03,  0.00000000e+00,  0.00000000e+00,\n",
       "          0.00000000e+00,  2.31802603e-02,  6.34852773e-02,\n",
       "         -1.74267061e-02,  1.01484754e-01,  0.00000000e+00,\n",
       "          0.00000000e+00]]),\n",
       " 5: array([[ 3.33066907e-16, -2.43757861e-02, -1.94252979e-01,\n",
       "         -2.19144179e-01, -2.28026087e-01, -2.06771489e-01,\n",
       "         -8.40416639e-02, -9.17999978e-04, -3.00535937e-04,\n",
       "         -7.47882503e-02, -2.77111371e-01, -2.21440804e-01,\n",
       "         -1.73588016e-01, -1.54202774e-01, -5.56500698e-02,\n",
       "         -9.17263453e-04,  0.00000000e+00, -8.96758850e-02,\n",
       "         -2.63108113e-01, -1.07622195e-01, -5.19180270e-02,\n",
       "         -2.28803553e-02, -1.42109641e-03,  0.00000000e+00,\n",
       "          0.00000000e+00, -7.94642098e-02, -2.56619472e-01,\n",
       "         -2.28609726e-01, -1.64591153e-01, -7.24413933e-02,\n",
       "         -7.64027666e-03,  0.00000000e+00,  0.00000000e+00,\n",
       "         -2.08135584e-02, -1.19929409e-01, -1.37277213e-01,\n",
       "         -1.54975055e-01, -1.26290544e-01, -1.93785678e-02,\n",
       "          0.00000000e+00,  0.00000000e+00, -4.65479438e-03,\n",
       "         -2.43522148e-02, -6.49222043e-02, -1.55881872e-01,\n",
       "         -1.52332503e-01, -2.17205088e-02,  0.00000000e+00,\n",
       "          0.00000000e+00, -1.74745002e-02, -1.32485335e-01,\n",
       "         -1.75203770e-01, -2.22702129e-01, -1.15351379e-01,\n",
       "         -9.92922482e-03,  0.00000000e+00,  0.00000000e+00,\n",
       "         -2.35647750e-02, -2.04685097e-01, -2.61264076e-01,\n",
       "         -1.56936778e-01, -2.83272692e-02, -4.56955639e-04,\n",
       "          0.00000000e+00],\n",
       "        [-1.66533454e-16,  7.21481961e-02,  1.34942100e-01,\n",
       "          6.22995016e-02,  1.82876627e-02, -4.32427237e-02,\n",
       "         -3.36123869e-02, -3.69672609e-03, -3.44287374e-05,\n",
       "          9.94807304e-02,  2.26425577e-03,  6.52117382e-02,\n",
       "          2.82160045e-02,  4.08180822e-02,  1.05334349e-02,\n",
       "          6.30992999e-04, -9.62964972e-35,  3.13538437e-02,\n",
       "          3.06755651e-02, -8.10630447e-02, -1.66636751e-01,\n",
       "         -7.31373512e-02,  9.28769436e-04,  0.00000000e+00,\n",
       "          4.37905770e-47, -4.59819391e-02, -2.71001569e-03,\n",
       "         -6.68334045e-02, -3.07158839e-01, -2.65913209e-01,\n",
       "         -3.33196725e-02,  0.00000000e+00,  0.00000000e+00,\n",
       "         -2.00622378e-02,  1.12160017e-01,  3.27198808e-01,\n",
       "          9.12617054e-02, -3.45983889e-01, -9.12549206e-02,\n",
       "          0.00000000e+00,  0.00000000e+00, -1.03207945e-02,\n",
       "          1.37576923e-02,  2.89615621e-01,  2.71046245e-01,\n",
       "         -3.09607821e-01, -9.77859391e-02,  0.00000000e+00,\n",
       "          0.00000000e+00,  1.12690271e-02, -2.52070708e-02,\n",
       "          2.17015058e-01,  3.99279904e-02, -2.78851247e-01,\n",
       "         -4.19154388e-02,  0.00000000e+00,  0.00000000e+00,\n",
       "          7.65127403e-02,  1.39212691e-01, -4.35174461e-02,\n",
       "         -2.33974521e-01, -8.92027537e-02, -1.86149943e-03,\n",
       "          0.00000000e+00],\n",
       "        [-1.94289029e-16, -1.46923188e-02, -8.23285708e-02,\n",
       "         -2.14184157e-01, -3.09772134e-01, -2.43968355e-01,\n",
       "          1.32458179e-02,  1.09780935e-03,  5.49096161e-04,\n",
       "         -9.71245779e-02, -7.50467525e-02,  2.22189983e-01,\n",
       "          2.86060302e-01,  2.17669414e-01,  9.39585174e-02,\n",
       "          1.11125102e-03,  0.00000000e+00, -1.87145626e-01,\n",
       "          1.90340498e-02,  2.72463767e-01,  5.97435927e-02,\n",
       "          2.86542281e-02,  1.51010794e-02,  0.00000000e+00,\n",
       "          0.00000000e+00, -1.55979001e-01, -1.20373345e-01,\n",
       "          6.70894159e-02,  1.28467175e-01, -1.92376723e-01,\n",
       "         -7.70319600e-02,  0.00000000e+00,  0.00000000e+00,\n",
       "         -8.22267140e-02, -2.55196052e-01,  8.88328162e-03,\n",
       "          3.65322210e-01,  5.67202796e-02, -1.19245208e-01,\n",
       "          0.00000000e+00,  0.00000000e+00, -8.77108393e-03,\n",
       "         -8.38652778e-02, -1.60112102e-01,  2.11875327e-01,\n",
       "          9.41583718e-02, -9.44526414e-02,  0.00000000e+00,\n",
       "          0.00000000e+00,  2.45816302e-03,  3.12196740e-02,\n",
       "          3.86430686e-02,  1.87371480e-01, -4.71150545e-02,\n",
       "         -2.93948015e-02,  0.00000000e+00,  0.00000000e+00,\n",
       "         -4.94393325e-02, -7.03737095e-02, -5.44831145e-02,\n",
       "         -3.59893789e-02, -3.69761129e-02, -3.74170282e-03,\n",
       "          0.00000000e+00],\n",
       "        [ 1.59594560e-16,  1.12485108e-02,  8.53129363e-02,\n",
       "          2.69593471e-02,  2.09023441e-02,  2.01907740e-01,\n",
       "          3.28791166e-01,  8.65792573e-03, -4.21940111e-03,\n",
       "         -1.03193154e-01, -5.94006755e-02, -6.05493653e-02,\n",
       "          7.05763762e-03,  1.55914466e-01,  2.24157890e-01,\n",
       "          8.83576327e-03,  8.27180613e-25, -1.68233967e-01,\n",
       "          4.98036281e-02,  1.80921100e-01,  2.74138099e-01,\n",
       "          1.10599630e-01, -3.49681228e-03,  0.00000000e+00,\n",
       "          0.00000000e+00, -1.04174175e-01, -1.21675618e-01,\n",
       "         -1.59962725e-01,  4.75014607e-02,  2.21920766e-01,\n",
       "          7.42295118e-03,  0.00000000e+00,  0.00000000e+00,\n",
       "          2.43562132e-02, -4.41341503e-02, -1.99875913e-01,\n",
       "         -2.99105993e-01,  2.63567945e-02, -1.97534181e-02,\n",
       "          0.00000000e+00,  0.00000000e+00,  3.94241549e-02,\n",
       "          1.54364265e-01,  1.15474318e-01, -3.42196332e-02,\n",
       "         -7.26876654e-02, -1.56109318e-01,  0.00000000e+00,\n",
       "          0.00000000e+00,  7.58901637e-02,  3.02254633e-01,\n",
       "          1.33615938e-01,  5.12011382e-02, -2.21721686e-01,\n",
       "         -1.38930228e-01,  0.00000000e+00,  0.00000000e+00,\n",
       "          2.91577058e-02,  8.54885847e-02, -7.31177154e-02,\n",
       "         -2.43695113e-01, -1.85977028e-01, -1.03847550e-02,\n",
       "          0.00000000e+00],\n",
       "        [-6.66133815e-16, -5.71891527e-02,  5.59350718e-02,\n",
       "         -3.69150988e-02, -2.05538671e-01, -3.33364646e-01,\n",
       "         -1.88839078e-01,  5.56456200e-03, -2.21947544e-04,\n",
       "         -1.02780813e-01,  4.38128819e-02,  1.17600838e-01,\n",
       "          2.33079409e-01,  2.86581237e-01,  6.14870256e-02,\n",
       "         -3.40499115e-04, -2.11758237e-22, -9.35243849e-02,\n",
       "          3.50918758e-02,  1.74601782e-02,  2.05187851e-01,\n",
       "          2.19192593e-01,  2.29436105e-02,  0.00000000e+00,\n",
       "         -2.46519033e-32, -6.66814491e-02,  1.88687884e-02,\n",
       "         -2.23097918e-01, -2.07915616e-01,  1.38048870e-01,\n",
       "          5.19693647e-02,  0.00000000e+00,  0.00000000e+00,\n",
       "          5.92191758e-02,  3.62402716e-01,  2.34728226e-01,\n",
       "         -2.42319400e-01, -8.66465489e-03,  1.15916871e-01,\n",
       "          0.00000000e+00,  0.00000000e+00,  1.02677013e-02,\n",
       "          1.39689940e-01,  1.44497529e-01, -8.98953395e-02,\n",
       "         -3.66641298e-03,  1.21695764e-01,  0.00000000e+00,\n",
       "          0.00000000e+00, -2.57571044e-02, -7.54004713e-03,\n",
       "         -2.31729811e-03, -6.89601802e-02,  1.94729322e-01,\n",
       "          2.59762205e-02,  0.00000000e+00,  0.00000000e+00,\n",
       "         -4.85941409e-02, -7.04266065e-02,  4.09099801e-02,\n",
       "          1.46026509e-01,  1.27011032e-01,  1.10105581e-03,\n",
       "          0.00000000e+00],\n",
       "        [ 5.27355937e-16, -8.16805801e-02, -2.93069883e-01,\n",
       "         -1.42465597e-01,  1.49387203e-02,  1.34955546e-01,\n",
       "          3.48635236e-01,  8.95705470e-03,  2.07644846e-03,\n",
       "         -1.13444740e-01, -8.59406680e-02,  3.34159394e-02,\n",
       "          5.50948472e-02,  1.01361225e-01,  2.74806565e-01,\n",
       "         -1.96334069e-03,  0.00000000e+00, -7.29849131e-02,\n",
       "         -3.07140975e-02, -4.03816979e-01, -1.38703323e-01,\n",
       "         -8.70133545e-02, -1.15145339e-02,  0.00000000e+00,\n",
       "         -1.97215226e-31,  1.43384377e-01,  1.54138353e-01,\n",
       "         -3.56467474e-03,  3.37230534e-02, -9.58595182e-02,\n",
       "          1.14220363e-02,  0.00000000e+00,  0.00000000e+00,\n",
       "          1.43848871e-01,  3.82862088e-01,  3.10489299e-02,\n",
       "          1.58126735e-01, -4.85415879e-02, -3.40739383e-02,\n",
       "          0.00000000e+00,  0.00000000e+00, -2.52910905e-03,\n",
       "          1.21813691e-01, -1.72819906e-01,  5.84242471e-02,\n",
       "         -3.16577234e-02, -7.73921894e-02,  0.00000000e+00,\n",
       "          0.00000000e+00, -2.04646721e-02,  1.75297834e-01,\n",
       "          3.07989336e-02,  4.79101569e-03,  1.03360180e-02,\n",
       "         -3.77546017e-02,  0.00000000e+00,  0.00000000e+00,\n",
       "         -6.40778193e-02, -2.78138249e-01, -8.22133170e-02,\n",
       "          1.09457966e-01, -8.08821871e-03,  2.81628576e-04,\n",
       "          0.00000000e+00],\n",
       "        [-1.10328413e-15, -4.74548114e-02, -8.04384477e-02,\n",
       "          1.23578372e-01,  1.87531502e-01,  1.85560823e-01,\n",
       "          2.20684740e-01, -2.10370435e-03, -1.69213916e-03,\n",
       "          2.70305352e-02,  1.16008306e-02,  7.33314951e-02,\n",
       "         -1.16816497e-02,  3.67418655e-02,  1.17857449e-01,\n",
       "          1.54445258e-02, -5.42101086e-20, -8.23204110e-02,\n",
       "         -4.51535827e-03,  1.91668577e-01, -5.28116430e-02,\n",
       "         -6.77895887e-02, -1.74569378e-02,  0.00000000e+00,\n",
       "          0.00000000e+00, -2.19050549e-01, -2.76311349e-01,\n",
       "         -4.26167211e-03, -1.76527193e-01, -1.72562666e-01,\n",
       "         -1.80231539e-02,  0.00000000e+00,  0.00000000e+00,\n",
       "         -7.46096591e-02, -2.84540026e-01,  1.91868583e-01,\n",
       "          9.17775362e-02, -1.57695328e-01,  1.70315297e-02,\n",
       "          0.00000000e+00,  0.00000000e+00, -2.32354266e-02,\n",
       "          2.73773610e-02,  1.56310861e-01, -2.05802424e-01,\n",
       "         -1.39292285e-01,  1.24882615e-01,  0.00000000e+00,\n",
       "          0.00000000e+00,  8.15002536e-02,  2.55021818e-01,\n",
       "         -8.49171534e-02, -2.12630069e-01,  2.32710903e-01,\n",
       "          1.02498133e-01,  0.00000000e+00,  0.00000000e+00,\n",
       "         -4.69413056e-02, -1.35069145e-01,  4.43455810e-02,\n",
       "          2.99095856e-01,  1.95782036e-01,  6.16957717e-03,\n",
       "          0.00000000e+00],\n",
       "        [-1.37043155e-16, -5.18081425e-02,  1.87105359e-01,\n",
       "          1.66060141e-01,  6.19874422e-02,  5.93124725e-02,\n",
       "         -3.08540990e-02,  2.25589292e-05, -5.41235623e-03,\n",
       "         -2.77754014e-01, -9.63075445e-02, -2.43072455e-01,\n",
       "         -2.18733759e-01, -7.53929921e-02, -8.27526657e-02,\n",
       "         -1.08385744e-04,  0.00000000e+00, -3.76194145e-01,\n",
       "         -6.39923478e-02, -4.85293451e-02,  3.81981272e-03,\n",
       "          5.82842433e-02, -3.01395115e-03,  0.00000000e+00,\n",
       "          0.00000000e+00, -2.22438283e-01, -1.21906687e-01,\n",
       "          6.38206713e-02, -9.25583408e-02,  1.30185326e-01,\n",
       "          7.88014030e-02, -1.21572643e-29, -9.11327480e-30,\n",
       "          1.12970220e-02,  1.28894319e-01,  2.77032872e-01,\n",
       "          9.81270271e-02, -1.37228283e-01,  5.62299158e-02,\n",
       "         -7.40017232e-31, -7.81412400e-31,  2.99111974e-02,\n",
       "         -1.22395985e-01, -1.78638317e-01,  1.78258934e-01,\n",
       "          1.73408149e-01, -1.42686603e-01, -2.28660941e-30,\n",
       "         -1.15641546e-30,  3.16951349e-02, -2.05471546e-02,\n",
       "         -2.22380320e-01,  2.07834582e-01,  5.16894729e-02,\n",
       "         -1.88433761e-01,  0.00000000e+00,  0.00000000e+00,\n",
       "         -4.93738650e-02,  7.83658824e-02,  5.57543348e-02,\n",
       "          1.97327893e-01, -1.74951798e-01, -1.95847475e-02,\n",
       "          0.00000000e+00]]),\n",
       " 6: array([[ 1.11022302e-16,  0.00000000e+00, -1.74551373e-02,\n",
       "         -1.81974238e-01, -1.93835955e-01, -4.21561775e-02,\n",
       "         -5.48533026e-04,  0.00000000e+00,  0.00000000e+00,\n",
       "         -2.96922269e-04, -1.28227290e-01, -2.51814558e-01,\n",
       "         -1.27600867e-01, -3.21718282e-02, -2.48176360e-03,\n",
       "          0.00000000e+00,  0.00000000e+00, -1.40464120e-02,\n",
       "         -2.25186111e-01, -1.62513378e-01, -1.58737800e-02,\n",
       "         -3.03961165e-03, -2.60901534e-04,  0.00000000e+00,\n",
       "          0.00000000e+00, -4.13745405e-02, -2.31968470e-01,\n",
       "         -1.36835156e-01, -5.77849288e-02, -2.65419636e-02,\n",
       "         -6.16669354e-04,  0.00000000e+00,  0.00000000e+00,\n",
       "         -6.16493678e-02, -2.55924471e-01, -2.21913626e-01,\n",
       "         -2.03204648e-01, -1.55277466e-01, -2.98461051e-02,\n",
       "          0.00000000e+00,  0.00000000e+00, -3.46569075e-02,\n",
       "         -2.57066055e-01, -1.89138707e-01, -1.16123090e-01,\n",
       "         -1.96707017e-01, -1.36405495e-01, -5.49017533e-04,\n",
       "          0.00000000e+00, -4.77356995e-03, -1.81995358e-01,\n",
       "         -2.31827521e-01, -1.18855063e-01, -2.03622003e-01,\n",
       "         -1.69351667e-01, -2.82063064e-03,  0.00000000e+00,\n",
       "          0.00000000e+00, -2.37725818e-02, -1.73104624e-01,\n",
       "         -2.49198146e-01, -2.13569666e-01, -7.81032178e-02,\n",
       "          0.00000000e+00],\n",
       "        [ 3.88578059e-16, -1.11022302e-16,  9.25917653e-02,\n",
       "          1.91476316e-01, -2.74015584e-01, -9.67521178e-02,\n",
       "         -2.96567644e-03,  0.00000000e+00,  1.08420217e-19,\n",
       "         -2.67111534e-04,  2.91642548e-01, -1.86485913e-02,\n",
       "         -3.33183755e-01, -9.80170988e-02, -1.32972754e-02,\n",
       "          0.00000000e+00, -1.97215226e-31,  1.77469365e-02,\n",
       "          2.12355232e-01, -3.53521239e-01, -1.01144888e-01,\n",
       "         -1.46603770e-02, -1.53110675e-03,  0.00000000e+00,\n",
       "          0.00000000e+00,  6.64950289e-02,  8.98036901e-02,\n",
       "         -4.28335279e-01, -1.83175750e-01, -9.11440043e-02,\n",
       "         -2.59626302e-03,  0.00000000e+00,  0.00000000e+00,\n",
       "          2.08618056e-02,  6.10347352e-02, -1.41254842e-01,\n",
       "          9.10293736e-02,  5.04112858e-02,  4.44790880e-03,\n",
       "          0.00000000e+00,  0.00000000e+00,  3.74473231e-02,\n",
       "          7.75105384e-02, -6.23937560e-02,  1.92899666e-02,\n",
       "         -5.24009084e-03,  1.20461481e-01,  8.58192957e-04,\n",
       "          0.00000000e+00,  1.44101622e-02,  2.17900905e-01,\n",
       "         -1.09338810e-01, -2.34821444e-01, -6.38885030e-02,\n",
       "          1.29092859e-01, -6.23023375e-03,  0.00000000e+00,\n",
       "          0.00000000e+00,  1.04379949e-01,  1.71610272e-01,\n",
       "          8.06363632e-02,  3.68862217e-02, -2.23122507e-02,\n",
       "          0.00000000e+00],\n",
       "        [ 8.32667268e-17, -5.55111512e-16, -6.04559760e-03,\n",
       "         -3.10966264e-02,  9.44929086e-02,  1.01443979e-01,\n",
       "          2.92258400e-03,  0.00000000e+00,  2.16840434e-19,\n",
       "         -2.06998746e-03,  3.97675467e-02,  1.96602358e-02,\n",
       "          6.10091603e-02,  1.20699363e-01,  1.53811736e-02,\n",
       "          0.00000000e+00, -1.26217745e-29,  4.12891706e-02,\n",
       "          5.11413187e-02, -1.54930943e-01, -3.03858081e-02,\n",
       "          2.16196909e-03, -7.68253625e-04,  0.00000000e+00,\n",
       "          0.00000000e+00,  8.58948945e-02, -1.77420411e-03,\n",
       "         -4.25124446e-02,  3.38981517e-01,  1.95115715e-01,\n",
       "          5.30930279e-03,  0.00000000e+00,  0.00000000e+00,\n",
       "          1.44675104e-01,  1.43941211e-02,  9.94029645e-02,\n",
       "          1.92863317e-01,  4.56384058e-01,  1.33869251e-01,\n",
       "          0.00000000e+00,  0.00000000e+00,  2.86731012e-02,\n",
       "          1.96369330e-02, -3.31972536e-01, -5.32913933e-01,\n",
       "         -9.48807792e-02,  1.20399197e-01, -2.96115818e-03,\n",
       "          0.00000000e+00, -8.42134240e-03,  1.89454895e-02,\n",
       "         -8.14781617e-02, -3.34319604e-02,  5.78351799e-02,\n",
       "         -1.29874108e-01, -1.93999871e-02,  0.00000000e+00,\n",
       "          0.00000000e+00, -2.50937576e-02, -6.41443666e-03,\n",
       "         -5.73280833e-02, -9.59812535e-02, -1.11964956e-01,\n",
       "          0.00000000e+00],\n",
       "        [ 2.77555756e-16,  8.32667268e-17,  9.86806553e-03,\n",
       "          3.39419504e-02,  1.53284790e-01,  2.44057028e-01,\n",
       "          7.67890463e-03,  0.00000000e+00, -1.73472348e-18,\n",
       "          3.37205999e-04,  1.79896256e-01,  4.48419399e-02,\n",
       "          5.24979311e-02,  2.00904596e-01,  3.30414568e-02,\n",
       "          0.00000000e+00, -8.07793567e-28,  6.46064531e-02,\n",
       "          2.06347121e-01, -1.16329703e-01, -4.44808684e-02,\n",
       "          4.96849573e-02,  5.35306631e-03,  0.00000000e+00,\n",
       "          0.00000000e+00,  1.69718767e-01,  1.15608228e-01,\n",
       "         -9.40707744e-02, -5.18159064e-03, -1.13422880e-02,\n",
       "          2.00602427e-03,  0.00000000e+00,  0.00000000e+00,\n",
       "          1.59111441e-01,  6.59413088e-02, -1.06800422e-02,\n",
       "         -8.01298137e-02, -3.16291603e-01, -8.75781838e-02,\n",
       "          0.00000000e+00,  0.00000000e+00,  3.06829599e-02,\n",
       "          3.65744969e-02, -1.76275426e-01,  1.87675831e-01,\n",
       "          6.09159019e-02, -3.59968715e-01, -4.00005056e-03,\n",
       "          0.00000000e+00, -3.34490044e-03,  6.89536509e-02,\n",
       "         -4.56490428e-02,  1.34248000e-01,  2.06464509e-01,\n",
       "         -4.53143311e-01, -1.74742254e-02,  0.00000000e+00,\n",
       "          0.00000000e+00,  1.39588937e-02,  7.16208934e-02,\n",
       "         -2.47085168e-03, -1.63593487e-01, -2.64729457e-01,\n",
       "          0.00000000e+00],\n",
       "        [ 1.73472348e-16,  1.66533454e-16, -8.88337347e-02,\n",
       "         -7.54632270e-02,  3.54704441e-01,  1.11951993e-01,\n",
       "         -7.59865520e-03,  0.00000000e+00, -2.77555756e-17,\n",
       "          1.91180357e-04, -6.82333406e-02,  9.79528435e-02,\n",
       "          1.39998554e-01, -1.33477777e-01, -3.59031782e-02,\n",
       "          0.00000000e+00,  0.00000000e+00,  2.79083872e-02,\n",
       "         -4.64195989e-02, -8.63394635e-02, -7.90192401e-03,\n",
       "         -3.24802009e-02, -2.09009784e-03,  0.00000000e+00,\n",
       "          0.00000000e+00,  3.09168034e-02, -1.40254621e-01,\n",
       "         -1.28654403e-01, -2.84737422e-01, -2.21255800e-01,\n",
       "         -7.96305106e-03,  0.00000000e+00,  0.00000000e+00,\n",
       "         -7.65720581e-02,  5.64473387e-02,  2.43314701e-01,\n",
       "          2.55770736e-01, -1.13227043e-01, -1.01507650e-01,\n",
       "          0.00000000e+00,  0.00000000e+00, -3.48496668e-02,\n",
       "          4.75461536e-02, -2.61936562e-01, -9.44227971e-02,\n",
       "         -4.20153816e-02, -1.75427518e-01, -1.50639784e-03,\n",
       "          0.00000000e+00, -1.33775304e-02, -1.36559457e-01,\n",
       "         -1.12469024e-01, -3.61185149e-01, -6.34388048e-02,\n",
       "         -3.73634318e-02, -1.48859536e-03,  0.00000000e+00,\n",
       "          0.00000000e+00, -9.97018228e-02, -5.54177563e-02,\n",
       "          1.33366425e-01,  3.37084667e-01,  1.84805986e-01,\n",
       "          0.00000000e+00],\n",
       "        [ 7.49400542e-16,  5.27355937e-16, -2.74727327e-04,\n",
       "         -4.82607021e-02,  1.51220724e-01,  1.57588401e-01,\n",
       "          4.23208474e-03,  1.66533454e-16,  5.55111512e-17,\n",
       "          1.96661109e-03,  7.44083824e-02, -3.96183167e-02,\n",
       "          1.50160544e-01,  1.42493502e-01,  2.13731069e-02,\n",
       "          0.00000000e+00, -1.35525272e-20,  4.57363780e-02,\n",
       "          2.47049355e-01, -2.46080666e-02,  7.38526557e-02,\n",
       "         -7.20377902e-03, -2.12683228e-04,  0.00000000e+00,\n",
       "          0.00000000e+00,  1.04878960e-01,  2.60468547e-01,\n",
       "          3.29639263e-02,  1.88734384e-01,  1.50707758e-01,\n",
       "          9.51546566e-03,  0.00000000e+00,  0.00000000e+00,\n",
       "          6.56867900e-02,  2.55961083e-02, -3.47062400e-01,\n",
       "         -4.60761348e-01, -1.13849705e-01,  6.10913018e-02,\n",
       "          0.00000000e+00,  0.00000000e+00, -1.57781073e-02,\n",
       "          2.70273655e-02, -1.77239647e-01,  8.29362251e-03,\n",
       "         -7.27628459e-02,  6.70128124e-02,  1.12812543e-03,\n",
       "          0.00000000e+00, -1.98872643e-02, -3.75417212e-02,\n",
       "         -3.98095998e-02, -1.71103739e-01, -1.98965480e-01,\n",
       "          2.01260555e-01,  5.64670452e-03,  0.00000000e+00,\n",
       "          0.00000000e+00, -1.85764573e-02, -8.08761718e-02,\n",
       "         -5.22015297e-03,  2.37843436e-01,  3.44965207e-01,\n",
       "          0.00000000e+00],\n",
       "        [-1.24900090e-16, -8.32667268e-17, -3.67437424e-02,\n",
       "         -7.53365578e-02,  2.59123806e-01,  9.35095090e-02,\n",
       "          9.95657749e-03, -2.77555756e-16, -5.55111512e-17,\n",
       "         -2.43285911e-03, -5.41573355e-02,  5.27490371e-02,\n",
       "          2.11615715e-01,  2.04495973e-01,  3.95043700e-02,\n",
       "          0.00000000e+00,  1.35525272e-20, -2.81068480e-02,\n",
       "          4.31391773e-03, -1.97412984e-01,  6.10786854e-03,\n",
       "          9.54413988e-02,  1.02785175e-02,  0.00000000e+00,\n",
       "         -2.52435490e-29, -2.62189400e-02,  8.96023367e-03,\n",
       "         -3.18506036e-01, -1.66459701e-01, -5.67683144e-02,\n",
       "          2.38100875e-03,  0.00000000e+00,  2.29588740e-41,\n",
       "         -7.04633261e-02, -2.21437821e-02, -1.10610142e-01,\n",
       "          1.06163751e-01,  2.20299766e-01,  1.51362246e-01,\n",
       "          5.25486924e-46,  4.37905770e-46, -6.37384907e-02,\n",
       "          9.54934780e-02,  2.66148899e-01,  2.41743660e-01,\n",
       "         -3.89511823e-01,  1.74185306e-01,  4.71500586e-03,\n",
       "          0.00000000e+00,  7.38572401e-03, -2.89313521e-02,\n",
       "          1.45338859e-01,  2.03390740e-01, -3.26275053e-01,\n",
       "         -1.21817752e-01,  1.96745118e-02,  0.00000000e+00,\n",
       "          0.00000000e+00, -4.90718545e-02, -7.64962003e-02,\n",
       "          4.81028715e-02, -1.40771699e-01, -2.28758715e-02,\n",
       "          0.00000000e+00],\n",
       "        [ 7.77156117e-16, -1.38777878e-16, -5.47347523e-02,\n",
       "          5.22405672e-02,  3.50395132e-02,  5.71874891e-02,\n",
       "          3.20248161e-03,  1.11022302e-16, -1.66533454e-16,\n",
       "         -2.26088101e-03, -1.79727223e-01,  1.04174616e-01,\n",
       "         -2.30116507e-01, -2.05029675e-01,  1.06492297e-02,\n",
       "          0.00000000e+00,  0.00000000e+00, -7.97925481e-02,\n",
       "          1.61623341e-01,  2.44594736e-01,  2.78380026e-02,\n",
       "          1.72300521e-02,  5.36317835e-03,  0.00000000e+00,\n",
       "          0.00000000e+00, -1.50861764e-01,  4.47484215e-01,\n",
       "          1.67994015e-01, -1.74183993e-01, -6.74738523e-02,\n",
       "         -8.34221737e-03,  0.00000000e+00,  0.00000000e+00,\n",
       "         -1.56992593e-01,  1.31237030e-01,  1.79205979e-01,\n",
       "         -1.23750198e-01, -7.76873912e-02,  6.77309175e-03,\n",
       "          2.86985925e-42,  2.15239444e-42, -7.90774012e-02,\n",
       "          3.63804409e-02, -1.20340311e-01, -1.58255465e-01,\n",
       "         -4.73098013e-01,  6.10782885e-02,  3.62774871e-03,\n",
       "          0.00000000e+00,  1.92379229e-02,  1.40183226e-01,\n",
       "         -1.42020647e-01,  4.81455339e-03, -9.06872935e-02,\n",
       "         -6.32718498e-02, -4.92622411e-03,  0.00000000e+00,\n",
       "          0.00000000e+00, -4.67765817e-03,  8.08051542e-02,\n",
       "         -6.11421891e-02, -1.29498075e-01, -1.49421291e-01,\n",
       "          0.00000000e+00]]),\n",
       " 7: array([[-2.22044605e-16, -5.55111512e-17, -7.87157145e-02,\n",
       "         -2.22897583e-01, -2.48407902e-01, -1.97108709e-01,\n",
       "         -9.89509274e-02, -2.94039766e-02,  0.00000000e+00,\n",
       "         -9.31863207e-03, -1.93994945e-01, -2.30121250e-01,\n",
       "         -2.08288749e-01, -2.21399565e-01, -1.20539341e-01,\n",
       "         -1.99380827e-02,  0.00000000e+00, -1.01206491e-02,\n",
       "         -7.49969113e-02, -4.48534990e-02, -1.14167557e-01,\n",
       "         -2.10711123e-01, -8.33027954e-02, -2.10778946e-03,\n",
       "          0.00000000e+00, -1.19797125e-02, -9.25383373e-02,\n",
       "         -9.79849815e-02, -1.97261729e-01, -2.40866389e-01,\n",
       "         -8.45663241e-02,  0.00000000e+00,  0.00000000e+00,\n",
       "         -3.18801203e-02, -1.69842611e-01, -2.28013023e-01,\n",
       "         -2.58721435e-01, -2.12108561e-01, -8.16204450e-02,\n",
       "          0.00000000e+00,  0.00000000e+00, -1.79292649e-02,\n",
       "         -9.48564754e-02, -1.98152088e-01, -2.15932585e-01,\n",
       "         -6.05369840e-02, -9.73747877e-03,  0.00000000e+00,\n",
       "          0.00000000e+00,  0.00000000e+00, -4.48384212e-02,\n",
       "         -2.40090758e-01, -1.30037506e-01, -3.92580519e-03,\n",
       "          0.00000000e+00,  0.00000000e+00,  0.00000000e+00,\n",
       "         -5.58294393e-04, -9.57626948e-02, -2.29445890e-01,\n",
       "         -5.08849082e-02, -3.03878115e-04,  0.00000000e+00,\n",
       "          0.00000000e+00],\n",
       "        [-9.02056208e-17,  1.52655666e-16, -1.04148134e-01,\n",
       "         -7.21554542e-02, -1.29447909e-02,  2.09338089e-01,\n",
       "          3.20068545e-01,  1.39007506e-01, -1.69406589e-21,\n",
       "         -5.87697668e-03, -3.44347488e-02,  8.18569560e-02,\n",
       "         -4.29688862e-02,  9.03367070e-02,  3.72547424e-01,\n",
       "          1.08411472e-01,  1.20370622e-35,  4.33902797e-03,\n",
       "          2.07171600e-01,  7.24334044e-02, -2.95968359e-01,\n",
       "          1.23125005e-02,  2.56708679e-01,  1.16385882e-02,\n",
       "          0.00000000e+00,  2.78088632e-02,  2.32535539e-01,\n",
       "         -8.53672186e-02, -2.55561051e-01,  1.00891099e-01,\n",
       "         -2.47481319e-02,  0.00000000e+00,  0.00000000e+00,\n",
       "         -2.74315335e-02, -1.50693986e-01, -2.64037146e-01,\n",
       "         -6.39611318e-02,  2.58587798e-02, -7.64863284e-02,\n",
       "          0.00000000e+00,  0.00000000e+00, -5.59115495e-02,\n",
       "         -1.73555995e-01, -2.15993239e-01,  1.18586627e-01,\n",
       "          2.27746081e-02, -1.17674356e-02,  0.00000000e+00,\n",
       "          0.00000000e+00,  0.00000000e+00, -9.98598089e-02,\n",
       "         -6.60695100e-02,  2.09138233e-01,  6.06878069e-03,\n",
       "          0.00000000e+00,  0.00000000e+00,  0.00000000e+00,\n",
       "         -2.74880071e-03, -1.63834179e-01,  1.14682650e-01,\n",
       "          1.13971835e-01,  6.05065655e-04,  0.00000000e+00,\n",
       "          0.00000000e+00],\n",
       "        [-2.22044605e-16, -3.33066907e-16,  1.63062217e-01,\n",
       "          1.31426636e-01, -8.50399240e-02, -1.03174688e-01,\n",
       "          1.57244589e-01,  8.77940323e-02,  0.00000000e+00,\n",
       "         -1.35351440e-02, -1.16142159e-02,  8.58628705e-02,\n",
       "          9.68217004e-02, -1.33771797e-01,  1.14243153e-01,\n",
       "          6.08771438e-02,  0.00000000e+00, -2.32863475e-02,\n",
       "          8.32781704e-02,  2.47305398e-01,  1.79889260e-01,\n",
       "         -8.73719437e-02,  1.32498087e-01,  8.52057265e-03,\n",
       "          0.00000000e+00,  1.94157431e-02,  3.19365438e-01,\n",
       "          2.34270690e-01,  1.08590245e-01,  2.24492266e-02,\n",
       "          1.35667363e-01,  0.00000000e+00,  0.00000000e+00,\n",
       "         -1.97364806e-02, -1.06556984e-01, -1.42309532e-01,\n",
       "         -8.01768407e-02, -2.97009243e-01, -1.99396552e-01,\n",
       "          0.00000000e+00,  0.00000000e+00, -2.01260400e-02,\n",
       "         -1.81279567e-01,  1.07254100e-01, -1.71629530e-01,\n",
       "         -2.47739399e-01, -4.60321705e-02,  0.00000000e+00,\n",
       "          0.00000000e+00,  0.00000000e+00,  1.55242227e-01,\n",
       "          2.11371844e-01, -2.69500369e-01, -3.34630593e-02,\n",
       "          0.00000000e+00,  0.00000000e+00,  0.00000000e+00,\n",
       "          5.02025793e-03,  2.54645915e-01, -6.12036325e-03,\n",
       "         -1.68331325e-01, -2.14626356e-03,  0.00000000e+00,\n",
       "          0.00000000e+00],\n",
       "        [ 5.55111512e-17,  1.11022302e-16,  7.18023184e-03,\n",
       "         -2.81156491e-02,  1.12722776e-01,  3.05132533e-01,\n",
       "          8.05776629e-02, -4.00046539e-02,  3.46944695e-18,\n",
       "         -2.66805648e-02, -2.13597605e-01, -2.69582199e-01,\n",
       "         -2.60848861e-01,  1.30994984e-01,  8.60627389e-02,\n",
       "         -5.57902535e-02, -1.61558713e-27, -4.40660842e-02,\n",
       "         -3.34280933e-01, -2.18675851e-01, -1.64300935e-01,\n",
       "          1.77475243e-01,  2.18258530e-02, -4.96598460e-03,\n",
       "          0.00000000e+00,  3.19716718e-02, -2.54509481e-02,\n",
       "          2.79459587e-01,  1.06593387e-01,  1.52534849e-01,\n",
       "          2.80620115e-01,  0.00000000e+00,  0.00000000e+00,\n",
       "          6.17610813e-02,  1.48875189e-01,  2.35537822e-01,\n",
       "         -1.18052114e-02, -1.32852914e-01, -3.16355614e-02,\n",
       "          0.00000000e+00,  0.00000000e+00, -8.41441765e-02,\n",
       "         -2.88355218e-01, -1.11450229e-01, -1.78534297e-01,\n",
       "         -1.07688160e-01, -4.43996007e-02,  0.00000000e+00,\n",
       "          0.00000000e+00,  0.00000000e+00,  4.85452051e-02,\n",
       "         -4.48921303e-02, -1.24166350e-02,  2.54302813e-02,\n",
       "          0.00000000e+00,  0.00000000e+00,  0.00000000e+00,\n",
       "         -2.16919723e-03,  3.87200568e-02, -3.16127448e-02,\n",
       "          2.91713754e-02,  3.54910569e-03,  0.00000000e+00,\n",
       "          0.00000000e+00],\n",
       "        [ 1.38777878e-16, -1.66533454e-16, -3.92076602e-02,\n",
       "         -5.12434091e-02,  6.05284019e-02,  2.51947948e-01,\n",
       "          2.00113184e-01,  2.65395379e-02, -5.55111512e-17,\n",
       "          2.71328146e-02,  1.78083223e-01, -4.64617365e-02,\n",
       "         -9.73542814e-02,  2.01822545e-01,  1.31842743e-01,\n",
       "         -2.85916657e-02,  3.30872245e-24,  2.05495912e-02,\n",
       "          9.07259006e-02, -1.76862828e-01, -1.32609157e-01,\n",
       "          1.88618078e-01, -1.74211209e-01, -1.77041017e-02,\n",
       "          0.00000000e+00, -1.69744069e-02, -2.77423314e-01,\n",
       "         -2.13377588e-01,  2.76497731e-02, -7.03406496e-02,\n",
       "         -1.34255929e-01,  0.00000000e+00,  0.00000000e+00,\n",
       "         -2.09300413e-01, -4.06553786e-01, -3.08324091e-02,\n",
       "          3.37837316e-02, -1.13799699e-01, -1.37177897e-02,\n",
       "          0.00000000e+00,  0.00000000e+00, -6.92031224e-02,\n",
       "          1.31821913e-01,  3.08430843e-01, -1.71361974e-01,\n",
       "         -9.06639580e-02,  1.54571840e-02,  0.00000000e+00,\n",
       "          0.00000000e+00,  0.00000000e+00,  5.33467600e-02,\n",
       "          1.23313116e-01, -2.77076907e-01, -5.52619801e-02,\n",
       "          0.00000000e+00,  0.00000000e+00,  0.00000000e+00,\n",
       "         -1.07965203e-02,  2.37938940e-02,  2.92712570e-02,\n",
       "         -1.89091364e-01, -5.84718007e-03,  0.00000000e+00,\n",
       "          0.00000000e+00],\n",
       "        [ 2.91433544e-16, -1.66533454e-16,  1.00162592e-01,\n",
       "          1.88610401e-01, -6.78350132e-02, -5.87129655e-02,\n",
       "          3.21735904e-01,  2.33194163e-01,  0.00000000e+00,\n",
       "         -6.98163636e-02, -2.39996701e-01, -2.54116081e-02,\n",
       "         -1.15761898e-01, -3.40008623e-01,  2.77463643e-01,\n",
       "          1.21731463e-01,  2.64697796e-23, -1.12804024e-01,\n",
       "         -3.31295571e-01,  4.82216124e-02, -4.70414502e-02,\n",
       "         -2.28342759e-01,  1.51566450e-01,  1.67149237e-02,\n",
       "          0.00000000e+00, -6.61795090e-02, -3.08583743e-01,\n",
       "         -8.02855213e-02, -7.68805853e-02, -1.43926596e-02,\n",
       "         -5.18968244e-02,  0.00000000e+00,  0.00000000e+00,\n",
       "          1.02183753e-03,  2.93638867e-02,  1.13178024e-01,\n",
       "          6.70643853e-02,  2.41178089e-01,  1.45404434e-01,\n",
       "          0.00000000e+00,  0.00000000e+00,  5.22113726e-02,\n",
       "          1.50693293e-01,  9.14824493e-02,  1.14980405e-01,\n",
       "          2.20901441e-02,  1.90367278e-03,  0.00000000e+00,\n",
       "          0.00000000e+00,  0.00000000e+00,  4.45922463e-02,\n",
       "          3.48918075e-02, -4.78819983e-02, -7.23288468e-03,\n",
       "          0.00000000e+00,  0.00000000e+00,  0.00000000e+00,\n",
       "          7.06756456e-03,  1.56330482e-01, -1.30306522e-02,\n",
       "         -1.09742898e-01, -7.56654306e-04,  0.00000000e+00,\n",
       "          0.00000000e+00],\n",
       "        [ 4.16333634e-16,  6.10622664e-16,  1.14074884e-01,\n",
       "         -1.34144053e-01,  1.04531224e-01,  2.36168748e-01,\n",
       "          5.41589756e-02,  1.24545002e-01, -8.32667268e-17,\n",
       "          2.50264324e-02,  2.87894566e-01, -6.51328272e-02,\n",
       "         -1.94331490e-01,  3.69504288e-02,  3.41724652e-02,\n",
       "          7.43979835e-02, -2.71050543e-20,  3.40986453e-02,\n",
       "          7.52383417e-02, -9.12655987e-02, -6.78401925e-02,\n",
       "         -1.65453311e-01, -4.14149525e-03,  1.10128762e-02,\n",
       "         -2.01948392e-28,  9.63472256e-02,  2.44167088e-01,\n",
       "         -8.23615359e-02, -1.80387737e-01, -8.15083805e-02,\n",
       "         -2.54966488e-02, -9.92734423e-30,  4.65202465e-30,\n",
       "          2.12452955e-01,  4.83881951e-01, -9.86944924e-02,\n",
       "         -1.54007356e-01,  2.87756841e-02, -3.98408169e-02,\n",
       "         -9.33270188e-31, -1.16275820e-30,  1.25096089e-01,\n",
       "          2.78842276e-01,  1.29438457e-01, -1.60869548e-01,\n",
       "          1.35435277e-01,  6.83717910e-02,  0.00000000e+00,\n",
       "          0.00000000e+00,  0.00000000e+00,  1.90151148e-01,\n",
       "         -7.70588917e-02, -1.41454719e-01,  1.84480449e-02,\n",
       "          0.00000000e+00,  0.00000000e+00,  0.00000000e+00,\n",
       "          3.29070193e-03,  1.59558733e-01, -1.58266465e-01,\n",
       "         -1.74724977e-02, -1.04066495e-03,  0.00000000e+00,\n",
       "          0.00000000e+00],\n",
       "        [-5.68989300e-16,  3.33066907e-16, -6.56482168e-02,\n",
       "          1.83333255e-01,  4.29004587e-01, -5.62341248e-02,\n",
       "         -2.12982107e-01,  1.11902290e-01,  1.11022302e-16,\n",
       "         -3.98335052e-02,  1.52106119e-04, -1.75373903e-01,\n",
       "          1.25170420e-01, -4.57909458e-02, -9.58915889e-02,\n",
       "          1.02522261e-01,  0.00000000e+00, -8.53163259e-02,\n",
       "         -1.38479724e-01, -9.32755369e-02,  6.94579758e-02,\n",
       "          9.88934052e-02,  4.36658255e-01,  2.75621188e-02,\n",
       "          4.13590306e-25, -7.50470336e-02,  4.69380923e-02,\n",
       "          4.09238175e-02, -1.73829109e-01, -3.80654475e-02,\n",
       "          1.93538027e-01, -1.02889976e-26,  4.82149803e-27,\n",
       "         -1.71693751e-01, -2.47911837e-01, -2.79523530e-02,\n",
       "         -2.20718005e-01, -9.11110498e-02, -9.91200957e-02,\n",
       "         -9.67269244e-28, -1.20511751e-27,  6.38521618e-03,\n",
       "          2.29149539e-01,  7.88892425e-02, -1.11702828e-01,\n",
       "          2.74198063e-01,  7.58787252e-02,  0.00000000e+00,\n",
       "          0.00000000e+00,  0.00000000e+00,  2.50783572e-02,\n",
       "         -7.70196486e-02,  1.84465270e-02,  3.68813157e-02,\n",
       "          0.00000000e+00,  0.00000000e+00,  0.00000000e+00,\n",
       "         -1.98065083e-02, -4.41273673e-02,  7.73372545e-02,\n",
       "         -3.13083034e-03,  2.10843391e-03,  0.00000000e+00,\n",
       "          0.00000000e+00]]),\n",
       " 8: array([[-2.22044605e-16, -1.23281535e-03, -6.69925189e-02,\n",
       "         -1.91175371e-01, -2.14805232e-01, -1.08510799e-01,\n",
       "         -7.85114396e-03,  0.00000000e+00,  0.00000000e+00,\n",
       "         -1.96495239e-02, -1.96519021e-01, -2.03288394e-01,\n",
       "         -1.65872633e-01, -2.10705297e-01, -3.94876482e-02,\n",
       "          0.00000000e+00,  0.00000000e+00, -3.89371363e-02,\n",
       "         -1.83737903e-01, -1.38964646e-01, -1.22136563e-01,\n",
       "         -2.20026467e-01, -3.77796992e-02,  0.00000000e+00,\n",
       "          0.00000000e+00, -1.40904676e-02, -1.21828358e-01,\n",
       "         -2.37266186e-01, -2.30735603e-01, -1.32030843e-01,\n",
       "         -7.73152621e-03,  0.00000000e+00,  0.00000000e+00,\n",
       "         -7.14383799e-03, -1.30160468e-01, -2.48410426e-01,\n",
       "         -2.27411903e-01, -7.26835918e-02, -9.13661167e-04,\n",
       "          0.00000000e+00,  0.00000000e+00, -2.51860249e-02,\n",
       "         -2.11098115e-01, -1.33609157e-01, -1.51114395e-01,\n",
       "         -1.52086672e-01, -2.08062636e-02,  0.00000000e+00,\n",
       "          0.00000000e+00, -1.74647325e-02, -2.12932540e-01,\n",
       "         -1.45478706e-01, -1.51370516e-01, -1.72623662e-01,\n",
       "         -4.32971543e-02,  0.00000000e+00,  0.00000000e+00,\n",
       "         -5.53007137e-04, -7.40422096e-02, -2.15487436e-01,\n",
       "         -2.23084083e-01, -1.29024862e-01, -2.99765543e-02,\n",
       "          0.00000000e+00],\n",
       "        [-1.38777878e-16, -6.66873558e-03, -1.03305993e-01,\n",
       "         -4.11447661e-02,  3.40500630e-02,  6.15362707e-02,\n",
       "          5.11971791e-03,  0.00000000e+00,  5.42101086e-20,\n",
       "          2.90839184e-02,  4.75995015e-02, -1.17076118e-01,\n",
       "         -1.65534301e-01,  5.44685711e-02,  2.82919267e-02,\n",
       "          0.00000000e+00,  1.26217745e-29,  1.22635649e-01,\n",
       "          8.90863786e-02, -1.97315288e-01, -3.07717488e-01,\n",
       "          5.81480609e-02,  5.03630038e-02,  0.00000000e+00,\n",
       "          0.00000000e+00,  3.73651303e-02,  1.27698632e-01,\n",
       "         -9.44311486e-02,  2.66128825e-02,  2.00290628e-01,\n",
       "          1.84315172e-02,  0.00000000e+00,  0.00000000e+00,\n",
       "         -3.06199203e-02, -9.04890314e-02, -8.05814716e-02,\n",
       "          1.98287671e-01,  2.71217294e-01,  7.51304530e-03,\n",
       "          0.00000000e+00,  0.00000000e+00, -3.53202088e-02,\n",
       "         -7.99810120e-02, -5.15960771e-02, -2.61762962e-01,\n",
       "          3.42179323e-01,  1.14212264e-01,  0.00000000e+00,\n",
       "          0.00000000e+00, -1.67828070e-02, -1.20082662e-01,\n",
       "          5.19484498e-02, -3.15297711e-01,  2.49846301e-01,\n",
       "          1.98225662e-01,  0.00000000e+00,  0.00000000e+00,\n",
       "         -3.18300835e-03, -1.38334081e-01, -1.21475266e-01,\n",
       "          7.51738991e-02,  3.07332443e-01,  1.19510940e-01,\n",
       "          0.00000000e+00],\n",
       "        [ 5.41233725e-16,  9.51435842e-03,  9.62104085e-02,\n",
       "          5.18790930e-02,  9.36541775e-03,  1.48458103e-01,\n",
       "          2.86117326e-02,  0.00000000e+00, -8.67361738e-19,\n",
       "          8.29551863e-02,  3.16469595e-01, -2.13699672e-01,\n",
       "         -1.28748130e-01, -2.73590029e-03,  1.22242906e-01,\n",
       "          0.00000000e+00,  6.46234854e-27,  1.78583124e-01,\n",
       "          3.38972051e-01, -3.78627078e-01, -1.71070238e-01,\n",
       "          7.75905350e-03,  5.44824059e-02,  0.00000000e+00,\n",
       "          0.00000000e+00,  7.62805444e-02,  4.18569160e-01,\n",
       "         -6.83785436e-02, -8.51381880e-02,  3.39176241e-02,\n",
       "         -8.63172311e-04,  0.00000000e+00,  0.00000000e+00,\n",
       "          5.24683314e-03,  2.04716757e-02,  3.52918961e-02,\n",
       "         -9.61493706e-02,  4.25686754e-03,  2.71326618e-03,\n",
       "          0.00000000e+00,  0.00000000e+00, -4.44787123e-02,\n",
       "         -1.43556181e-01,  1.46564022e-01,  4.79103804e-02,\n",
       "         -1.28065689e-01, -5.90695980e-04,  0.00000000e+00,\n",
       "          0.00000000e+00, -3.65588253e-03, -2.98584740e-02,\n",
       "         -1.79179029e-02,  1.73970414e-01, -1.45503747e-01,\n",
       "         -1.11762112e-01,  0.00000000e+00,  0.00000000e+00,\n",
       "          1.22551403e-03,  7.86910262e-02,  1.16375281e-01,\n",
       "         -9.27329724e-03, -2.68983882e-01, -1.82182774e-01,\n",
       "          0.00000000e+00],\n",
       "        [ 2.77555756e-16, -4.43335432e-03,  6.40790303e-02,\n",
       "          4.13618935e-02, -2.69617355e-01, -3.87503259e-01,\n",
       "         -4.51876875e-02,  0.00000000e+00,  2.77555756e-17,\n",
       "         -3.54371997e-02,  1.00685291e-01,  1.40232851e-01,\n",
       "          3.57925132e-01, -1.69008492e-01, -1.31245738e-01,\n",
       "          0.00000000e+00, -2.64697796e-23, -6.92018593e-02,\n",
       "          2.98130607e-02, -2.20946570e-02, -5.72204685e-02,\n",
       "         -1.22984554e-02,  8.93197100e-02,  0.00000000e+00,\n",
       "          0.00000000e+00, -3.51710352e-02, -1.27270388e-01,\n",
       "         -7.90224813e-02, -2.91806099e-02,  4.29690006e-01,\n",
       "          5.12334563e-02,  0.00000000e+00,  0.00000000e+00,\n",
       "         -4.40313905e-02, -2.18994926e-01, -3.22507099e-02,\n",
       "          1.48847814e-01,  2.38757327e-01,  3.97521712e-03,\n",
       "          0.00000000e+00,  0.00000000e+00, -1.22030610e-01,\n",
       "         -6.49727493e-02,  1.89013257e-01, -3.78658672e-02,\n",
       "          1.10999409e-01,  3.77859843e-02,  0.00000000e+00,\n",
       "          0.00000000e+00, -4.60145019e-02,  2.83016851e-03,\n",
       "         -2.76563615e-02,  1.14466881e-01,  9.52417732e-02,\n",
       "         -6.36410743e-02,  0.00000000e+00,  0.00000000e+00,\n",
       "         -3.51510714e-03,  2.85823594e-02,  1.79532750e-02,\n",
       "         -6.67909871e-02, -2.69592627e-01, -1.65559291e-01,\n",
       "          0.00000000e+00],\n",
       "        [-6.66133815e-16, -5.22802648e-03,  1.22092039e-01,\n",
       "         -3.97710705e-02, -2.16604426e-01, -4.17778812e-02,\n",
       "         -1.20032211e-02,  0.00000000e+00,  0.00000000e+00,\n",
       "          6.26423451e-03,  1.33171427e-01, -1.14940560e-01,\n",
       "          1.87747613e-01,  1.46262936e-01,  2.90673287e-02,\n",
       "          0.00000000e+00, -8.47032947e-22, -1.60031513e-02,\n",
       "          2.46869076e-02, -7.93388726e-02,  1.44474118e-01,\n",
       "          7.10342713e-02,  1.02074585e-03,  0.00000000e+00,\n",
       "          0.00000000e+00, -7.20336888e-04,  6.97546517e-02,\n",
       "          7.88687238e-02,  1.21884007e-01, -1.71886957e-01,\n",
       "         -3.86410127e-02,  0.00000000e+00,  0.00000000e+00,\n",
       "          2.78501850e-02,  3.33755177e-01, -4.08862169e-02,\n",
       "         -5.27954840e-04,  5.37565589e-02, -4.65607053e-03,\n",
       "          0.00000000e+00,  0.00000000e+00,  8.97668957e-02,\n",
       "          1.01234133e-01, -4.77841406e-01, -2.27482155e-01,\n",
       "          2.84411337e-01,  1.09973116e-02,  0.00000000e+00,\n",
       "          0.00000000e+00,  7.51526830e-02,  5.07763163e-02,\n",
       "         -2.16642829e-01, -1.05526223e-01,  1.64415367e-01,\n",
       "         -3.39907351e-02,  0.00000000e+00,  0.00000000e+00,\n",
       "          3.06629962e-03,  1.89468450e-01,  1.69068376e-02,\n",
       "         -2.58808049e-01, -2.16041177e-01, -1.25151797e-01,\n",
       "          0.00000000e+00],\n",
       "        [-5.13478149e-16, -1.37030724e-02,  1.30872865e-02,\n",
       "          3.49664293e-02, -7.28819995e-02,  1.64702236e-02,\n",
       "          3.18099577e-02,  5.55111512e-17,  5.55111512e-17,\n",
       "         -1.01877669e-01, -8.83615053e-02, -4.55590357e-02,\n",
       "         -2.40758341e-01, -1.73666202e-01,  1.74054305e-01,\n",
       "          0.00000000e+00, -5.42101086e-20, -4.50118240e-02,\n",
       "          3.83388566e-02, -4.58860166e-02, -3.88669321e-01,\n",
       "          6.49266615e-02,  1.65757866e-01,  0.00000000e+00,\n",
       "          0.00000000e+00, -1.46066153e-02, -1.72044731e-01,\n",
       "          1.54653343e-02,  6.66275633e-02,  1.22880815e-01,\n",
       "          7.58381288e-03,  0.00000000e+00,  0.00000000e+00,\n",
       "         -1.59618856e-02, -9.60563123e-02,  1.43151686e-02,\n",
       "          2.67355072e-01, -2.26060782e-01, -1.25623318e-02,\n",
       "          0.00000000e+00,  0.00000000e+00,  7.31894049e-02,\n",
       "          1.16590134e-01, -3.14957711e-01,  3.78282628e-01,\n",
       "         -3.41129761e-03, -1.44484965e-01,  0.00000000e+00,\n",
       "          0.00000000e+00,  9.90775538e-02,  1.10796911e-01,\n",
       "         -2.56323258e-01,  1.48831598e-01,  2.03740932e-01,\n",
       "         -1.81879707e-01,  0.00000000e+00,  0.00000000e+00,\n",
       "         -1.85486536e-03,  5.99762092e-02, -4.85932019e-02,\n",
       "          4.93372221e-02,  3.46400172e-02, -8.02820585e-02,\n",
       "          0.00000000e+00],\n",
       "        [-8.32667268e-16,  5.45004426e-03,  5.62064604e-02,\n",
       "          2.71622024e-01, -1.29980421e-01, -2.93235011e-01,\n",
       "         -5.28204592e-02, -5.55111512e-17, -5.55111512e-17,\n",
       "          6.16840840e-02,  8.95957804e-02, -1.85327181e-01,\n",
       "         -1.17516630e-03, -2.86513548e-01, -1.68953900e-01,\n",
       "          0.00000000e+00, -4.33680869e-19,  1.33689344e-01,\n",
       "          1.00573575e-01, -1.02673014e-01,  3.12133594e-01,\n",
       "         -2.30573463e-01, -1.06706124e-01,  0.00000000e+00,\n",
       "         -4.03896783e-28,  4.13720281e-02,  1.44238552e-01,\n",
       "          3.92860711e-02,  1.12930671e-01, -2.55257378e-01,\n",
       "         -1.93896041e-02,  2.17825218e-29,  9.36551335e-30,\n",
       "         -5.59818819e-02, -2.06630283e-01, -1.12264542e-02,\n",
       "         -1.85721493e-02, -1.40554801e-01, -3.36075236e-03,\n",
       "          5.99685744e-30,  2.08688343e-30, -1.23187355e-01,\n",
       "         -3.40560264e-02, -4.15474439e-03,  1.51842785e-01,\n",
       "          3.68510473e-02, -1.12578528e-02, -2.24739041e-31,\n",
       "          0.00000000e+00, -4.37773176e-03,  5.72756205e-02,\n",
       "         -1.78720699e-01, -1.82655152e-01,  1.92550368e-01,\n",
       "          3.34933208e-02,  0.00000000e+00,  0.00000000e+00,\n",
       "         -4.72695875e-03,  1.33111740e-02,  1.15750031e-01,\n",
       "          2.36432401e-01,  2.68912257e-01, -4.60321400e-02,\n",
       "          0.00000000e+00],\n",
       "        [-8.39606162e-16, -1.45437948e-02, -9.36217416e-03,\n",
       "         -1.31168729e-02,  5.09607650e-03,  3.52196234e-01,\n",
       "          8.55049722e-02,  8.32667268e-17, -2.77555756e-16,\n",
       "         -9.93295026e-02,  2.88275761e-02, -8.82662267e-02,\n",
       "          2.90269919e-02,  4.14981784e-02,  3.12704911e-01,\n",
       "          0.00000000e+00,  3.46944695e-18, -2.34100925e-02,\n",
       "          7.03669485e-02,  1.71513833e-01,  1.20283729e-01,\n",
       "         -3.05084299e-02,  1.11003889e-01,  0.00000000e+00,\n",
       "          2.58493941e-26, -2.01243589e-02, -2.30257181e-01,\n",
       "          2.33412369e-01,  6.50742645e-02, -2.63420312e-01,\n",
       "          6.03192985e-03,  8.82552390e-28,  3.79458185e-28,\n",
       "         -2.65034477e-02, -4.57752158e-01, -4.70665302e-02,\n",
       "         -6.14886180e-02,  1.16244600e-01, -1.20139802e-02,\n",
       "          2.42971908e-28,  8.45532934e-29, -6.45072638e-02,\n",
       "         -1.82460446e-01,  1.42400292e-01, -8.65555146e-02,\n",
       "          1.69850872e-01, -5.34535500e-02, -9.10564808e-30,\n",
       "          0.00000000e+00, -5.25586923e-03, -1.14778944e-01,\n",
       "          4.33108843e-02, -6.32361274e-02,  2.19542484e-01,\n",
       "         -2.05441499e-01,  0.00000000e+00,  0.00000000e+00,\n",
       "          3.38122761e-03, -2.54514311e-02,  6.70117715e-02,\n",
       "         -3.77923638e-02, -1.25918117e-01, -2.15341176e-01,\n",
       "          0.00000000e+00]]),\n",
       " 9: array([[-2.22044605e-16, -9.48133775e-04, -9.38773173e-02,\n",
       "         -2.21714113e-01, -1.93750732e-01, -8.85120156e-02,\n",
       "         -1.13030848e-02,  0.00000000e+00,  0.00000000e+00,\n",
       "         -3.85005964e-02, -2.42466877e-01, -1.99625236e-01,\n",
       "         -1.91994918e-01, -1.93263664e-01, -3.20173907e-02,\n",
       "          0.00000000e+00,  0.00000000e+00, -7.06291037e-02,\n",
       "         -2.19131561e-01, -9.11041038e-02, -1.51988548e-01,\n",
       "         -2.47467508e-01, -4.55038843e-02,  0.00000000e+00,\n",
       "          0.00000000e+00, -3.95520463e-02, -1.79732205e-01,\n",
       "         -2.04576199e-01, -2.46596230e-01, -2.61676955e-01,\n",
       "         -5.41687744e-02,  0.00000000e+00,  0.00000000e+00,\n",
       "         -1.38714064e-03, -5.42985818e-02, -9.65276926e-02,\n",
       "         -1.10638400e-01, -2.19840833e-01, -7.50359376e-02,\n",
       "          0.00000000e+00,  0.00000000e+00, -1.28765050e-03,\n",
       "         -1.37807364e-02, -1.77862659e-02, -5.05411805e-02,\n",
       "         -1.71949358e-01, -1.07242143e-01,  0.00000000e+00,\n",
       "          0.00000000e+00, -1.45619726e-02, -1.31958108e-01,\n",
       "         -1.35769909e-01, -1.24772429e-01, -1.96869179e-01,\n",
       "         -1.02018406e-01, -1.61410228e-03,  0.00000000e+00,\n",
       "         -1.31081417e-03, -9.59997810e-02, -2.29331102e-01,\n",
       "         -2.33994069e-01, -1.55675601e-01, -3.63006343e-02,\n",
       "         -7.62423630e-04],\n",
       "        [-1.38777878e-17,  2.64096177e-03,  8.53393857e-02,\n",
       "          5.11883569e-02, -2.16951804e-01, -2.88830566e-01,\n",
       "         -6.27699660e-02,  0.00000000e+00,  0.00000000e+00,\n",
       "         -2.84986813e-02, -6.98432697e-02,  6.24921016e-02,\n",
       "          1.64282014e-01, -2.12879509e-01, -1.45306572e-01,\n",
       "          0.00000000e+00,  1.23259516e-32, -1.48732401e-01,\n",
       "         -9.57870042e-02,  2.66629769e-01,  2.01790344e-01,\n",
       "         -9.41517524e-02, -1.52358295e-01,  0.00000000e+00,\n",
       "          0.00000000e+00, -1.18018891e-01, -2.75925569e-01,\n",
       "         -2.45979126e-02, -4.68834958e-02, -1.02393037e-02,\n",
       "         -3.74372872e-02,  0.00000000e+00,  0.00000000e+00,\n",
       "         -2.70706806e-03, -8.97748504e-02, -1.36359661e-01,\n",
       "         -2.39871634e-01,  1.25392814e-01,  7.82466162e-02,\n",
       "          0.00000000e+00,  0.00000000e+00, -1.74247875e-03,\n",
       "         -7.79826590e-03, -1.05455495e-01, -2.69528902e-01,\n",
       "          1.59687611e-01,  1.97403803e-01,  0.00000000e+00,\n",
       "          0.00000000e+00, -1.79859274e-03,  3.65097617e-02,\n",
       "         -1.35787942e-01, -7.23632229e-02,  2.22898813e-01,\n",
       "          2.33301739e-01,  1.06520823e-02,  0.00000000e+00,\n",
       "          4.13756587e-03,  8.39183469e-02, -1.22006092e-03,\n",
       "          1.48749933e-01,  2.41756206e-01,  1.08817123e-01,\n",
       "          5.33215327e-03],\n",
       "        [-3.53883589e-16, -1.01020764e-03, -4.59422314e-02,\n",
       "         -5.55739618e-02,  8.00740476e-02, -1.30615635e-02,\n",
       "         -4.34763797e-02,  1.11022302e-16, -5.55111512e-17,\n",
       "          3.88678060e-02, -1.76731207e-02, -1.72695248e-01,\n",
       "         -4.83601276e-02,  1.40012921e-01, -7.42098406e-02,\n",
       "          0.00000000e+00,  0.00000000e+00,  9.65548650e-02,\n",
       "         -1.20347051e-01, -3.11631901e-01, -1.03716635e-01,\n",
       "         -5.17116016e-03, -5.14871824e-02,  0.00000000e+00,\n",
       "          0.00000000e+00,  8.22709613e-02,  1.08267215e-01,\n",
       "         -2.85727136e-01, -1.78877848e-01, -3.41855737e-02,\n",
       "          6.96990397e-02,  0.00000000e+00,  0.00000000e+00,\n",
       "          1.20970082e-02,  2.72325992e-01,  3.94908036e-01,\n",
       "          2.08196914e-02, -2.39351883e-02,  1.79890380e-01,\n",
       "          0.00000000e+00,  0.00000000e+00,  4.78853691e-03,\n",
       "          5.62308529e-02, -5.32757558e-02, -2.71196761e-01,\n",
       "         -3.51720210e-02,  1.48534652e-01,  0.00000000e+00,\n",
       "          0.00000000e+00,  1.34503537e-02,  3.70105814e-01,\n",
       "          8.57425743e-02, -1.90481638e-01,  1.42909386e-01,\n",
       "          1.35364506e-01, -1.05955977e-02,  0.00000000e+00,\n",
       "         -8.57568723e-03, -3.51932128e-03, -9.42511400e-02,\n",
       "          1.11474786e-01,  2.15155300e-01,  2.93294904e-02,\n",
       "         -4.77935085e-03],\n",
       "        [ 1.11022302e-16, -1.01333964e-03,  1.93884402e-01,\n",
       "          9.80532262e-02, -2.27086723e-01, -3.16814447e-01,\n",
       "         -7.87527215e-02, -2.77555756e-17,  2.77555756e-17,\n",
       "          7.03935118e-02,  1.12248208e-01,  6.11620817e-02,\n",
       "          1.72908532e-01, -1.82932311e-01, -2.02593905e-01,\n",
       "          0.00000000e+00,  0.00000000e+00,  8.95086982e-02,\n",
       "          7.27823576e-02, -2.44470875e-02,  6.07520069e-02,\n",
       "         -8.61754414e-02, -1.21694165e-01,  0.00000000e+00,\n",
       "          0.00000000e+00,  6.82996136e-03,  1.59717120e-01,\n",
       "         -1.58419578e-01, -3.63344123e-02, -5.43838451e-02,\n",
       "         -9.45611383e-02,  0.00000000e+00,  0.00000000e+00,\n",
       "          9.54856380e-04,  1.84234892e-01,  3.20437611e-01,\n",
       "          3.99070210e-01, -1.33154502e-02, -2.79896295e-02,\n",
       "          0.00000000e+00,  0.00000000e+00, -3.47176620e-03,\n",
       "         -2.51071574e-02,  9.36453830e-02,  1.00603338e-01,\n",
       "         -1.40408301e-01,  8.62904216e-02,  0.00000000e+00,\n",
       "          0.00000000e+00, -7.26004197e-02, -2.85962409e-01,\n",
       "         -5.00363562e-02,  1.15918278e-01, -1.05833898e-01,\n",
       "          1.37496344e-01,  5.55846086e-03,  0.00000000e+00,\n",
       "          1.40451997e-03,  1.82238866e-01,  1.20550202e-01,\n",
       "         -1.36032704e-01, -1.32573012e-01,  6.89694416e-02,\n",
       "          1.94901111e-03],\n",
       "        [ 5.55111512e-17,  2.31067431e-03,  1.11131177e-01,\n",
       "         -6.90282592e-02, -1.56326548e-01, -6.52490452e-02,\n",
       "          1.75264341e-02,  8.32667268e-17,  0.00000000e+00,\n",
       "          3.80364036e-02,  4.16772085e-02, -1.14068688e-01,\n",
       "          7.44740541e-02, -5.92034269e-02,  2.97577324e-02,\n",
       "          0.00000000e+00, -1.32348898e-23, -1.60409745e-02,\n",
       "          1.61311306e-01, -1.01757625e-01,  7.04629992e-02,\n",
       "          2.60623443e-02,  4.80716581e-03,  0.00000000e+00,\n",
       "          0.00000000e+00, -2.09602791e-02,  1.23983734e-01,\n",
       "         -1.45902755e-01, -2.06638795e-01, -4.57241052e-02,\n",
       "          6.14472297e-03,  0.00000000e+00,  0.00000000e+00,\n",
       "         -4.86090598e-03,  4.24072402e-02,  3.45540260e-02,\n",
       "         -1.84300683e-02,  1.65734524e-01, -9.49999635e-02,\n",
       "          0.00000000e+00,  0.00000000e+00,  3.40784017e-03,\n",
       "         -2.87354374e-03, -1.12399674e-01, -3.13373054e-02,\n",
       "          3.88790047e-01, -2.34131369e-01,  0.00000000e+00,\n",
       "          0.00000000e+00,  4.87903009e-02,  1.46500404e-01,\n",
       "         -2.24324528e-01,  2.26056304e-01,  3.15485931e-01,\n",
       "         -3.99989643e-01, -2.09570503e-02,  0.00000000e+00,\n",
       "          6.66637946e-03,  1.49502289e-01, -8.12336891e-02,\n",
       "          6.67079724e-02, -2.22533497e-01, -2.75111012e-01,\n",
       "         -1.33458894e-02],\n",
       "        [-2.08166817e-16, -8.82755522e-03, -2.19751358e-01,\n",
       "         -1.60501328e-01, -1.15931654e-01,  1.02121973e-01,\n",
       "          1.47912025e-01, -1.38777878e-16, -1.11022302e-16,\n",
       "         -1.94137039e-01, -1.80950113e-01,  3.48249309e-01,\n",
       "          1.61994749e-02, -1.55289323e-01,  1.85585679e-01,\n",
       "          0.00000000e+00,  0.00000000e+00, -1.64610821e-01,\n",
       "          3.28392973e-02,  2.62437336e-02, -2.88587110e-01,\n",
       "         -2.43705126e-03,  1.75137336e-01,  0.00000000e+00,\n",
       "          0.00000000e+00,  8.91090259e-02,  3.51734041e-02,\n",
       "         -1.41923706e-01,  8.49736328e-03,  1.72136118e-01,\n",
       "          1.52559131e-01,  0.00000000e+00,  0.00000000e+00,\n",
       "          1.38647677e-02,  2.17120574e-01,  1.49358603e-01,\n",
       "          5.28868330e-02,  1.92646101e-01,  8.53461997e-02,\n",
       "          0.00000000e+00,  0.00000000e+00, -3.32227436e-03,\n",
       "         -1.71316155e-02, -1.35161002e-01,  4.11949595e-02,\n",
       "          8.82176594e-02,  1.11390722e-01,  0.00000000e+00,\n",
       "          0.00000000e+00, -5.07308772e-02, -2.53988063e-01,\n",
       "         -1.84023733e-01,  2.00716528e-01,  3.86177911e-02,\n",
       "          1.28986817e-01,  7.01824652e-03,  0.00000000e+00,\n",
       "         -5.10869616e-03, -1.98848670e-01, -1.66439811e-01,\n",
       "          1.29137815e-01,  2.66529216e-02,  5.55348859e-02,\n",
       "          4.78783969e-03],\n",
       "        [ 0.00000000e+00, -7.01330089e-03, -5.19209045e-02,\n",
       "          1.89409065e-01,  6.95629918e-02, -1.69815604e-01,\n",
       "         -1.12538630e-01, -1.94289029e-16,  0.00000000e+00,\n",
       "         -1.49223010e-01, -5.12673574e-02, -1.31457593e-02,\n",
       "          8.22299918e-02,  2.57724072e-01, -1.23011162e-01,\n",
       "          0.00000000e+00, -4.33680869e-19, -2.47124677e-01,\n",
       "         -1.04153182e-01,  1.89365777e-01, -2.05505280e-01,\n",
       "          3.57761566e-01,  5.42665571e-02,  0.00000000e+00,\n",
       "          1.61558713e-27, -1.48946539e-01, -4.23454120e-01,\n",
       "         -2.31384952e-01, -1.27560414e-01,  1.34061029e-01,\n",
       "          1.20210100e-01,  6.80506469e-30,  2.22161271e-30,\n",
       "         -7.54827812e-03, -3.69703468e-02,  3.41173688e-02,\n",
       "          2.36386368e-01, -7.50889449e-02,  4.73635302e-02,\n",
       "          1.00764432e-30, -2.95369359e-31, -1.77468973e-03,\n",
       "          1.77815720e-02,  3.16839591e-02,  1.13165015e-01,\n",
       "         -1.05291090e-01,  5.43516671e-02, -6.50804830e-32,\n",
       "          4.53298020e-33,  1.93821008e-02,  1.57061763e-01,\n",
       "         -4.61063663e-02,  5.99211127e-02,  1.61584765e-02,\n",
       "         -8.75357727e-02, -1.35031669e-02,  0.00000000e+00,\n",
       "         -2.99371300e-03, -5.65225173e-02,  1.29897447e-01,\n",
       "         -4.57947888e-02, -1.57884734e-01, -1.91008307e-01,\n",
       "         -1.85904718e-03],\n",
       "        [ 3.82940207e-16,  7.32389953e-04,  1.48253008e-01,\n",
       "          1.48613443e-01,  6.60821492e-02, -2.35241454e-02,\n",
       "         -3.16247428e-02,  1.82145965e-16,  1.38777878e-17,\n",
       "          9.47304122e-02,  9.08409687e-02, -2.62233309e-01,\n",
       "         -2.40424874e-01, -1.77543457e-03, -1.59296032e-01,\n",
       "          0.00000000e+00, -2.77555756e-17,  2.06882167e-01,\n",
       "         -2.17104497e-01, -1.29600503e-01, -2.28459824e-01,\n",
       "          1.24582260e-01,  2.39316687e-02,  0.00000000e+00,\n",
       "          0.00000000e+00,  1.25015709e-01,  1.16376076e-02,\n",
       "         -5.24385049e-02,  1.10548696e-01,  1.86200712e-01,\n",
       "          3.51827919e-02,  5.57899958e-27,  1.82134583e-27,\n",
       "          1.24023479e-02,  2.77590658e-02, -1.29343081e-01,\n",
       "         -1.23302167e-01,  8.36448516e-02,  5.54209541e-03,\n",
       "          8.26097537e-28, -2.42152807e-28, -1.10883370e-02,\n",
       "         -1.32716413e-01, -1.87490608e-01,  4.29489223e-02,\n",
       "          1.42202602e-02,  5.02784024e-02, -5.33549643e-29,\n",
       "          3.71627538e-30, -1.56650708e-01, -3.04088370e-01,\n",
       "         -4.14125941e-01, -1.38783455e-01, -2.75417475e-02,\n",
       "         -5.15213833e-02, -6.11683583e-03,  0.00000000e+00,\n",
       "         -1.28918641e-03,  2.44923866e-02,  2.40814672e-01,\n",
       "          2.67095143e-01,  1.70968586e-02, -1.95278439e-02,\n",
       "          1.17565618e-03]])}"
      ]
     },
     "execution_count": 225,
     "metadata": {},
     "output_type": "execute_result"
    }
   ],
   "source": [
    "\n",
    "def subspaces(labelled_data,k=3):\n",
    "    vt=u = list(range(len(labelled_data)))\n",
    "    new_dic = dict(labelled_data)\n",
    "    j=0\n",
    "    for i in labelled_data.values():\n",
    "        u[j],sigma4,vt[j] = np.linalg.svd(i, full_matrices=False)\n",
    "        if(np.linalg.matrix_rank(vt[j])>=k):\n",
    "            vt[j] = vt[j][0:k]\n",
    "        else:\n",
    "            vt[j] = vt[j]\n",
    "        new_dic[j] = vt[j]\n",
    "        j+=1\n",
    "    return new_dic\n",
    "spaces = subspaces(dict_label_value,k=8)\n",
    "spaces   "
   ]
  },
  {
   "cell_type": "markdown",
   "metadata": {},
   "source": [
    "g) Create a function `classification(spaces, x)` that takes a dictionary such as produced by `subspaces` above and a single vector and produces the label of the subspace with the smallest norm-2-distance. In the task above, this would have meant that classifying $sample4$ would have produced the label 4 rather than 9, since $sample4$ was closer to the subspace $Z_4$ than the subspace $Z_9$."
   ]
  },
  {
   "cell_type": "code",
   "execution_count": 226,
   "metadata": {},
   "outputs": [
    {
     "data": {
      "text/plain": [
       "4"
      ]
     },
     "execution_count": 226,
     "metadata": {},
     "output_type": "execute_result"
    }
   ],
   "source": [
    "def classification(spaces,x):\n",
    "    distance = [np.linalg.norm((((i@x.T)@i)-x)) for i in spaces.values()]\n",
    "    label_data = np.where(distance == min(distance) )\n",
    "    return label_data[0][0]\n",
    "label = classification(spaces,sample4)\n",
    "label"
   ]
  },
  {
   "cell_type": "markdown",
   "metadata": {},
   "source": [
    "h) Now pick the first 600 rows as training and the remaining (about 1100) as validation sets. What percentage does the classifier get right? What happens if you pick $k = 5, 10, 100, 1000$? Try it out. (The sharp-eyed student will notice that not all of these choices make sense from a mathematical perspective.)"
   ]
  },
  {
   "cell_type": "code",
   "execution_count": 227,
   "metadata": {},
   "outputs": [
    {
     "name": "stdout",
     "output_type": "stream",
     "text": [
      "92.80936454849498\n",
      "95.90301003344482\n",
      "62.04013377926422\n",
      "62.04013377926422\n"
     ]
    }
   ],
   "source": [
    "nrow=len(digits.data)\n",
    "training_digits = digits.data[0:600, :] \n",
    "training_labels = digits.target[0:600]\n",
    "\n",
    "validation_digits = digits.data[601:nrow, :] \n",
    "validation_labels = digits.target[601:nrow]\n",
    "\n",
    "a = np.arange(0,10,1)\n",
    "splitData = split_data(training_digits,training_labels,a)\n",
    "\n",
    "for k in [5,10,100,1000]:\n",
    "    sub = subspaces(splitData,k)\n",
    "    label_data = [classification(sub,i) for i in validation_digits]\n",
    "    label_data = np.array(label_data)\n",
    "    accuracy = sum(validation_labels == label_data)/len(label_data)*100\n",
    "    print(accuracy)"
   ]
  },
  {
   "cell_type": "markdown",
   "metadata": {},
   "source": [
    "# 7. Encapsulating the classifier"
   ]
  },
  {
   "cell_type": "markdown",
   "metadata": {},
   "source": [
    "Above we have a set of functions floating around in a global namespace. If we change some data and rerun some cells, we might get unexpected results. We instead want to encapsulate this in a single class."
   ]
  },
  {
   "cell_type": "markdown",
   "metadata": {},
   "source": [
    "a) Create a class `NaiveProjection`. It should have the following properties:\n",
    "* An instance is created with `NaiveProjection(training_data, training_labels, all_labels, k)` where $k$ is optional (and defaults to 3). \n",
    "\n",
    "For instance, we should be able to run ```dig_class = NaiveProjection(training_data = digits.data[0:600,:], training_labels = digits.target[0:600], all_labels = digits.target_names)```.\n",
    "* The class should have a method called `classification` which takes vector and returns the classification of that vector as defined above (minimum 2-norm distance to the subspace).\n",
    "* The class should have a method called `hitrate` which takes a matrix of row vectors, a vector of correct labels and returns the rate of successfully classified \n",
    "* All data about subspaces and labels should be stored within the instance. We may not use any data stored outside (though it is of course OK to call outside functions). We should be able to create two (or more) independent classifiers\n",
    "\n",
    "```\n",
    "dig15 = NaiveProjection(digits.data[0:600, :], digits.target[0:600], k = 15)\n",
    "dig1 = NaiveProjection(digits.data[0:600, :], digits.target[0:600], k = 1)\n",
    "```\n",
    "which should be entirely independent."
   ]
  },
  {
   "cell_type": "code",
   "execution_count": 228,
   "metadata": {},
   "outputs": [],
   "source": [
    "class NaiveProjection:\n",
    "    def __init__(self,training_data, training_labels, all_labels, k = 3):\n",
    "        self.training_data = training_data\n",
    "        self.training_label = training_labels\n",
    "        self.all_labels = all_labels\n",
    "        self.k = k\n",
    "        \n",
    "    def classification(self,x):\n",
    "        \n",
    "        label_data=[np.where(self.training_label==label) for label in self.all_labels]\n",
    "        val_data = [self.training_data[i] for i in label_data]\n",
    "        dict_d=dict(zip(self.all_labels,val_data))\n",
    "        \n",
    "        vt=u = list(range(len(dict_d)))\n",
    "        spaces = dict(dict_d)\n",
    "        j=0\n",
    "        \n",
    "        for i in dict_d.values():\n",
    "            u[j],sigma,vt[j] = np.linalg.svd(i, full_matrices=False)\n",
    "            if(np.linalg.matrix_rank(vt[j])>=self.k):\n",
    "                vt[j] = vt[j][0:self.k]\n",
    "            else:\n",
    "                vt[j] = vt[j]\n",
    "            spaces[j] = vt[j]\n",
    "            j+=1\n",
    "        \n",
    "        distance = [np.linalg.norm((((i@x.T)@i)-x)) for i in spaces.values()]\n",
    "        label = np.where(distance == min(distance))\n",
    "        return label[0][0]\n",
    "        \n",
    "    def hitrate(self,row_vector,correct_label):\n",
    "        label = [self.classification(i) for i in row_vector]\n",
    "        label = np.array(label)\n",
    "        accuracy = sum(correct_label == label)/len(correct_label)\n",
    "        return accuracy*100"
   ]
  },
  {
   "cell_type": "code",
   "execution_count": 229,
   "metadata": {},
   "outputs": [
    {
     "name": "stdout",
     "output_type": "stream",
     "text": [
      "Hit rate for k = 1: 84.7953216374269\n",
      "Hit rate for k = 15: 96.74185463659147\n"
     ]
    }
   ],
   "source": [
    "# You can test here\n",
    "dig1 = NaiveProjection(digits.data[0:600, :], digits.target[0:600], digits.target_names, k = 1)\n",
    "dig15 = NaiveProjection(digits.data[0:600, :], digits.target[0:600], digits.target_names, k = 15)\n",
    "\n",
    "print(f\"Hit rate for k = 1: {dig1.hitrate(digits.data[600:], digits.target[600:])}\")\n",
    "print(f\"Hit rate for k = 15: {dig15.hitrate(digits.data[600:], digits.target[600:])}\")"
   ]
  },
  {
   "cell_type": "markdown",
   "metadata": {},
   "source": [
    "There are several noteworthy issues here.\n",
    "* We have taken a few mathematical shortcuts.\n",
    "* There is no error handling. \n",
    "* We have not discussed overlapping subspaces, sampling strategies or the like.\n",
    "* It might make a lot more sense to classify a matrix of vectors, rather than a single vector (to utilise the speed of computations). \n",
    "\n",
    "Most of this is left to an actual statistics course. The interested reader is referred to for instance Strang - Linear algebra and learning from data, or Golub & van Loan - Matrix computations."
   ]
  },
  {
   "cell_type": "markdown",
   "metadata": {},
   "source": [
    "b) Experiment with different values of $k$ and training data/validation data sets. Plot the results using the library ```matplotlib```."
   ]
  },
  {
   "cell_type": "code",
   "execution_count": 230,
   "metadata": {},
   "outputs": [
    {
     "data": {
      "image/png": "[encoded data removed]",
      "text/plain": [
       "<Figure size 432x288 with 1 Axes>"
      ]
     },
     "metadata": {
      "needs_background": "light"
     },
     "output_type": "display_data"
    }
   ],
   "source": [
    "import matplotlib.pyplot as plt\n",
    "k_values= [i for i in range(1,10)]\n",
    "accuracy=list()\n",
    "for k in k_values:\n",
    "    model=NaiveProjection(digits.data[0:600,:], digits.target[0:600], digits.target_names, k=k*5)\n",
    "    accuracy.append(model.hitrate(digits.data[600:],digits.target[600:]))\n",
    "p_range= [ i*10 for i in range (1,10)]\n",
    "plt.plot(p_range, accuracy)\n",
    "plt.xlabel(f\"k_value\")\n",
    "plt.ylabel(f\"Accuracy Rate\")\n",
    "plt.show()"
   ]
  },
  {
   "cell_type": "markdown",
   "metadata": {},
   "source": [
    "## Acknowledgments"
   ]
  },
  {
   "cell_type": "markdown",
   "metadata": {},
   "source": [
    "This lab in 732A74 is by Anders Märak Leffler (2019), with a major revision in 2020. The introductory text is by Johan Falkenjack (2018).\n",
    "\n",
    "Licensed under [CC-BY-SA 4.0](https://creativecommons.org/licenses/by-sa/4.0/)."
   ]
  }
 ],
 "metadata": {
  "anaconda-cloud": {},
  "kernelspec": {
   "display_name": "Python 3",
   "language": "python",
   "name": "python3"
  },
  "language_info": {
   "codemirror_mode": {
    "name": "ipython",
    "version": 3
   },
   "file_extension": ".py",
   "mimetype": "text/x-python",
   "name": "python",
   "nbconvert_exporter": "python",
   "pygments_lexer": "ipython3",
   "version": "3.7.4"
  }
 },
 "nbformat": 4,
 "nbformat_minor": 2
}
