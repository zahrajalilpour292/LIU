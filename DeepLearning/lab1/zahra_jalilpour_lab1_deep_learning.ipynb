{
 "cells": [
  {
   "cell_type": "markdown",
   "metadata": {
    "id": "bgx436iVXIa2"
   },
   "source": [
    "Zahja096( zahra jalilpour)_ lab1_deep learning"
   ]
  },
  {
   "cell_type": "code",
   "execution_count": 2,
   "metadata": {
    "colab": {
     "base_uri": "https://localhost:8080/"
    },
    "id": "SkqTD2CZG4ks",
    "outputId": "19b49421-ff9a-438f-e0d6-4c50e3d52c04"
   },
   "outputs": [
    {
     "name": "stdout",
     "output_type": "stream",
     "text": [
      "Mounted at /content/drive/\n"
     ]
    }
   ],
   "source": [
    "from google.colab import drive\n",
    "drive.mount('/content/drive/')"
   ]
  },
  {
   "cell_type": "markdown",
   "metadata": {
    "id": "mk9HUxX-OrqZ"
   },
   "source": [
    "# Part 3: Hardware\n",
    "\n",
    "Skip questions 1, 2, 3, 5, 6 if you use your own computer.\n",
    "\n",
    "In deep learning, the computer hardware is very important. You should always know what kind of hardware you are working on.\n",
    "\n",
    "Question 1: What graphics card is available in the cloud machine? Run 'nvidia-smi' in the terminal. \n",
    "\n",
    "Question 2: Google the name of the graphics card, how many CUDA cores does it have?\n",
    "\n",
    "Question 3: How much memory does the graphics card have?\n",
    "\n",
    "Question 4: What is stored in the GPU memory while training a DNN ?\n",
    "#### Answer4: \n",
    "While training a DNN, input data, weight parameters and activations are stored in GPU memory. \n",
    "\n",
    "\n",
    "Question 5: What CPU is available in the cloud machine? How many cores does it have? Run 'lscpu' in the terminal.\n",
    "\n",
    "Question 6: How much CPU memory (RAM) is available in the cloud machine? Run 'free -g' in the terminal."
   ]
  },
  {
   "cell_type": "code",
   "execution_count": 3,
   "metadata": {
    "id": "5wyDjv-84fK9"
   },
   "outputs": [],
   "source": [
    "import os\n",
    "import warnings\n",
    "\n",
    "# Ignore FutureWarning from numpy\n",
    "warnings.simplefilter(action='ignore', category=FutureWarning)\n",
    "\n",
    "import keras.backend as K\n",
    "import tensorflow as tf\n",
    "\n",
    "os.environ[\"CUDA_DEVICE_ORDER\"]=\"PCI_BUS_ID\";\n",
    " \n",
    "# The GPU id to use, usually either \"0\" or \"1\";\n",
    "os.environ[\"CUDA_VISIBLE_DEVICES\"]=\"0\";\n",
    "\n",
    "# Allow growth of GPU memory, otherwise it will always look like all the memory is being used\n",
    "physical_devices = tf.config.experimental.list_physical_devices('GPU')\n",
    "tf.config.experimental.set_memory_growth(physical_devices[0], True)"
   ]
  },
  {
   "cell_type": "code",
   "execution_count": 3,
   "metadata": {
    "id": "9X0LnVvOJPJ1"
   },
   "outputs": [],
   "source": [
    "from numpy import genfromtxt\n",
    "import numpy as np"
   ]
  },
  {
   "cell_type": "markdown",
   "metadata": {
    "id": "o8rAec1Z6NBj"
   },
   "source": [
    "\n",
    "# Part 4: Load the data\n",
    "\n",
    "Load the dataset from the csv files, it will take some time since it is almost 1.4 GB. \n",
    "\n",
    "We will use the function `genfromtxt` to load the data.\n",
    "\n",
    "https://docs.scipy.org/doc/numpy/reference/generated/numpy.genfromtxt.html\n",
    "\n",
    "Load the data from csv files the first time, then save the data as numpy files for faster loading the next time.\n",
    "\n"
   ]
  },
  {
   "cell_type": "code",
   "execution_count": 4,
   "metadata": {
    "id": "143yzEo6HF7C"
   },
   "outputs": [],
   "source": [
    "X1 = genfromtxt(\"/content/drive/My Drive/Mirai_dataset.csv\", delimiter=\",\")\n",
    "\n",
    "Y1 = genfromtxt(\"/content/drive/My Drive/Mirai_labels.csv\", delimiter=\",\")"
   ]
  },
  {
   "cell_type": "code",
   "execution_count": 5,
   "metadata": {
    "id": "awQeSXRD5GT_"
   },
   "outputs": [],
   "source": [
    "X=X1\n",
    "Y=Y1\n",
    "# Save data as numpy arrays, for faster loading in future calls to this cell\n",
    "np.save('Mirai_data.npy', X)\n",
    "np.save('Mirai_labels.npy', Y)"
   ]
  },
  {
   "cell_type": "code",
   "execution_count": 6,
   "metadata": {
    "colab": {
     "base_uri": "https://localhost:8080/"
    },
    "id": "qYHvD46PIPc2",
    "outputId": "bce9c006-bd17-48b9-9dd2-7746d0f8ee8d"
   },
   "outputs": [
    {
     "name": "stdout",
     "output_type": "stream",
     "text": [
      "The covariates have size (764137, 92).\n",
      "The labels have size (764137,).\n",
      "Class 0 has 121621 examples\n",
      "Class 1 has 642516 examples\n"
     ]
    }
   ],
   "source": [
    "# Load data from numpy arrays, for faster loading\n",
    "X = np.load('Mirai_data.npy')\n",
    "Y = np.load('Mirai_labels.npy')\n",
    "\n",
    "# Remove the first 24 covariates\n",
    "X = np.delete(X, obj=np.s_[:24], axis=1)\n",
    "# X= X[:,24:116]\n",
    "\n",
    "print('The covariates have size {}.'.format(X.shape))\n",
    "print('The labels have size {}.'.format(Y.shape))\n",
    "\n",
    "# Print the number of examples of each class\n",
    "print('Class 0 has {} examples'.format(sum([1 for i in Y if i==0])))\n",
    "print('Class 1 has {} examples'.format(sum([1 for i in Y if i==1])))"
   ]
  },
  {
   "cell_type": "markdown",
   "metadata": {
    "id": "ZOAEJtYE6cSo"
   },
   "source": [
    "# Part 5: How good is a naive classifier?\n",
    "\n",
    "Question 7: Given the distribution of examples, how high classification performance can a naive classifier obtain? The naive classifier will assume that all examples belong to one class. Note: you do not need to make a naive classifier, this is a theoretical question, just to understand how good performance we can obtain by random chance."
   ]
  },
  {
   "cell_type": "markdown",
   "metadata": {
    "id": "whQVjfYPCq3l"
   },
   "source": [
    "Answer 7: In the Naive classifier we assume all examples belong to one class(class0 or class 1). We can define a probabilistic model to evaluate Naive classifier.We can define model prediction as P(yhat=y) and it can be obtained by this formul:P(yhat = y) =P(yhat=0)*P(y=0) + P(yhat=1)*P(y=1)\n",
    "As it is mensioned all examples belong to one class, we calculate the accuracy in each class. For class 0(if this class is assumed) the accuracy is 15.92 and for class 1(if this class is assumed) the accuracy is 84.08"
   ]
  },
  {
   "cell_type": "code",
   "execution_count": 7,
   "metadata": {
    "colab": {
     "base_uri": "https://localhost:8080/"
    },
    "id": "JzFVARL2FT-I",
    "outputId": "28eec427-b30e-4448-866c-0b4c22dacfcf"
   },
   "outputs": [
    {
     "name": "stdout",
     "output_type": "stream",
     "text": [
      "Class 0 :15.92\n",
      "Class 1 :84.08\n"
     ]
    }
   ],
   "source": [
    "#https://machinelearningmastery.com/how-to-develop-and-evaluate-naive-classifier-strategies-using-probability/\n",
    "print('Class 0 :%.2f'%((sum([1 for i in Y if i==0]))/len(Y) * 100))\n",
    "print('Class 1 :%.2f'%((sum([1 for i in Y if i==1]))/len(Y) * 100))\n"
   ]
  },
  {
   "cell_type": "code",
   "execution_count": 8,
   "metadata": {
    "colab": {
     "base_uri": "https://localhost:8080/"
    },
    "id": "8hZs6l18LT8c",
    "outputId": "08a420e5-d44a-489a-83c9-4ef5bbe35c5f"
   },
   "outputs": [
    {
     "name": "stdout",
     "output_type": "stream",
     "text": [
      "[[False False False ... False False False]\n",
      " [False False False ... False False False]\n",
      " [False False False ... False False False]\n",
      " ...\n",
      " [False False False ... False False False]\n",
      " [False False False ... False False False]\n",
      " [False False False ... False False False]]\n",
      "[False False False ... False False False]\n",
      "Labels have 0 NaNs\n",
      "Covariates have 0 NaNs\n"
     ]
    }
   ],
   "source": [
    "# It is common to have NaNs in the data, lets check for it. Hint: np.isnan()\n",
    "print(np.isnan(X))\n",
    "print(np.isnan(Y))\n",
    "\n",
    "# Print the number of NaNs (not a number) in the labels\n",
    "print('Labels have {} NaNs'.format(np.sum(np.isnan(Y))))\n",
    "\n",
    "# Print the number of NaNs in the covariates\n",
    "print('Covariates have {} NaNs'.format(np.sum(np.isnan(X))))"
   ]
  },
  {
   "cell_type": "markdown",
   "metadata": {
    "id": "TDw5yh4i7up6"
   },
   "source": [
    "# Part 6: Preprocessing\n",
    "\n",
    "Lets do some simple preprocessing\n"
   ]
  },
  {
   "cell_type": "code",
   "execution_count": 9,
   "metadata": {
    "colab": {
     "base_uri": "https://localhost:8080/"
    },
    "id": "WdG6xnnJ7wgV",
    "outputId": "a467fbd0-1e55-49a6-8f50-a75f65c63d36"
   },
   "outputs": [
    {
     "name": "stdout",
     "output_type": "stream",
     "text": [
      "Mean\n",
      "[-3.19451533e-18 -6.32970181e-14  1.19926356e-13  4.56743018e-15\n",
      "  4.10210037e-14  1.46130975e-13  5.85246484e-16 -1.69734859e-14\n",
      " -3.36915700e-13  1.28688437e-12 -2.69360995e-12 -1.10733213e-13\n",
      " -1.22392702e-13 -1.70649630e-13 -1.02461166e-14  2.50701280e-12\n",
      "  1.47553162e-12  1.08446837e-12 -1.04981959e-13  6.83458762e-14\n",
      " -1.03373555e-13  5.98825773e-14 -1.02025960e-12 -1.68983055e-12\n",
      " -1.79101143e-12 -1.31828514e-13  4.42580403e-13  6.14635580e-13\n",
      "  5.78048199e-14 -4.92623328e-13 -2.54513072e-12  1.86544900e-13\n",
      " -1.53444593e-13  1.68079591e-12  9.30041709e-13  1.50738177e-13\n",
      " -1.15688852e-12 -3.62610361e-13 -1.71390937e-12 -2.09264067e-13\n",
      "  1.07161976e-12 -1.45236885e-12 -1.69724579e-14 -1.64918984e-16\n",
      " -5.13444996e-14 -1.02171349e-14 -1.74685907e-15  1.34264921e-13\n",
      "  5.98801969e-14  1.48745574e-17 -4.25442340e-13  5.78079594e-14\n",
      "  1.25638129e-15  1.69449684e-13  1.50725881e-13  2.14439542e-14\n",
      "  3.65457183e-14  1.17260451e-13 -8.82752870e-13 -6.34816648e-13\n",
      " -1.62109649e-12  2.63270303e-13 -7.57215123e-15 -2.89395002e-14\n",
      " -3.90180996e-13 -1.53167085e-12 -9.57913621e-13  2.47411065e-13\n",
      "  2.44200541e-13 -6.73050928e-15  1.07502596e-13  2.58222203e-13\n",
      " -1.87714601e-13 -1.19882476e-12 -2.17154862e-12  5.48444735e-14\n",
      "  5.46183481e-15  3.71315442e-14  1.47576646e-13 -1.62639245e-12\n",
      " -1.23986972e-13 -1.71744315e-12  5.29956657e-13 -3.21442452e-14\n",
      " -4.59767392e-14  3.56347870e-13 -1.48544246e-12 -1.26642728e-13\n",
      "  1.52633871e-13  9.58048710e-14  4.34603426e-14 -4.07615740e-14]\n",
      "Standard Deviation\n",
      "[1. 1. 1. 1. 1. 1. 1. 1. 1. 1. 1. 1. 1. 1. 1. 1. 1. 1. 1. 1. 1. 1. 1. 1.\n",
      " 1. 1. 1. 1. 1. 1. 1. 1. 1. 1. 1. 1. 1. 1. 1. 1. 1. 1. 1. 1. 1. 1. 1. 1.\n",
      " 1. 1. 1. 1. 1. 1. 1. 1. 1. 1. 1. 1. 1. 1. 1. 1. 1. 1. 1. 1. 1. 1. 1. 1.\n",
      " 1. 1. 1. 1. 1. 1. 1. 1. 1. 1. 1. 1. 1. 1. 1. 1. 1. 1. 1. 1.]\n"
     ]
    }
   ],
   "source": [
    "X = X.astype(float)\n",
    "\n",
    "# Convert labels to ints\n",
    "Y = Y.astype(int)\n",
    "\n",
    "# Remove mean of each covariate (column)\n",
    "X = X - np.mean(X, axis=0)\n",
    "\n",
    "# Divide each covariate (column) by its standard deviation\n",
    "X = X/np.std(X, axis=0)\n",
    "\n",
    "# Check that mean is 0 and standard deviation is 1 for all covariates, by printing mean and std\n",
    "print(\"Mean\")\n",
    "print(np.mean(X, axis=0))\n",
    "print(\"Standard Deviation\")\n",
    "print(np.std(X, axis=0))"
   ]
  },
  {
   "cell_type": "markdown",
   "metadata": {
    "id": "0OoDC_dJ9_Gi"
   },
   "source": [
    "# Part 7: Split the dataset\n",
    "\n",
    "Use the first 70% of the dataset for training, leave the other 30% for validation and test, call the variables\n",
    "\n",
    "Xtrain (70%)\n",
    "\n",
    "Xtemp  (30%)\n",
    "\n",
    "Ytrain (70%)\n",
    "\n",
    "Ytemp  (30%)\n"
   ]
  },
  {
   "cell_type": "code",
   "execution_count": 10,
   "metadata": {
    "colab": {
     "base_uri": "https://localhost:8080/"
    },
    "id": "wqQRrsax-CLs",
    "outputId": "27603118-41d7-4e06-b047-f0a81bc39f3b"
   },
   "outputs": [
    {
     "name": "stdout",
     "output_type": "stream",
     "text": [
      "Xtrain has size (534895, 92).\n",
      "Ytrain has size (534895,).\n",
      "Xtemp has size (229242, 92).\n",
      "Ytemp has size (229242,).\n",
      "The number of examples per Class 0 in Ytrain is 121621\n",
      "The number of examples per Class 1 in Ytrain is 413274\n",
      "The number of examples per Class 0 in Ytemp is 0\n",
      "The number of examples per Class 1 in Ytemp is 229242\n"
     ]
    }
   ],
   "source": [
    "index = (int)(X.shape[0]*0.7)\n",
    "\n",
    "Xtrain, Xtemp = X[:index,:], X[index:,:]\n",
    "\n",
    "Ytrain, Ytemp = Y[:index], Y[index:]\n",
    "\n",
    "print('Xtrain has size {}.'.format(Xtrain.shape))\n",
    "print('Ytrain has size {}.'.format(Ytrain.shape))\n",
    "\n",
    "print('Xtemp has size {}.'.format(Xtemp.shape))\n",
    "print('Ytemp has size {}.'.format(Ytemp.shape))\n",
    "\n",
    "# Print the number of examples of each class, for the training data and the remaining 30%\n",
    "print('The number of examples per Class 0 in Ytrain is {}'.format(sum([1 for i in Ytrain if i==0])))\n",
    "print('The number of examples per Class 1 in Ytrain is {}'.format(sum([1 for i in Ytrain if i==1])))\n",
    "print('The number of examples per Class 0 in Ytemp is {}'.format(sum([1 for i in Ytemp if i==0])))\n",
    "print('The number of examples per Class 1 in Ytemp is {}'.format(sum([1 for i in Ytemp if i==1])))"
   ]
  },
  {
   "cell_type": "markdown",
   "metadata": {
    "id": "1r-66YqJFAvo"
   },
   "source": [
    "Part 8: Number of examples per class\n",
    "\n",
    "Question 8: Can we use the dataset as it is? Why not?\n",
    "\n",
    "\n",
    "\n",
    "\n",
    "\n"
   ]
  },
  {
   "cell_type": "code",
   "execution_count": null,
   "metadata": {
    "id": "9XsVCmefFCU5"
   },
   "outputs": [],
   "source": [
    "''' We can not use this data set, because the rows of data set are not shuffled. If we do not split randomly, the train and test splits may \n",
    "end up being biased. \n",
    "As we can see in class 0, the number of example in remaining data is 0 and it shows that the data is not distributed in a good way.'''"
   ]
  },
  {
   "cell_type": "markdown",
   "metadata": {
    "id": "KfrJjUDrJBN6"
   },
   "source": [
    "Lets randomly shuffle the data, to get some examples of each class in training data and in the remaining 30%. Use the function `shuffle` in scikit learn\n",
    "\n",
    "https://scikit-learn.org/stable/modules/generated/sklearn.utils.shuffle.html"
   ]
  },
  {
   "cell_type": "code",
   "execution_count": 11,
   "metadata": {
    "colab": {
     "base_uri": "https://localhost:8080/"
    },
    "id": "PoeKBwcMMGPw",
    "outputId": "8119a14e-ebe2-4e56-d2d9-80ea2999a6ab"
   },
   "outputs": [
    {
     "name": "stdout",
     "output_type": "stream",
     "text": [
      "The number of examples per Class 0 in Ytrain is 85223\n",
      "The number of examples per Class 1 in Ytrain is 449672\n",
      "The number of examples per Class 0 in Ytemp is 36398\n",
      "The number of examples per Class 1 in Ytemp is 192844\n"
     ]
    }
   ],
   "source": [
    "from sklearn.utils import shuffle\n",
    "\n",
    "# Randomly shuffle data, to get both classes in training and testing\n",
    "X, Y = shuffle(X, Y)\n",
    "\n",
    "# Divide the data into training and validation/test again\n",
    "\n",
    "split = (int)(X.shape[0]*0.7)\n",
    "\n",
    "Xtrain, Xtemp = X[:split,:], X[split:,:]\n",
    "\n",
    "Ytrain, Ytemp = Y[:split], Y[split:]\n",
    "\n",
    "\n",
    "# Print the number of examples of each class, for the training data and the remaining 30%\n",
    "print('The number of examples per Class 0 in Ytrain is {}'.format(sum([1 for i in Ytrain if i==0])))\n",
    "print('The number of examples per Class 1 in Ytrain is {}'.format(sum([1 for i in Ytrain if i==1])))\n",
    "print('The number of examples per Class 0 in Ytemp is {}'.format(sum([1 for i in Ytemp if i==0])))\n",
    "print('The number of examples per Class 1 in Ytemp is {}'.format(sum([1 for i in Ytemp if i==1])))\n"
   ]
  },
  {
   "cell_type": "markdown",
   "metadata": {
    "id": "heelRd8KJ0q-"
   },
   "source": [
    "#  Part 9: Split non-training data data into validation and test\n",
    "Split your non-training data (Xtemp, Ytemp) into 50% validation (Xval, Yval) and 50% testing (Xtest, Ytest), we use a function from scikit learn. \n",
    "\n",
    "https://scikit-learn.org/stable/modules/generated/sklearn.model_selection.train_test_split.html"
   ]
  },
  {
   "cell_type": "code",
   "execution_count": 12,
   "metadata": {
    "colab": {
     "base_uri": "https://localhost:8080/"
    },
    "id": "dsnlBUK7J1sk",
    "outputId": "7faad3b4-ab80-4244-804d-267c0c470be6"
   },
   "outputs": [
    {
     "name": "stdout",
     "output_type": "stream",
     "text": [
      "The validation and test data have size (114621, 92), (114621, 92), (114621,) and (114621,)\n"
     ]
    }
   ],
   "source": [
    "from sklearn.model_selection import train_test_split\n",
    "\n",
    "Xtest, Xval, Ytest, Yval = train_test_split(Xtemp, Ytemp, test_size=0.5)\n",
    "\n",
    "print('The validation and test data have size {}, {}, {} and {}'.format(Xval.shape, Xtest.shape, Yval.shape, Ytest.shape))"
   ]
  },
  {
   "cell_type": "markdown",
   "metadata": {
    "id": "54bxrRSpOZr7"
   },
   "source": [
    "**Part 10: DNN classification**\n",
    "\n",
    "Finish this code to create a first version of the classifier using a DNN. Start with a simple network with 2 *dense* layers (with 20 nodes each), using sigmoid activation functions. The final dense layer should have a single node and a sigmoid activation function. We start with the SGD optimizer.\n",
    "\n",
    "Relevant functions are\n",
    "\n",
    "model.add(), adds a layer to the network\n",
    "\n",
    "Dense(), a dense network layer\n",
    "\n",
    "model.compile(), compile the model, add \" metrics=['accuracy'] \" to print the classification accuracy during the training\n",
    "\n",
    "model.fit(), train the model with some training data\n",
    "\n",
    "model.evaluate(), apply the trained model to some test data\n",
    "\n",
    "See https://keras.io/layers/core/ for information on how the Dense() function works\n",
    "\n",
    "Import a relevant cost / loss function for binary classification from keras.losses (https://keras.io/losses/)\n",
    "\n",
    "See https://keras.io/models/model/ for how to compile, train and evaluate the model"
   ]
  },
  {
   "cell_type": "code",
   "execution_count": 100,
   "metadata": {
    "id": "MwKW3qLvPCsl"
   },
   "outputs": [],
   "source": [
    "from keras.models import Sequential, Model\n",
    "from keras.layers import Input, Dense, BatchNormalization, Dropout\n",
    "from keras.optimizers import SGD, Adam\n",
    "from keras.losses import binary_crossentropy as BC\n",
    "\n",
    "# Set seed from random number generator, for better comparisons\n",
    "from numpy.random import seed\n",
    "seed(123)\n",
    "def build_DNN(input_shape, n_layers, n_nodes, act_fun='sigmoid', optimizer='sgd', learning_rate=0.01, \n",
    "              use_bn=False, use_dropout=False, use_custom_dropout=False):\n",
    "    \n",
    "    # Setup optimizer, depending on input parameter string\n",
    "    if optimizer=='sgd':\n",
    "        optim = SGD(learning_rate=learning_rate)\n",
    "    if optimizer=='adam':\n",
    "        optim = Adam(learning_rate=learning_rate)\n",
    "    \n",
    "    # Setup a sequential model\n",
    "    model = Sequential()\n",
    "\n",
    "    # Add layers to the model, using the input parameters of the build_DNN function\n",
    "    \n",
    "    # Add first layer, requires input shape\n",
    "    model.add(Dense(n_nodes, activation=act_fun, input_shape=input_shape))\n",
    "    if use_bn:\n",
    "        model.add(BatchNormalization())\n",
    "    if use_dropout:\n",
    "            model.add(Dropout(rate=0.5))\n",
    "    if use_custom_dropout:\n",
    "            model.add(Dropout(rate=0.5))\n",
    "    \n",
    "    # Add remaining layers, do not require input shape\n",
    "    for i in range(n_layers-1):\n",
    "        model.add(Dense(n_nodes, activation=act_fun))\n",
    "        if use_bn:\n",
    "            model.add(BatchNormalization())\n",
    "        if use_dropout:\n",
    "            model.add(Dropout(rate=0.5))\n",
    "        if use_custom_dropout:\n",
    "            model.add(myDropout(rate=0.5))\n",
    "    # Final layer\n",
    "    model.add(Dense(1, activation='sigmoid'))\n",
    "    if use_bn:\n",
    "        model.add(BatchNormalization())\n",
    "    \n",
    "    # Compile model\n",
    "    model.compile(loss=BC, optimizer=optim, metrics=['accuracy'])\n",
    "    \n",
    "    return model\n"
   ]
  },
  {
   "cell_type": "code",
   "execution_count": 101,
   "metadata": {
    "id": "g51pOki2wZGL"
   },
   "outputs": [],
   "source": [
    "# Lets define a help function for plotting the training results\n",
    "\n",
    "import matplotlib.pyplot as plt\n",
    "def plot_results(history):\n",
    "    \n",
    "    val_loss = history.history['val_loss']\n",
    "    acc = history.history['accuracy']\n",
    "    loss = history.history['loss']\n",
    "    val_acc = history.history['val_accuracy']\n",
    "    \n",
    "    plt.figure(figsize=(10,4))\n",
    "    plt.xlabel('Epochs')\n",
    "    plt.ylabel('Loss')\n",
    "    plt.plot(loss)\n",
    "    plt.plot(val_loss)\n",
    "    plt.legend(['Training','Validation'])\n",
    "\n",
    "    plt.figure(figsize=(10,4))\n",
    "    plt.xlabel('Epochs')\n",
    "    plt.ylabel('Accuracy')\n",
    "    plt.plot(acc)\n",
    "    plt.plot(val_acc)\n",
    "    plt.legend(['Training','Validation'])\n",
    "\n",
    "    plt.show()"
   ]
  },
  {
   "cell_type": "markdown",
   "metadata": {
    "id": "f7s04kd5wlBI"
   },
   "source": [
    "# Part 11: Train the DNN\n",
    "\n",
    "Time to train the DNN, we start simple with 2 layers with 2 nodes each, learning rate 0.1."
   ]
  },
  {
   "cell_type": "markdown",
   "metadata": {
    "id": "faGW01iNbKY7"
   },
   "source": [
    "### 2 layers, 20 nodes"
   ]
  },
  {
   "cell_type": "code",
   "execution_count": 122,
   "metadata": {
    "colab": {
     "base_uri": "https://localhost:8080/"
    },
    "id": "TzPTlgFawmFf",
    "outputId": "798c4bd1-4987-47e0-b12d-e5a045b366e5"
   },
   "outputs": [
    {
     "name": "stdout",
     "output_type": "stream",
     "text": [
      "Epoch 1/20\n",
      "54/54 [==============================] - 2s 21ms/step - loss: 0.4464 - accuracy: 0.8409 - val_loss: 0.3995 - val_accuracy: 0.8410\n",
      "Epoch 2/20\n",
      "54/54 [==============================] - 1s 13ms/step - loss: 0.3869 - accuracy: 0.8411 - val_loss: 0.3479 - val_accuracy: 0.8410\n",
      "Epoch 3/20\n",
      "54/54 [==============================] - 1s 13ms/step - loss: 0.3348 - accuracy: 0.8404 - val_loss: 0.2930 - val_accuracy: 0.8410\n",
      "Epoch 4/20\n",
      "54/54 [==============================] - 1s 13ms/step - loss: 0.2817 - accuracy: 0.8407 - val_loss: 0.2493 - val_accuracy: 0.8416\n",
      "Epoch 5/20\n",
      "54/54 [==============================] - 1s 13ms/step - loss: 0.2427 - accuracy: 0.8482 - val_loss: 0.2223 - val_accuracy: 0.8624\n",
      "Epoch 6/20\n",
      "54/54 [==============================] - 1s 13ms/step - loss: 0.2193 - accuracy: 0.8699 - val_loss: 0.2072 - val_accuracy: 0.8909\n",
      "Epoch 7/20\n",
      "54/54 [==============================] - 1s 14ms/step - loss: 0.2061 - accuracy: 0.8940 - val_loss: 0.1984 - val_accuracy: 0.9043\n",
      "Epoch 8/20\n",
      "54/54 [==============================] - 1s 13ms/step - loss: 0.1988 - accuracy: 0.9030 - val_loss: 0.1928 - val_accuracy: 0.9052\n",
      "Epoch 9/20\n",
      "54/54 [==============================] - 1s 13ms/step - loss: 0.1932 - accuracy: 0.9041 - val_loss: 0.1889 - val_accuracy: 0.9058\n",
      "Epoch 10/20\n",
      "54/54 [==============================] - 1s 13ms/step - loss: 0.1900 - accuracy: 0.9042 - val_loss: 0.1859 - val_accuracy: 0.9067\n",
      "Epoch 11/20\n",
      "54/54 [==============================] - 1s 13ms/step - loss: 0.1875 - accuracy: 0.9047 - val_loss: 0.1835 - val_accuracy: 0.9071\n",
      "Epoch 12/20\n",
      "54/54 [==============================] - 1s 13ms/step - loss: 0.1845 - accuracy: 0.9057 - val_loss: 0.1814 - val_accuracy: 0.9075\n",
      "Epoch 13/20\n",
      "54/54 [==============================] - 1s 13ms/step - loss: 0.1822 - accuracy: 0.9063 - val_loss: 0.1797 - val_accuracy: 0.9079\n",
      "Epoch 14/20\n",
      "54/54 [==============================] - 1s 13ms/step - loss: 0.1803 - accuracy: 0.9071 - val_loss: 0.1781 - val_accuracy: 0.9085\n",
      "Epoch 15/20\n",
      "54/54 [==============================] - 1s 13ms/step - loss: 0.1789 - accuracy: 0.9074 - val_loss: 0.1768 - val_accuracy: 0.9088\n",
      "Epoch 16/20\n",
      "54/54 [==============================] - 1s 13ms/step - loss: 0.1775 - accuracy: 0.9080 - val_loss: 0.1755 - val_accuracy: 0.9090\n",
      "Epoch 17/20\n",
      "54/54 [==============================] - 1s 13ms/step - loss: 0.1771 - accuracy: 0.9076 - val_loss: 0.1745 - val_accuracy: 0.9094\n",
      "Epoch 18/20\n",
      "54/54 [==============================] - 1s 13ms/step - loss: 0.1760 - accuracy: 0.9082 - val_loss: 0.1735 - val_accuracy: 0.9095\n",
      "Epoch 19/20\n",
      "54/54 [==============================] - 1s 13ms/step - loss: 0.1749 - accuracy: 0.9077 - val_loss: 0.1726 - val_accuracy: 0.9097\n",
      "Epoch 20/20\n",
      "54/54 [==============================] - 1s 13ms/step - loss: 0.1742 - accuracy: 0.9081 - val_loss: 0.1718 - val_accuracy: 0.9099\n"
     ]
    }
   ],
   "source": [
    "# Setup some training parameters\n",
    "batch_size = 10000\n",
    "epochs = 20\n",
    "\n",
    "input_shape = (X.shape[1],)\n",
    "\n",
    "# Build the model\n",
    "model1 = build_DNN(input_shape=input_shape, n_layers=2, n_nodes=20, learning_rate=0.1)\n",
    "\n",
    "# Train the model, provide training data and validation data\n",
    "history1 = model1.fit(Xtrain, Ytrain, batch_size=batch_size, epochs=epochs, verbose=1, validation_data=(Xval, Yval))"
   ]
  },
  {
   "cell_type": "code",
   "execution_count": 123,
   "metadata": {
    "colab": {
     "base_uri": "https://localhost:8080/"
    },
    "id": "QuDCh7SXy3iB",
    "outputId": "8c1031a6-ab32-43b7-9deb-9c77c01565bc"
   },
   "outputs": [
    {
     "name": "stdout",
     "output_type": "stream",
     "text": [
      "3582/3582 [==============================] - 4s 1ms/step - loss: 0.1744 - accuracy: 0.9068\n",
      "Test loss: 0.1744\n",
      "Test accuracy: 0.9068\n"
     ]
    }
   ],
   "source": [
    "# Evaluate the model on the test data\n",
    "score = model1.evaluate(Xtest, Ytest)\n",
    "\n",
    "print('Test loss: %.4f' % score[0])\n",
    "print('Test accuracy: %.4f' % score[1])"
   ]
  },
  {
   "cell_type": "code",
   "execution_count": 124,
   "metadata": {
    "colab": {
     "base_uri": "https://localhost:8080/",
     "height": 541
    },
    "id": "Pyt3uw5AzRFF",
    "outputId": "95eb4e3d-0b84-4a31-c351-29c4db194e16"
   },
   "outputs": [
    {
     "data": {
      "image/png": "[encoded data removed]",
      "text/plain": [
       "<Figure size 720x288 with 1 Axes>"
      ]
     },
     "metadata": {
      "needs_background": "light",
      "tags": []
     },
     "output_type": "display_data"
    },
    {
     "data": {
      "image/png": "[encoded data removed]",
      "text/plain": [
       "<Figure size 720x288 with 1 Axes>"
      ]
     },
     "metadata": {
      "needs_background": "light",
      "tags": []
     },
     "output_type": "display_data"
    }
   ],
   "source": [
    "# Plot the history from the training run\n",
    "plot_results(history1)"
   ]
  },
  {
   "cell_type": "markdown",
   "metadata": {
    "id": "yXx6rmXYcVPg"
   },
   "source": [
    "# Part 12: More questions\n",
    "\n",
    "Question 9: What happens if you add several Dense layers without specifying the activation function?\n",
    "\n",
    "\n",
    "\n"
   ]
  },
  {
   "cell_type": "markdown",
   "metadata": {
    "id": "9_swBZNQiBRp"
   },
   "source": [
    "Answer:\n",
    "https://keras.io/api/layers/core_layers/dense/\n",
    "if we do not specify activation function , no activation is applied  It should be like \"linear\" activation: a(x) = x"
   ]
  },
  {
   "cell_type": "markdown",
   "metadata": {
    "id": "JWsAjNXrh7VH"
   },
   "source": [
    "Question 10: How are the weights in each dense layer initialized as default? How are the bias weights initialized?\n"
   ]
  },
  {
   "cell_type": "markdown",
   "metadata": {
    "id": "O-LqwCdYh_eD"
   },
   "source": [
    "Answer\n",
    "https://keras.io/api/layers/initializers/#glorotuniform-class\n",
    "\n",
    "Default kernel initializer is 'glorot_uniform' and the default bias intializer is 'zeros'.\n",
    "\n",
    "As it is mentioned in Dense leyer in \n",
    "https://keras.io/api/layers/core_layers/dense/\n",
    "kernel_initializer=\"glorot_uniform\",\n",
    "bias_initializer=\"zeros\""
   ]
  },
  {
   "cell_type": "markdown",
   "metadata": {
    "id": "qSmB_BcdsTOh"
   },
   "source": [
    "# Part 13: Balancing the classes\n",
    "\n",
    "This dataset is rather unbalanced, we need to define class weights so that the training pays more attention to the class with fewer samples. We use a function in scikit learn\n",
    "\n",
    "https://scikit-learn.org/stable/modules/generated/sklearn.utils.class_weight.compute_class_weight.html"
   ]
  },
  {
   "cell_type": "code",
   "execution_count": 19,
   "metadata": {
    "colab": {
     "base_uri": "https://localhost:8080/"
    },
    "id": "V7PyLmqKsXTw",
    "outputId": "74dfacea-0035-4351-e3c6-b85af8146400"
   },
   "outputs": [
    {
     "name": "stdout",
     "output_type": "stream",
     "text": [
      "[3.15066678 0.59431589]\n"
     ]
    }
   ],
   "source": [
    "'''from sklearn.utils import class_weight\n",
    "\n",
    "# Calculate class weights\n",
    "class_weights = class_weight.compute_class_weight('balanced', np.unique(Ytrain), Ytrain)\n",
    "\n",
    "# Print the class weights\n",
    "print(class_weights)'''"
   ]
  },
  {
   "cell_type": "code",
   "execution_count": 18,
   "metadata": {
    "colab": {
     "base_uri": "https://localhost:8080/"
    },
    "id": "RnfrFbK2avkf",
    "outputId": "e9f9ecae-76e4-4dc6-fbd0-20357633bad8"
   },
   "outputs": [
    {
     "data": {
      "text/plain": [
       "{0: 3.138207995494174, 1: 0.5947612926755502}"
      ]
     },
     "execution_count": 18,
     "metadata": {
      "tags": []
     },
     "output_type": "execute_result"
    }
   ],
   "source": [
    "\n",
    "from sklearn.utils import class_weight\n",
    "class_weights = class_weight.compute_class_weight('balanced', np.unique(Ytrain), Ytrain)\n",
    "# In google colab I had to use this method\n",
    "class_weights = {l:c for l,c in zip(np.unique(Ytrain), class_weights)}\n",
    "class_weights"
   ]
  },
  {
   "cell_type": "markdown",
   "metadata": {
    "id": "JLGQvQAc8tiI"
   },
   "source": [
    "### 2 layers, 20 nodes, class weights\n"
   ]
  },
  {
   "cell_type": "code",
   "execution_count": 125,
   "metadata": {
    "colab": {
     "base_uri": "https://localhost:8080/"
    },
    "id": "uss7gUXr8uUT",
    "outputId": "265cbad1-53a4-4cf3-9a4f-a13c6f237947"
   },
   "outputs": [
    {
     "name": "stdout",
     "output_type": "stream",
     "text": [
      "Epoch 1/20\n",
      "54/54 [==============================] - 1s 16ms/step - loss: 0.6678 - accuracy: 0.4892 - val_loss: 0.5517 - val_accuracy: 0.8812\n",
      "Epoch 2/20\n",
      "54/54 [==============================] - 1s 13ms/step - loss: 0.4903 - accuracy: 0.8793 - val_loss: 0.3749 - val_accuracy: 0.8808\n",
      "Epoch 3/20\n",
      "54/54 [==============================] - 1s 13ms/step - loss: 0.3260 - accuracy: 0.8796 - val_loss: 0.3007 - val_accuracy: 0.8814\n",
      "Epoch 4/20\n",
      "54/54 [==============================] - 1s 13ms/step - loss: 0.2587 - accuracy: 0.8800 - val_loss: 0.2765 - val_accuracy: 0.8820\n",
      "Epoch 5/20\n",
      "54/54 [==============================] - 1s 13ms/step - loss: 0.2333 - accuracy: 0.8806 - val_loss: 0.2663 - val_accuracy: 0.8846\n",
      "Epoch 6/20\n",
      "54/54 [==============================] - 1s 13ms/step - loss: 0.2218 - accuracy: 0.8839 - val_loss: 0.2596 - val_accuracy: 0.8880\n",
      "Epoch 7/20\n",
      "54/54 [==============================] - 1s 14ms/step - loss: 0.2152 - accuracy: 0.8872 - val_loss: 0.2552 - val_accuracy: 0.8923\n",
      "Epoch 8/20\n",
      "54/54 [==============================] - 1s 13ms/step - loss: 0.2099 - accuracy: 0.8914 - val_loss: 0.2506 - val_accuracy: 0.8949\n",
      "Epoch 9/20\n",
      "54/54 [==============================] - 1s 14ms/step - loss: 0.2062 - accuracy: 0.8938 - val_loss: 0.2473 - val_accuracy: 0.8963\n",
      "Epoch 10/20\n",
      "54/54 [==============================] - 1s 13ms/step - loss: 0.2024 - accuracy: 0.8953 - val_loss: 0.2445 - val_accuracy: 0.8978\n",
      "Epoch 11/20\n",
      "54/54 [==============================] - 1s 13ms/step - loss: 0.2002 - accuracy: 0.8961 - val_loss: 0.2424 - val_accuracy: 0.8986\n",
      "Epoch 12/20\n",
      "54/54 [==============================] - 1s 13ms/step - loss: 0.1982 - accuracy: 0.8966 - val_loss: 0.2403 - val_accuracy: 0.8993\n",
      "Epoch 13/20\n",
      "54/54 [==============================] - 1s 14ms/step - loss: 0.1961 - accuracy: 0.8976 - val_loss: 0.2382 - val_accuracy: 0.8998\n",
      "Epoch 14/20\n",
      "54/54 [==============================] - 1s 13ms/step - loss: 0.1936 - accuracy: 0.8987 - val_loss: 0.2353 - val_accuracy: 0.9004\n",
      "Epoch 15/20\n",
      "54/54 [==============================] - 1s 13ms/step - loss: 0.1916 - accuracy: 0.8992 - val_loss: 0.2345 - val_accuracy: 0.9008\n",
      "Epoch 16/20\n",
      "54/54 [==============================] - 1s 13ms/step - loss: 0.1909 - accuracy: 0.8992 - val_loss: 0.2333 - val_accuracy: 0.9012\n",
      "Epoch 17/20\n",
      "54/54 [==============================] - 1s 13ms/step - loss: 0.1895 - accuracy: 0.8996 - val_loss: 0.2319 - val_accuracy: 0.9018\n",
      "Epoch 18/20\n",
      "54/54 [==============================] - 1s 13ms/step - loss: 0.1892 - accuracy: 0.8995 - val_loss: 0.2313 - val_accuracy: 0.9024\n",
      "Epoch 19/20\n",
      "54/54 [==============================] - 1s 13ms/step - loss: 0.1871 - accuracy: 0.9013 - val_loss: 0.2297 - val_accuracy: 0.9032\n",
      "Epoch 20/20\n",
      "54/54 [==============================] - 1s 13ms/step - loss: 0.1866 - accuracy: 0.9015 - val_loss: 0.2292 - val_accuracy: 0.9040\n"
     ]
    }
   ],
   "source": [
    "\n",
    "\n",
    "# Setup some training parameters\n",
    "batch_size = 10000\n",
    "epochs = 20\n",
    "\n",
    "input_shape = (X.shape[1],)\n",
    "n_layers = 2\n",
    "n_nodes = 20\n",
    "\n",
    "# Build the model\n",
    "model2 = build_DNN(input_shape, n_layers, n_nodes,learning_rate = 0.1)\n",
    "\n",
    "# Train the model, provide training data and validation data\n",
    "history2 = model2.fit(Xtrain,Ytrain,epochs = epochs,validation_data = (Xval,Yval),batch_size=batch_size,class_weight = class_weights)\n"
   ]
  },
  {
   "cell_type": "code",
   "execution_count": 126,
   "metadata": {
    "colab": {
     "base_uri": "https://localhost:8080/"
    },
    "id": "c1nSLJZacWyL",
    "outputId": "d0341186-b6aa-423b-afc0-abc96c56e0d3"
   },
   "outputs": [
    {
     "name": "stdout",
     "output_type": "stream",
     "text": [
      "3582/3582 [==============================] - 4s 1ms/step - loss: 0.2344 - accuracy: 0.9016\n",
      "Test loss: 0.2344\n",
      "Test accuracy: 0.9016\n"
     ]
    }
   ],
   "source": [
    "# Evaluate model on test data\n",
    "score = model2.evaluate(Xtest, Ytest)\n",
    "\n",
    "print('Test loss: %.4f' % score[0])\n",
    "print('Test accuracy: %.4f' % score[1])"
   ]
  },
  {
   "cell_type": "code",
   "execution_count": 127,
   "metadata": {
    "colab": {
     "base_uri": "https://localhost:8080/",
     "height": 541
    },
    "id": "nJVCtRiWcwSp",
    "outputId": "5141028d-8e02-4042-9fdd-0b841d7de70e"
   },
   "outputs": [
    {
     "data": {
      "image/png": "[encoded data removed]",
      "text/plain": [
       "<Figure size 720x288 with 1 Axes>"
      ]
     },
     "metadata": {
      "needs_background": "light",
      "tags": []
     },
     "output_type": "display_data"
    },
    {
     "data": {
      "image/png": "[encoded data removed]",
      "text/plain": [
       "<Figure size 720x288 with 1 Axes>"
      ]
     },
     "metadata": {
      "needs_background": "light",
      "tags": []
     },
     "output_type": "display_data"
    }
   ],
   "source": [
    "plot_results(history2)"
   ]
  },
  {
   "cell_type": "markdown",
   "metadata": {
    "id": "Y8fkNaq5dPR4"
   },
   "source": [
    "# Part 14: More questions\n",
    "\n",
    "Question 11: Why do we have to use a batch size? Why can't we simply use all data at once? This is more relevant for even larger datasets.\n",
    "\n",
    "Answer 11 : #https://medium.com/analytics-vidhya/when-and-why-are-batches-used-in-machine-learning-acda4eb00763\n",
    "When size of our data set is huge, it consumes a lot of resources and time for each iteration in model.So the training speed will be very slow because it consumes a lot of memory in CPU or GPU. So we break our data set into batches.\n",
    "\n",
    "Question 12: How busy is the GPU for a batch size of 100? How much GPU memory is used? Hint: run 'nvidia-smi' on the cloud computer a few times during training.\n",
    "\n",
    "Question 13: What is the processing time for one training epoch when the batch size is 100? What is the processing time for one epoch when the batch size is 1,000? What is the processing time for one epoch when the batch size is 10,000? Explain the results. \n",
    "#### Answer 13: \n",
    "When  batch_size = 100 , it takes 13s 2ms/step per epoch, when batch_size is 1000 , it takes 2s 3ms/step per epoch and when batch_size is 10000, it takes 0s 6ms/step per epoch.For batch training all of the training samples pass through the learning algorithm simultaneously in one epoch before weights are updated.When the batch_size is smaller , the number of weights to be updated is bigger. \n",
    "\n",
    "\n",
    "Question 14: How many times are the weights in the DNN updated in each training epoch if the batch size is 100? How many times are the weights in the DNN updated in each training epoch if the batch size is 1,000? How many times are the weights in the DNN updated in each training epoch if the batch size is 10,000? \n",
    "#### Answer 14:\n",
    "Here we have a data set with  534895 samples(rows of training data). If we choose batch size=100, this means the data set will be divided into 5348.95 batches, each with 100 samples. This means that one epoch will involve 5348.95 updates to the model. \n",
    "for batch size = 1000, one epoch will involve 534.895 updates to the model.\n",
    "for batch size = 10000, one epoch will involve 53.4895 updates to the model\n",
    "\n",
    "Question 15: What limits how large the batch size can be?\n",
    "#### Answer 15:\n",
    "https://stats.stackexchange.com/questions/164876/what-is-the-trade-off-between-batch-size-and-number-of-iterations-to-train-a-neu\n",
    "\n",
    "When using large batch size, the quality of the model and the ability of generalization decrease(By tending to sharp minimizers of the training and testing functions). Also batch size could not be larger than total number of observations.\n",
    "\n",
    "\n",
    "Question 16: Generally speaking, how is the learning rate related to the batch size? If the batch size is decreased, how should the learning rate be changed?\n",
    "#### Answer 16:\n",
    "batch size and learning rates are related to each other. if we select small batch size, we should select low learning rate.\n"
   ]
  },
  {
   "cell_type": "markdown",
   "metadata": {
    "id": "IGPiUNSYJFYp"
   },
   "source": [
    "# Part 15: Increasing the complexity\n",
    "\n",
    "Lets try some different configurations of number of layers and number of nodes per layer.\n",
    "\n",
    "Question 17: How many trainable parameters does the network with 4 dense layers with 50 nodes each have, compared to the initial network with 2 layers and 20 nodes per layer? Hint: use model.summary()"
   ]
  },
  {
   "cell_type": "code",
   "execution_count": 128,
   "metadata": {
    "colab": {
     "base_uri": "https://localhost:8080/"
    },
    "id": "SsH_wLN5c1Id",
    "outputId": "8bd66706-c06f-4554-a08e-a9a41ce6c301"
   },
   "outputs": [
    {
     "name": "stdout",
     "output_type": "stream",
     "text": [
      "Model: \"sequential_58\"\n",
      "_________________________________________________________________\n",
      "Layer (type)                 Output Shape              Param #   \n",
      "=================================================================\n",
      "dense_318 (Dense)            (None, 20)                1860      \n",
      "_________________________________________________________________\n",
      "dense_319 (Dense)            (None, 20)                420       \n",
      "_________________________________________________________________\n",
      "dense_320 (Dense)            (None, 1)                 21        \n",
      "=================================================================\n",
      "Total params: 2,301\n",
      "Trainable params: 2,301\n",
      "Non-trainable params: 0\n",
      "_________________________________________________________________\n"
     ]
    }
   ],
   "source": [
    "# 2 layers with 20 nodes, learning rate=0.1 is model2, which has 2301 parameters\n",
    "# 4 layers with 50 nodes, this model has 12351 parameters\n",
    "model2.summary()"
   ]
  },
  {
   "cell_type": "code",
   "execution_count": 129,
   "metadata": {
    "colab": {
     "base_uri": "https://localhost:8080/"
    },
    "id": "bq0Dd68dKQmd",
    "outputId": "32200dc4-9912-4f62-e5a4-cadc553e926f"
   },
   "outputs": [
    {
     "name": "stdout",
     "output_type": "stream",
     "text": [
      "Model: \"sequential_59\"\n",
      "_________________________________________________________________\n",
      "Layer (type)                 Output Shape              Param #   \n",
      "=================================================================\n",
      "dense_321 (Dense)            (None, 50)                4650      \n",
      "_________________________________________________________________\n",
      "dense_322 (Dense)            (None, 50)                2550      \n",
      "_________________________________________________________________\n",
      "dense_323 (Dense)            (None, 50)                2550      \n",
      "_________________________________________________________________\n",
      "dense_324 (Dense)            (None, 50)                2550      \n",
      "_________________________________________________________________\n",
      "dense_325 (Dense)            (None, 1)                 51        \n",
      "=================================================================\n",
      "Total params: 12,351\n",
      "Trainable params: 12,351\n",
      "Non-trainable params: 0\n",
      "_________________________________________________________________\n"
     ]
    }
   ],
   "source": [
    "# 4 layers with 50 nodes\n",
    "\n",
    "model_17 = build_DNN(input_shape, n_layers=4, n_nodes=50,learning_rate = 0.1)\n",
    "model_17.summary()\n"
   ]
  },
  {
   "cell_type": "markdown",
   "metadata": {
    "id": "ozG9v7r_LHj7"
   },
   "source": [
    "### 4 layers, 20 nodes, class weights"
   ]
  },
  {
   "cell_type": "code",
   "execution_count": 130,
   "metadata": {
    "colab": {
     "base_uri": "https://localhost:8080/"
    },
    "id": "0PbImNT6LIak",
    "outputId": "9515256d-1c43-4c62-e2c5-b0821057dec4"
   },
   "outputs": [
    {
     "name": "stdout",
     "output_type": "stream",
     "text": [
      "Epoch 1/20\n",
      "54/54 [==============================] - 2s 21ms/step - loss: 0.6978 - accuracy: 0.7401 - val_loss: 0.6916 - val_accuracy: 0.8478\n",
      "Epoch 2/20\n",
      "54/54 [==============================] - 1s 17ms/step - loss: 0.6921 - accuracy: 0.5832 - val_loss: 0.6867 - val_accuracy: 0.8412\n",
      "Epoch 3/20\n",
      "54/54 [==============================] - 1s 17ms/step - loss: 0.6909 - accuracy: 0.7857 - val_loss: 0.6920 - val_accuracy: 0.8545\n",
      "Epoch 4/20\n",
      "54/54 [==============================] - 1s 17ms/step - loss: 0.6913 - accuracy: 0.7296 - val_loss: 0.6863 - val_accuracy: 0.8438\n",
      "Epoch 5/20\n",
      "54/54 [==============================] - 1s 17ms/step - loss: 0.6908 - accuracy: 0.7845 - val_loss: 0.6916 - val_accuracy: 0.8431\n",
      "Epoch 6/20\n",
      "54/54 [==============================] - 1s 17ms/step - loss: 0.6890 - accuracy: 0.7907 - val_loss: 0.6875 - val_accuracy: 0.8908\n",
      "Epoch 7/20\n",
      "54/54 [==============================] - 1s 17ms/step - loss: 0.6883 - accuracy: 0.8494 - val_loss: 0.6876 - val_accuracy: 0.8769\n",
      "Epoch 8/20\n",
      "54/54 [==============================] - 1s 17ms/step - loss: 0.6866 - accuracy: 0.8645 - val_loss: 0.6876 - val_accuracy: 0.8696\n",
      "Epoch 9/20\n",
      "54/54 [==============================] - 1s 17ms/step - loss: 0.6856 - accuracy: 0.8716 - val_loss: 0.6821 - val_accuracy: 0.8858\n",
      "Epoch 10/20\n",
      "54/54 [==============================] - 1s 17ms/step - loss: 0.6828 - accuracy: 0.8812 - val_loss: 0.6858 - val_accuracy: 0.8609\n",
      "Epoch 11/20\n",
      "54/54 [==============================] - 1s 17ms/step - loss: 0.6810 - accuracy: 0.8658 - val_loss: 0.6724 - val_accuracy: 0.8912\n",
      "Epoch 12/20\n",
      "54/54 [==============================] - 1s 17ms/step - loss: 0.6745 - accuracy: 0.8802 - val_loss: 0.6708 - val_accuracy: 0.8770\n",
      "Epoch 13/20\n",
      "54/54 [==============================] - 1s 17ms/step - loss: 0.6679 - accuracy: 0.8752 - val_loss: 0.6577 - val_accuracy: 0.8793\n",
      "Epoch 14/20\n",
      "54/54 [==============================] - 1s 17ms/step - loss: 0.6536 - accuracy: 0.8767 - val_loss: 0.6412 - val_accuracy: 0.8783\n",
      "Epoch 15/20\n",
      "54/54 [==============================] - 1s 18ms/step - loss: 0.6314 - accuracy: 0.8769 - val_loss: 0.6104 - val_accuracy: 0.8782\n",
      "Epoch 16/20\n",
      "54/54 [==============================] - 1s 17ms/step - loss: 0.5933 - accuracy: 0.8764 - val_loss: 0.5466 - val_accuracy: 0.8795\n",
      "Epoch 17/20\n",
      "54/54 [==============================] - 1s 17ms/step - loss: 0.5218 - accuracy: 0.8771 - val_loss: 0.4556 - val_accuracy: 0.8796\n",
      "Epoch 18/20\n",
      "54/54 [==============================] - 1s 18ms/step - loss: 0.4187 - accuracy: 0.8775 - val_loss: 0.3613 - val_accuracy: 0.8800\n",
      "Epoch 19/20\n",
      "54/54 [==============================] - 1s 17ms/step - loss: 0.3230 - accuracy: 0.8787 - val_loss: 0.3054 - val_accuracy: 0.8807\n",
      "Epoch 20/20\n",
      "54/54 [==============================] - 1s 17ms/step - loss: 0.2681 - accuracy: 0.8789 - val_loss: 0.2812 - val_accuracy: 0.8816\n"
     ]
    }
   ],
   "source": [
    "# Setup some training parameters\n",
    "batch_size = 10000\n",
    "epochs = 20\n",
    "input_shape = (X.shape[1],)\n",
    "\n",
    "# Build and train model\n",
    "model3 = build_DNN(input_shape, n_layers=4, n_nodes=20,learning_rate = 0.1)\n",
    "\n",
    "history3 =model3.fit(Xtrain,Ytrain,epochs = epochs,validation_data = (Xval,Yval),batch_size=batch_size,class_weight = class_weights)"
   ]
  },
  {
   "cell_type": "code",
   "execution_count": 131,
   "metadata": {
    "colab": {
     "base_uri": "https://localhost:8080/"
    },
    "id": "bsjnrJotLz6d",
    "outputId": "9c63ce2d-8f82-4582-f2ce-ca9284244922"
   },
   "outputs": [
    {
     "name": "stdout",
     "output_type": "stream",
     "text": [
      "3582/3582 [==============================] - 4s 1ms/step - loss: 0.2864 - accuracy: 0.8784\n",
      "Test loss: 0.2864\n",
      "Test accuracy: 0.8784\n"
     ]
    }
   ],
   "source": [
    "# Evaluate model on test data\n",
    "score = model3.evaluate(Xtest, Ytest)\n",
    "\n",
    "print('Test loss: %.4f' % score[0])\n",
    "print('Test accuracy: %.4f' % score[1])"
   ]
  },
  {
   "cell_type": "code",
   "execution_count": 132,
   "metadata": {
    "colab": {
     "base_uri": "https://localhost:8080/",
     "height": 541
    },
    "id": "WKrkrXeCMBDk",
    "outputId": "ebf91a59-24bb-4ce4-ee10-3276aacf2435"
   },
   "outputs": [
    {
     "data": {
      "image/png": "[encoded data removed]",
      "text/plain": [
       "<Figure size 720x288 with 1 Axes>"
      ]
     },
     "metadata": {
      "needs_background": "light",
      "tags": []
     },
     "output_type": "display_data"
    },
    {
     "data": {
      "image/png": "[encoded data removed]",
      "text/plain": [
       "<Figure size 720x288 with 1 Axes>"
      ]
     },
     "metadata": {
      "needs_background": "light",
      "tags": []
     },
     "output_type": "display_data"
    }
   ],
   "source": [
    "plot_results(history3)"
   ]
  },
  {
   "cell_type": "markdown",
   "metadata": {
    "id": "n21b2NzOMCta"
   },
   "source": [
    "### 2 layers, 50 nodes, class weights"
   ]
  },
  {
   "cell_type": "code",
   "execution_count": 27,
   "metadata": {
    "colab": {
     "base_uri": "https://localhost:8080/"
    },
    "id": "XcHNQbN4MFvP",
    "outputId": "132f87d9-63b6-4893-a5d6-e6f13cb428c4"
   },
   "outputs": [
    {
     "name": "stdout",
     "output_type": "stream",
     "text": [
      "Epoch 1/20\n",
      "54/54 [==============================] - 2s 26ms/step - loss: 0.6857 - accuracy: 0.5675 - val_loss: 0.5220 - val_accuracy: 0.8816\n",
      "Epoch 2/20\n",
      "54/54 [==============================] - 1s 23ms/step - loss: 0.4639 - accuracy: 0.8792 - val_loss: 0.3457 - val_accuracy: 0.8835\n",
      "Epoch 3/20\n",
      "54/54 [==============================] - 1s 22ms/step - loss: 0.3022 - accuracy: 0.8813 - val_loss: 0.2894 - val_accuracy: 0.8833\n",
      "Epoch 4/20\n",
      "54/54 [==============================] - 1s 22ms/step - loss: 0.2477 - accuracy: 0.8811 - val_loss: 0.2731 - val_accuracy: 0.8840\n",
      "Epoch 5/20\n",
      "54/54 [==============================] - 1s 23ms/step - loss: 0.2285 - accuracy: 0.8830 - val_loss: 0.2649 - val_accuracy: 0.8867\n",
      "Epoch 6/20\n",
      "54/54 [==============================] - 1s 22ms/step - loss: 0.2200 - accuracy: 0.8852 - val_loss: 0.2605 - val_accuracy: 0.8893\n",
      "Epoch 7/20\n",
      "54/54 [==============================] - 1s 24ms/step - loss: 0.2132 - accuracy: 0.8886 - val_loss: 0.2547 - val_accuracy: 0.8922\n",
      "Epoch 8/20\n",
      "54/54 [==============================] - 1s 22ms/step - loss: 0.2087 - accuracy: 0.8913 - val_loss: 0.2520 - val_accuracy: 0.8937\n",
      "Epoch 9/20\n",
      "54/54 [==============================] - 1s 23ms/step - loss: 0.2059 - accuracy: 0.8920 - val_loss: 0.2466 - val_accuracy: 0.8960\n",
      "Epoch 10/20\n",
      "54/54 [==============================] - 1s 22ms/step - loss: 0.2029 - accuracy: 0.8940 - val_loss: 0.2456 - val_accuracy: 0.8973\n",
      "Epoch 11/20\n",
      "54/54 [==============================] - 1s 22ms/step - loss: 0.2003 - accuracy: 0.8951 - val_loss: 0.2441 - val_accuracy: 0.8980\n",
      "Epoch 12/20\n",
      "54/54 [==============================] - 1s 22ms/step - loss: 0.1977 - accuracy: 0.8958 - val_loss: 0.2401 - val_accuracy: 0.8985\n",
      "Epoch 13/20\n",
      "54/54 [==============================] - 1s 22ms/step - loss: 0.1956 - accuracy: 0.8969 - val_loss: 0.2379 - val_accuracy: 0.8992\n",
      "Epoch 14/20\n",
      "54/54 [==============================] - 1s 22ms/step - loss: 0.1945 - accuracy: 0.8971 - val_loss: 0.2357 - val_accuracy: 0.8996\n",
      "Epoch 15/20\n",
      "54/54 [==============================] - 1s 22ms/step - loss: 0.1925 - accuracy: 0.8984 - val_loss: 0.2347 - val_accuracy: 0.9003\n",
      "Epoch 16/20\n",
      "54/54 [==============================] - 1s 22ms/step - loss: 0.1910 - accuracy: 0.8985 - val_loss: 0.2350 - val_accuracy: 0.9008\n",
      "Epoch 17/20\n",
      "54/54 [==============================] - 1s 22ms/step - loss: 0.1894 - accuracy: 0.8994 - val_loss: 0.2315 - val_accuracy: 0.9016\n",
      "Epoch 18/20\n",
      "54/54 [==============================] - 1s 22ms/step - loss: 0.1891 - accuracy: 0.8999 - val_loss: 0.2306 - val_accuracy: 0.9022\n",
      "Epoch 19/20\n",
      "54/54 [==============================] - 1s 22ms/step - loss: 0.1866 - accuracy: 0.9013 - val_loss: 0.2303 - val_accuracy: 0.9028\n",
      "Epoch 20/20\n",
      "54/54 [==============================] - 1s 22ms/step - loss: 0.1867 - accuracy: 0.9011 - val_loss: 0.2296 - val_accuracy: 0.9036\n"
     ]
    }
   ],
   "source": [
    "# Setup some training parameters\n",
    "batch_size = 10000\n",
    "epochs = 20\n",
    "input_shape = (X.shape[1],)\n",
    "\n",
    "\n",
    "# Build and train model\n",
    "model4 = build_DNN(input_shape, n_layers=2, n_nodes=50,learning_rate = 0.1)\n",
    "\n",
    "history4 =model4.fit(Xtrain,Ytrain,epochs = epochs,validation_data = (Xval,Yval),batch_size=batch_size,class_weight = class_weights)"
   ]
  },
  {
   "cell_type": "code",
   "execution_count": 28,
   "metadata": {
    "colab": {
     "base_uri": "https://localhost:8080/"
    },
    "id": "Lq7_-0oDMn17",
    "outputId": "aa2846ba-9426-420e-ea58-2abc5b38667a"
   },
   "outputs": [
    {
     "name": "stdout",
     "output_type": "stream",
     "text": [
      "3582/3582 [==============================] - 4s 1ms/step - loss: 0.2347 - accuracy: 0.9008\n",
      "Test loss: 0.2347\n",
      "Test accuracy: 0.9008\n"
     ]
    }
   ],
   "source": [
    "# Evaluate model on test data\n",
    "score =model4.evaluate(Xtest, Ytest) \n",
    "\n",
    "print('Test loss: %.4f' % score[0])\n",
    "print('Test accuracy: %.4f' % score[1])"
   ]
  },
  {
   "cell_type": "code",
   "execution_count": 29,
   "metadata": {
    "colab": {
     "base_uri": "https://localhost:8080/",
     "height": 541
    },
    "id": "35iMs481Muw7",
    "outputId": "565693fd-bbfd-4018-e510-f844532e639f"
   },
   "outputs": [
    {
     "data": {
      "image/png": "[encoded data removed]",
      "text/plain": [
       "<Figure size 720x288 with 1 Axes>"
      ]
     },
     "metadata": {
      "needs_background": "light",
      "tags": []
     },
     "output_type": "display_data"
    },
    {
     "data": {
      "image/png": "[encoded data removed]",
      "text/plain": [
       "<Figure size 720x288 with 1 Axes>"
      ]
     },
     "metadata": {
      "needs_background": "light",
      "tags": []
     },
     "output_type": "display_data"
    }
   ],
   "source": [
    "plot_results(history4)"
   ]
  },
  {
   "cell_type": "markdown",
   "metadata": {
    "id": "KeaCpUmTM0y0"
   },
   "source": [
    "### 4 layers, 50 nodes, class weights"
   ]
  },
  {
   "cell_type": "code",
   "execution_count": 134,
   "metadata": {
    "colab": {
     "base_uri": "https://localhost:8080/"
    },
    "id": "wBGxmtiqM1Y5",
    "outputId": "40477295-43f3-4c2e-b363-33f241d0f14a"
   },
   "outputs": [
    {
     "name": "stdout",
     "output_type": "stream",
     "text": [
      "Epoch 1/20\n",
      "54/54 [==============================] - 3s 38ms/step - loss: 0.6929 - accuracy: 0.7063 - val_loss: 0.6854 - val_accuracy: 0.8434\n",
      "Epoch 2/20\n",
      "54/54 [==============================] - 2s 32ms/step - loss: 0.6906 - accuracy: 0.6691 - val_loss: 0.6870 - val_accuracy: 0.8704\n",
      "Epoch 3/20\n",
      "54/54 [==============================] - 2s 33ms/step - loss: 0.6884 - accuracy: 0.8247 - val_loss: 0.6833 - val_accuracy: 0.8750\n",
      "Epoch 4/20\n",
      "54/54 [==============================] - 2s 32ms/step - loss: 0.6862 - accuracy: 0.8465 - val_loss: 0.6894 - val_accuracy: 0.8090\n",
      "Epoch 5/20\n",
      "54/54 [==============================] - 2s 33ms/step - loss: 0.6825 - accuracy: 0.8432 - val_loss: 0.6788 - val_accuracy: 0.8783\n",
      "Epoch 6/20\n",
      "54/54 [==============================] - 2s 33ms/step - loss: 0.6766 - accuracy: 0.8765 - val_loss: 0.6719 - val_accuracy: 0.8783\n",
      "Epoch 7/20\n",
      "54/54 [==============================] - 2s 33ms/step - loss: 0.6679 - accuracy: 0.8756 - val_loss: 0.6564 - val_accuracy: 0.8785\n",
      "Epoch 8/20\n",
      "54/54 [==============================] - 2s 33ms/step - loss: 0.6516 - accuracy: 0.8772 - val_loss: 0.6349 - val_accuracy: 0.8802\n",
      "Epoch 9/20\n",
      "54/54 [==============================] - 2s 33ms/step - loss: 0.6254 - accuracy: 0.8769 - val_loss: 0.5893 - val_accuracy: 0.8811\n",
      "Epoch 10/20\n",
      "54/54 [==============================] - 2s 33ms/step - loss: 0.5676 - accuracy: 0.8794 - val_loss: 0.4955 - val_accuracy: 0.8813\n",
      "Epoch 11/20\n",
      "54/54 [==============================] - 2s 33ms/step - loss: 0.4627 - accuracy: 0.8789 - val_loss: 0.3821 - val_accuracy: 0.8812\n",
      "Epoch 12/20\n",
      "54/54 [==============================] - 2s 33ms/step - loss: 0.3410 - accuracy: 0.8796 - val_loss: 0.3040 - val_accuracy: 0.8817\n",
      "Epoch 13/20\n",
      "54/54 [==============================] - 2s 33ms/step - loss: 0.2668 - accuracy: 0.8805 - val_loss: 0.2756 - val_accuracy: 0.8821\n",
      "Epoch 14/20\n",
      "54/54 [==============================] - 2s 33ms/step - loss: 0.2388 - accuracy: 0.8803 - val_loss: 0.2673 - val_accuracy: 0.8823\n",
      "Epoch 15/20\n",
      "54/54 [==============================] - 2s 33ms/step - loss: 0.2262 - accuracy: 0.8799 - val_loss: 0.2633 - val_accuracy: 0.8823\n",
      "Epoch 16/20\n",
      "54/54 [==============================] - 2s 33ms/step - loss: 0.2187 - accuracy: 0.8806 - val_loss: 0.2605 - val_accuracy: 0.8824\n",
      "Epoch 17/20\n",
      "54/54 [==============================] - 2s 34ms/step - loss: 0.2149 - accuracy: 0.8800 - val_loss: 0.2587 - val_accuracy: 0.8827\n",
      "Epoch 18/20\n",
      "54/54 [==============================] - 2s 33ms/step - loss: 0.2121 - accuracy: 0.8808 - val_loss: 0.2554 - val_accuracy: 0.8848\n",
      "Epoch 19/20\n",
      "54/54 [==============================] - 2s 32ms/step - loss: 0.2090 - accuracy: 0.8837 - val_loss: 0.2494 - val_accuracy: 0.8885\n",
      "Epoch 20/20\n",
      "54/54 [==============================] - 2s 33ms/step - loss: 0.2056 - accuracy: 0.8877 - val_loss: 0.2463 - val_accuracy: 0.8923\n"
     ]
    }
   ],
   "source": [
    "# Setup some training parameters\n",
    "batch_size = 10000\n",
    "epochs = 20\n",
    "input_shape = (X.shape[1],)\n",
    "\n",
    "# Build and train model\n",
    "model5 = build_DNN(input_shape, n_layers=4, n_nodes=50,learning_rate = 0.1)\n",
    "\n",
    "history5 = model5.fit(Xtrain,Ytrain,epochs = epochs,validation_data = (Xval,Yval),batch_size=batch_size,class_weight = class_weights)"
   ]
  },
  {
   "cell_type": "code",
   "execution_count": 135,
   "metadata": {
    "colab": {
     "base_uri": "https://localhost:8080/"
    },
    "id": "GCu4Px-6NN7q",
    "outputId": "63c879d6-2fbf-4e2d-93c4-a66a1114e0cd"
   },
   "outputs": [
    {
     "name": "stdout",
     "output_type": "stream",
     "text": [
      "3582/3582 [==============================] - 4s 1ms/step - loss: 0.2524 - accuracy: 0.8891\n",
      "Test loss: 0.2524\n",
      "Test accuracy: 0.8891\n"
     ]
    }
   ],
   "source": [
    "# Evaluate model on test data\n",
    "score =model5.evaluate(Xtest, Ytest)  \n",
    "\n",
    "print('Test loss: %.4f' % score[0])\n",
    "print('Test accuracy: %.4f' % score[1])"
   ]
  },
  {
   "cell_type": "code",
   "execution_count": 136,
   "metadata": {
    "colab": {
     "base_uri": "https://localhost:8080/",
     "height": 542
    },
    "id": "xM04Tih7NTCd",
    "outputId": "162458c2-43af-43f2-c845-c8b98ab6f15d"
   },
   "outputs": [
    {
     "data": {
      "image/png": "[encoded data removed]",
      "text/plain": [
       "<Figure size 720x288 with 1 Axes>"
      ]
     },
     "metadata": {
      "needs_background": "light",
      "tags": []
     },
     "output_type": "display_data"
    },
    {
     "data": {
      "image/png": "[encoded data removed]",
      "text/plain": [
       "<Figure size 720x288 with 1 Axes>"
      ]
     },
     "metadata": {
      "needs_background": "light",
      "tags": []
     },
     "output_type": "display_data"
    }
   ],
   "source": [
    "plot_results(history5)"
   ]
  },
  {
   "cell_type": "markdown",
   "metadata": {
    "id": "6qO-5blINa7D"
   },
   "source": [
    "# Part 16: Batch normalization\n",
    "\n",
    "Now add batch normalization after each dense layer. Remember to import BatchNormalization from keras.layers. \n",
    "\n",
    "See https://keras.io/layers/normalization/ for information about how to call the function.\n",
    "\n",
    "Question 18: Why is batch normalization important when training deep networks?\n",
    "#### Answer18:\n",
    "https://towardsdatascience.com/batch-normalization-8a2e585775c9\n",
    "batch normalization optimize network training by network trains faster,allows us to use higher learning rates that lead to training be faster,makes weighte easier to initialize, makes more activation functions viable, simplifies the creation of deeper networks, provides a bit of regularlization and may give better results overall"
   ]
  },
  {
   "cell_type": "markdown",
   "metadata": {
    "id": "lE9T-QOVQ9Aa"
   },
   "source": [
    "### 2 layers, 20 nodes, class weights, batch normalization"
   ]
  },
  {
   "cell_type": "code",
   "execution_count": 141,
   "metadata": {
    "colab": {
     "base_uri": "https://localhost:8080/"
    },
    "id": "rFKU4P-KNbnE",
    "outputId": "56e6a237-4014-43f7-c22f-f8543856b160"
   },
   "outputs": [
    {
     "name": "stdout",
     "output_type": "stream",
     "text": [
      "Epoch 1/20\n",
      "54/54 [==============================] - 3s 25ms/step - loss: 1.3302 - accuracy: 0.8348 - val_loss: 0.5816 - val_accuracy: 0.8410\n",
      "Epoch 2/20\n",
      "54/54 [==============================] - 1s 21ms/step - loss: 1.0955 - accuracy: 0.8791 - val_loss: 0.2005 - val_accuracy: 0.8795\n",
      "Epoch 3/20\n",
      "54/54 [==============================] - 1s 21ms/step - loss: 1.0990 - accuracy: 0.8791 - val_loss: 1.5762 - val_accuracy: 0.8822\n",
      "Epoch 4/20\n",
      "54/54 [==============================] - 1s 20ms/step - loss: 1.0976 - accuracy: 0.8803 - val_loss: 1.8207 - val_accuracy: 0.8817\n",
      "Epoch 5/20\n",
      "54/54 [==============================] - 1s 21ms/step - loss: 1.1017 - accuracy: 0.8798 - val_loss: 1.8233 - val_accuracy: 0.8814\n",
      "Epoch 6/20\n",
      "54/54 [==============================] - 1s 21ms/step - loss: 1.0972 - accuracy: 0.8804 - val_loss: 1.8214 - val_accuracy: 0.8814\n",
      "Epoch 7/20\n",
      "54/54 [==============================] - 1s 21ms/step - loss: 1.0998 - accuracy: 0.8801 - val_loss: 1.8196 - val_accuracy: 0.8818\n",
      "Epoch 8/20\n",
      "54/54 [==============================] - 1s 21ms/step - loss: 1.1011 - accuracy: 0.8799 - val_loss: 1.8177 - val_accuracy: 0.8820\n",
      "Epoch 9/20\n",
      "54/54 [==============================] - 1s 21ms/step - loss: 1.0989 - accuracy: 0.8802 - val_loss: 1.8163 - val_accuracy: 0.8821\n",
      "Epoch 10/20\n",
      "54/54 [==============================] - 1s 21ms/step - loss: 1.1002 - accuracy: 0.8800 - val_loss: 1.8154 - val_accuracy: 0.8821\n",
      "Epoch 11/20\n",
      "54/54 [==============================] - 1s 21ms/step - loss: 1.1059 - accuracy: 0.8794 - val_loss: 1.8151 - val_accuracy: 0.8822\n",
      "Epoch 12/20\n",
      "54/54 [==============================] - 1s 20ms/step - loss: 1.0979 - accuracy: 0.8803 - val_loss: 1.8147 - val_accuracy: 0.8822\n",
      "Epoch 13/20\n",
      "54/54 [==============================] - 1s 20ms/step - loss: 1.0986 - accuracy: 0.8802 - val_loss: 1.8143 - val_accuracy: 0.8822\n",
      "Epoch 14/20\n",
      "54/54 [==============================] - 1s 20ms/step - loss: 1.0994 - accuracy: 0.8802 - val_loss: 1.8130 - val_accuracy: 0.8820\n",
      "Epoch 15/20\n",
      "54/54 [==============================] - 1s 21ms/step - loss: 1.1644 - accuracy: 0.8696 - val_loss: 0.2870 - val_accuracy: 0.8897\n",
      "Epoch 16/20\n",
      "54/54 [==============================] - 1s 20ms/step - loss: 0.2138 - accuracy: 0.8878 - val_loss: 0.2726 - val_accuracy: 0.8906\n",
      "Epoch 17/20\n",
      "54/54 [==============================] - 1s 20ms/step - loss: 0.2072 - accuracy: 0.8915 - val_loss: 0.2058 - val_accuracy: 0.8985\n",
      "Epoch 18/20\n",
      "54/54 [==============================] - 1s 21ms/step - loss: 0.2176 - accuracy: 0.8984 - val_loss: 0.2710 - val_accuracy: 0.8410\n",
      "Epoch 19/20\n",
      "54/54 [==============================] - 1s 21ms/step - loss: 1.1857 - accuracy: 0.8591 - val_loss: 1.7243 - val_accuracy: 0.8876\n",
      "Epoch 20/20\n",
      "54/54 [==============================] - 1s 20ms/step - loss: 1.5501 - accuracy: 0.8454 - val_loss: 1.5689 - val_accuracy: 0.8977\n"
     ]
    }
   ],
   "source": [
    "# Setup some training parameters\n",
    "batch_size = 10000\n",
    "epochs = 20\n",
    "input_shape = (X.shape[1],)\n",
    "\n",
    "# Build and train model\n",
    "model6 = build_DNN(input_shape=input_shape, n_layers=2, n_nodes=20, learning_rate=0.1, use_bn=True)\n",
    "\n",
    "\n",
    "history6 =model6.fit(Xtrain,Ytrain,epochs = epochs,validation_data = (Xval,Yval),batch_size=batch_size,class_weight = class_weights)"
   ]
  },
  {
   "cell_type": "code",
   "execution_count": 142,
   "metadata": {
    "colab": {
     "base_uri": "https://localhost:8080/"
    },
    "id": "1EKJX6_QN_Wu",
    "outputId": "670064ef-41c1-4a5e-d777-1689ff074fa9"
   },
   "outputs": [
    {
     "name": "stdout",
     "output_type": "stream",
     "text": [
      "3582/3582 [==============================] - 4s 1ms/step - loss: 1.6055 - accuracy: 0.8953\n",
      "Test loss: 1.6055\n",
      "Test accuracy: 0.8953\n"
     ]
    }
   ],
   "source": [
    "# Evaluate model on test data\n",
    "score = model6.evaluate(Xtest, Ytest)  \n",
    "\n",
    "print('Test loss: %.4f' % score[0])\n",
    "print('Test accuracy: %.4f' % score[1])"
   ]
  },
  {
   "cell_type": "code",
   "execution_count": 143,
   "metadata": {
    "colab": {
     "base_uri": "https://localhost:8080/",
     "height": 541
    },
    "id": "kWHqEikyOGDG",
    "outputId": "16a437e3-cfce-4ed9-ed48-fe001804740e"
   },
   "outputs": [
    {
     "data": {
      "image/png": "[encoded data removed]",
      "text/plain": [
       "<Figure size 720x288 with 1 Axes>"
      ]
     },
     "metadata": {
      "needs_background": "light",
      "tags": []
     },
     "output_type": "display_data"
    },
    {
     "data": {
      "image/png": "[encoded data removed]",
      "text/plain": [
       "<Figure size 720x288 with 1 Axes>"
      ]
     },
     "metadata": {
      "needs_background": "light",
      "tags": []
     },
     "output_type": "display_data"
    }
   ],
   "source": [
    "plot_results(history6)"
   ]
  },
  {
   "cell_type": "markdown",
   "metadata": {
    "id": "Ks1_jtFSirMn"
   },
   "source": [
    "# Part 16: Activation function\n",
    "\n",
    "Try changing the activation function in each layer from sigmoid to ReLU, write down the test accuracy.\n",
    "\n",
    "Note: the last layer should still have a sigmoid activation function.\n",
    "\n",
    "https://keras.io/api/layers/activations/"
   ]
  },
  {
   "cell_type": "markdown",
   "metadata": {
    "id": "FmJkq3zLiwDn"
   },
   "source": [
    "### 2 layers, 20 nodes, class weights, ReLU, no batch normalization\n"
   ]
  },
  {
   "cell_type": "code",
   "execution_count": 144,
   "metadata": {
    "colab": {
     "base_uri": "https://localhost:8080/"
    },
    "id": "1eCk6duXisCJ",
    "outputId": "3b295e07-b39b-4cbd-e8ba-f0417f8a5ab3"
   },
   "outputs": [
    {
     "name": "stdout",
     "output_type": "stream",
     "text": [
      "Epoch 1/20\n",
      "54/54 [==============================] - 1s 17ms/step - loss: 0.4723 - accuracy: 0.7165 - val_loss: 0.2670 - val_accuracy: 0.8869\n",
      "Epoch 2/20\n",
      "54/54 [==============================] - 1s 14ms/step - loss: 0.2059 - accuracy: 0.8879 - val_loss: 0.2481 - val_accuracy: 0.8952\n",
      "Epoch 3/20\n",
      "54/54 [==============================] - 1s 13ms/step - loss: 0.1938 - accuracy: 0.8952 - val_loss: 0.2406 - val_accuracy: 0.9030\n",
      "Epoch 4/20\n",
      "54/54 [==============================] - 1s 14ms/step - loss: 0.1876 - accuracy: 0.9028 - val_loss: 0.2348 - val_accuracy: 0.9067\n",
      "Epoch 5/20\n",
      "54/54 [==============================] - 1s 13ms/step - loss: 0.1835 - accuracy: 0.9057 - val_loss: 0.2324 - val_accuracy: 0.9088\n",
      "Epoch 6/20\n",
      "54/54 [==============================] - 1s 13ms/step - loss: 0.1802 - accuracy: 0.9082 - val_loss: 0.2259 - val_accuracy: 0.9103\n",
      "Epoch 7/20\n",
      "54/54 [==============================] - 1s 13ms/step - loss: 0.1783 - accuracy: 0.9087 - val_loss: 0.2270 - val_accuracy: 0.9109\n",
      "Epoch 8/20\n",
      "54/54 [==============================] - 1s 13ms/step - loss: 0.1757 - accuracy: 0.9098 - val_loss: 0.2193 - val_accuracy: 0.9131\n",
      "Epoch 9/20\n",
      "54/54 [==============================] - 1s 13ms/step - loss: 0.1740 - accuracy: 0.9112 - val_loss: 0.2212 - val_accuracy: 0.9138\n",
      "Epoch 10/20\n",
      "54/54 [==============================] - 1s 13ms/step - loss: 0.1720 - accuracy: 0.9123 - val_loss: 0.2180 - val_accuracy: 0.9145\n",
      "Epoch 11/20\n",
      "54/54 [==============================] - 1s 13ms/step - loss: 0.1701 - accuracy: 0.9131 - val_loss: 0.2202 - val_accuracy: 0.9145\n",
      "Epoch 12/20\n",
      "54/54 [==============================] - 1s 13ms/step - loss: 0.1689 - accuracy: 0.9134 - val_loss: 0.2162 - val_accuracy: 0.9152\n",
      "Epoch 13/20\n",
      "54/54 [==============================] - 1s 13ms/step - loss: 0.1670 - accuracy: 0.9145 - val_loss: 0.2167 - val_accuracy: 0.9154\n",
      "Epoch 14/20\n",
      "54/54 [==============================] - 1s 13ms/step - loss: 0.1669 - accuracy: 0.9145 - val_loss: 0.2186 - val_accuracy: 0.9155\n",
      "Epoch 15/20\n",
      "54/54 [==============================] - 1s 13ms/step - loss: 0.1662 - accuracy: 0.9149 - val_loss: 0.2139 - val_accuracy: 0.9160\n",
      "Epoch 16/20\n",
      "54/54 [==============================] - 1s 13ms/step - loss: 0.1654 - accuracy: 0.9154 - val_loss: 0.2152 - val_accuracy: 0.9161\n",
      "Epoch 17/20\n",
      "54/54 [==============================] - 1s 13ms/step - loss: 0.1655 - accuracy: 0.9151 - val_loss: 0.2142 - val_accuracy: 0.9163\n",
      "Epoch 18/20\n",
      "54/54 [==============================] - 1s 13ms/step - loss: 0.1651 - accuracy: 0.9152 - val_loss: 0.2138 - val_accuracy: 0.9164\n",
      "Epoch 19/20\n",
      "54/54 [==============================] - 1s 13ms/step - loss: 0.1647 - accuracy: 0.9153 - val_loss: 0.2131 - val_accuracy: 0.9166\n",
      "Epoch 20/20\n",
      "54/54 [==============================] - 1s 13ms/step - loss: 0.1639 - accuracy: 0.9158 - val_loss: 0.2134 - val_accuracy: 0.9168\n"
     ]
    }
   ],
   "source": [
    "# Setup some training parameters\n",
    "batch_size = 10000\n",
    "epochs = 20\n",
    "input_shape = (X.shape[1],)\n",
    "\n",
    "# Build and train model\n",
    "model7 = build_DNN(input_shape=input_shape, n_layers=2, n_nodes=20, learning_rate=0.1, act_fun='relu')\n",
    "history7 =model7.fit(Xtrain,Ytrain,epochs = epochs,validation_data = (Xval,Yval),batch_size=batch_size,class_weight = class_weights)"
   ]
  },
  {
   "cell_type": "code",
   "execution_count": 145,
   "metadata": {
    "colab": {
     "base_uri": "https://localhost:8080/"
    },
    "id": "2mkFHP_tjjrZ",
    "outputId": "39e10af1-a49d-40d6-c122-c13f178665a7"
   },
   "outputs": [
    {
     "name": "stdout",
     "output_type": "stream",
     "text": [
      "3582/3582 [==============================] - 4s 1ms/step - loss: 0.2115 - accuracy: 0.9148\n",
      "Test loss: 0.2115\n",
      "Test accuracy: 0.9148\n"
     ]
    }
   ],
   "source": [
    "# Evaluate model on test data\n",
    "score = model7.evaluate(Xtest, Ytest)\n",
    "\n",
    "print('Test loss: %.4f' % score[0])\n",
    "print('Test accuracy: %.4f' % score[1])"
   ]
  },
  {
   "cell_type": "code",
   "execution_count": 146,
   "metadata": {
    "colab": {
     "base_uri": "https://localhost:8080/",
     "height": 543
    },
    "id": "gRUkTEZrjoc8",
    "outputId": "38aa07e3-42be-4546-fb8d-5d5a589f5fa2"
   },
   "outputs": [
    {
     "data": {
      "image/png": "[encoded data removed]",
      "text/plain": [
       "<Figure size 720x288 with 1 Axes>"
      ]
     },
     "metadata": {
      "needs_background": "light",
      "tags": []
     },
     "output_type": "display_data"
    },
    {
     "data": {
      "image/png": "[encoded data removed]",
      "text/plain": [
       "<Figure size 720x288 with 1 Axes>"
      ]
     },
     "metadata": {
      "needs_background": "light",
      "tags": []
     },
     "output_type": "display_data"
    }
   ],
   "source": [
    "plot_results(history7)"
   ]
  },
  {
   "cell_type": "markdown",
   "metadata": {
    "id": "5DUpczYgjz_g"
   },
   "source": [
    "# Part 17: Optimizer\n",
    "\n",
    "Try changing the optimizer from SGD to Adam (with learning rate 0.1 as before). Remember to import the Adam optimizer from keras.optimizers. \n",
    "\n",
    "https://keras.io/optimizers/\n"
   ]
  },
  {
   "cell_type": "markdown",
   "metadata": {
    "id": "yi29cL88j433"
   },
   "source": [
    "### 2 layers, 20 nodes, class weights, Adam optimizer, no batch normalization, sigmoid activations"
   ]
  },
  {
   "cell_type": "code",
   "execution_count": 147,
   "metadata": {
    "colab": {
     "base_uri": "https://localhost:8080/"
    },
    "id": "G36Cekw9juSe",
    "outputId": "b21e7bb8-47ab-432f-c359-102567dc91a2"
   },
   "outputs": [
    {
     "name": "stdout",
     "output_type": "stream",
     "text": [
      "Epoch 1/20\n",
      "54/54 [==============================] - 2s 21ms/step - loss: 0.3175 - accuracy: 0.8289 - val_loss: 0.2151 - val_accuracy: 0.9151\n",
      "Epoch 2/20\n",
      "54/54 [==============================] - 1s 17ms/step - loss: 0.1693 - accuracy: 0.9147 - val_loss: 0.2105 - val_accuracy: 0.9177\n",
      "Epoch 3/20\n",
      "54/54 [==============================] - 1s 17ms/step - loss: 0.1650 - accuracy: 0.9165 - val_loss: 0.2075 - val_accuracy: 0.9187\n",
      "Epoch 4/20\n",
      "54/54 [==============================] - 1s 14ms/step - loss: 0.1614 - accuracy: 0.9179 - val_loss: 0.2025 - val_accuracy: 0.9189\n",
      "Epoch 5/20\n",
      "54/54 [==============================] - 1s 13ms/step - loss: 0.1594 - accuracy: 0.9178 - val_loss: 0.1881 - val_accuracy: 0.9201\n",
      "Epoch 6/20\n",
      "54/54 [==============================] - 1s 13ms/step - loss: 0.1555 - accuracy: 0.9193 - val_loss: 0.2011 - val_accuracy: 0.9194\n",
      "Epoch 7/20\n",
      "54/54 [==============================] - 1s 13ms/step - loss: 0.1546 - accuracy: 0.9193 - val_loss: 0.1766 - val_accuracy: 0.9242\n",
      "Epoch 8/20\n",
      "54/54 [==============================] - 1s 13ms/step - loss: 0.1560 - accuracy: 0.9195 - val_loss: 0.1817 - val_accuracy: 0.9224\n",
      "Epoch 9/20\n",
      "54/54 [==============================] - 1s 13ms/step - loss: 0.1493 - accuracy: 0.9214 - val_loss: 0.1760 - val_accuracy: 0.9228\n",
      "Epoch 10/20\n",
      "54/54 [==============================] - 1s 13ms/step - loss: 0.1473 - accuracy: 0.9229 - val_loss: 0.1718 - val_accuracy: 0.9275\n",
      "Epoch 11/20\n",
      "54/54 [==============================] - 1s 14ms/step - loss: 0.1451 - accuracy: 0.9253 - val_loss: 0.2003 - val_accuracy: 0.9216\n",
      "Epoch 12/20\n",
      "54/54 [==============================] - 1s 13ms/step - loss: 0.1491 - accuracy: 0.9234 - val_loss: 0.1917 - val_accuracy: 0.9209\n",
      "Epoch 13/20\n",
      "54/54 [==============================] - 1s 13ms/step - loss: 0.1530 - accuracy: 0.9206 - val_loss: 0.1804 - val_accuracy: 0.9232\n",
      "Epoch 14/20\n",
      "54/54 [==============================] - 1s 13ms/step - loss: 0.1469 - accuracy: 0.9219 - val_loss: 0.1912 - val_accuracy: 0.9256\n",
      "Epoch 15/20\n",
      "54/54 [==============================] - 1s 13ms/step - loss: 0.1439 - accuracy: 0.9252 - val_loss: 0.1959 - val_accuracy: 0.9267\n",
      "Epoch 16/20\n",
      "54/54 [==============================] - 1s 14ms/step - loss: 0.1460 - accuracy: 0.9259 - val_loss: 0.1980 - val_accuracy: 0.9219\n",
      "Epoch 17/20\n",
      "54/54 [==============================] - 1s 14ms/step - loss: 0.1532 - accuracy: 0.9212 - val_loss: 0.1858 - val_accuracy: 0.9227\n",
      "Epoch 18/20\n",
      "54/54 [==============================] - 1s 13ms/step - loss: 0.1487 - accuracy: 0.9213 - val_loss: 0.1790 - val_accuracy: 0.9227\n",
      "Epoch 19/20\n",
      "54/54 [==============================] - 1s 13ms/step - loss: 0.1460 - accuracy: 0.9223 - val_loss: 0.1852 - val_accuracy: 0.9264\n",
      "Epoch 20/20\n",
      "54/54 [==============================] - 1s 13ms/step - loss: 0.1434 - accuracy: 0.9249 - val_loss: 0.1683 - val_accuracy: 0.9284\n"
     ]
    }
   ],
   "source": [
    "# Setup some training parameters\n",
    "batch_size = 10000\n",
    "epochs = 20\n",
    "input_shape = (X.shape[1],)\n",
    "\n",
    "# Build and train model\n",
    "model8 = build_DNN(input_shape=input_shape, n_layers=2, n_nodes=20, learning_rate=0.1, act_fun='sigmoid', optimizer='adam')\n",
    "\n",
    "history8 =model8.fit(Xtrain,Ytrain,epochs = epochs,validation_data = (Xval,Yval),batch_size=batch_size,class_weight = class_weights)\n",
    "\n"
   ]
  },
  {
   "cell_type": "code",
   "execution_count": 148,
   "metadata": {
    "colab": {
     "base_uri": "https://localhost:8080/"
    },
    "id": "LhvBBj75l3pf",
    "outputId": "a0995891-7a4b-4826-e93a-14dbea2a6d85"
   },
   "outputs": [
    {
     "name": "stdout",
     "output_type": "stream",
     "text": [
      "3582/3582 [==============================] - 4s 1ms/step - loss: 0.1719 - accuracy: 0.9263\n",
      "Test loss: 0.1719\n",
      "Test accuracy: 0.9263\n"
     ]
    }
   ],
   "source": [
    "# Evaluate model on test data\n",
    "score = model8.evaluate(Xtest, Ytest)\n",
    "\n",
    "\n",
    "print('Test loss: %.4f' % score[0])\n",
    "print('Test accuracy: %.4f' % score[1])"
   ]
  },
  {
   "cell_type": "code",
   "execution_count": 149,
   "metadata": {
    "colab": {
     "base_uri": "https://localhost:8080/",
     "height": 543
    },
    "id": "Bi-hpAnFmRWz",
    "outputId": "9cde336a-8833-4824-922d-00db4005c830"
   },
   "outputs": [
    {
     "data": {
      "image/png": "[encoded data removed]",
      "text/plain": [
       "<Figure size 720x288 with 1 Axes>"
      ]
     },
     "metadata": {
      "needs_background": "light",
      "tags": []
     },
     "output_type": "display_data"
    },
    {
     "data": {
      "image/png": "[encoded data removed]",
      "text/plain": [
       "<Figure size 720x288 with 1 Axes>"
      ]
     },
     "metadata": {
      "needs_background": "light",
      "tags": []
     },
     "output_type": "display_data"
    }
   ],
   "source": [
    "plot_results(history8)"
   ]
  },
  {
   "cell_type": "markdown",
   "metadata": {
    "id": "Q8KRSXPZmcPu"
   },
   "source": [
    "# Part 18: Dropout regularization\n",
    "\n",
    "Dropout is a type of regularization that can improve accuracy for validation and test data. \n",
    "\n",
    "Add a Dropout layer after each Dense layer (but not after the final dense layer) in `build_DNN`, with a dropout probability of 50%. Remember to first import the Dropout layer from keras.layers\n",
    "\n",
    "See https://keras.io/api/layers/regularization_layers/dropout/ for how the Dropout layer works.\n",
    "\n",
    "---\n",
    "\n",
    "Question 18: How does the validation accuracy change when adding dropout?\n",
    "#### Answer 18: When we use dropout, the validation accuracy is lower than the situation in which we do not use dropout.\n",
    "\n",
    "Question 19: How does the test accuracy change when adding dropout?\n",
    "#### Answer19: When we use dropout, the test accuracy is lower than the situation in which we do not use dropout."
   ]
  },
  {
   "cell_type": "markdown",
   "metadata": {
    "id": "itUCmO_umgoe"
   },
   "source": [
    "### 2 layers, 20 nodes, class weights, dropout, SGD optimizer, no batch normalization, sigmoid activations"
   ]
  },
  {
   "cell_type": "code",
   "execution_count": 150,
   "metadata": {
    "colab": {
     "base_uri": "https://localhost:8080/"
    },
    "id": "91zIfcSbmSAV",
    "outputId": "aa870e7b-ed52-478f-ac24-8074c409917a"
   },
   "outputs": [
    {
     "name": "stdout",
     "output_type": "stream",
     "text": [
      "Epoch 1/20\n",
      "54/54 [==============================] - 1s 16ms/step - loss: 0.6933 - accuracy: 0.7573 - val_loss: 0.6440 - val_accuracy: 0.8957\n",
      "Epoch 2/20\n",
      "54/54 [==============================] - 1s 13ms/step - loss: 0.6219 - accuracy: 0.8945 - val_loss: 0.5262 - val_accuracy: 0.8933\n",
      "Epoch 3/20\n",
      "54/54 [==============================] - 1s 13ms/step - loss: 0.4829 - accuracy: 0.8891 - val_loss: 0.3768 - val_accuracy: 0.8892\n",
      "Epoch 4/20\n",
      "54/54 [==============================] - 1s 12ms/step - loss: 0.3330 - accuracy: 0.8870 - val_loss: 0.3008 - val_accuracy: 0.8886\n",
      "Epoch 5/20\n",
      "54/54 [==============================] - 1s 12ms/step - loss: 0.2608 - accuracy: 0.8868 - val_loss: 0.2764 - val_accuracy: 0.8896\n",
      "Epoch 6/20\n",
      "54/54 [==============================] - 1s 13ms/step - loss: 0.2337 - accuracy: 0.8889 - val_loss: 0.2649 - val_accuracy: 0.8912\n",
      "Epoch 7/20\n",
      "54/54 [==============================] - 1s 12ms/step - loss: 0.2221 - accuracy: 0.8894 - val_loss: 0.2588 - val_accuracy: 0.8924\n",
      "Epoch 8/20\n",
      "54/54 [==============================] - 1s 13ms/step - loss: 0.2145 - accuracy: 0.8909 - val_loss: 0.2543 - val_accuracy: 0.8933\n",
      "Epoch 9/20\n",
      "54/54 [==============================] - 1s 12ms/step - loss: 0.2093 - accuracy: 0.8924 - val_loss: 0.2503 - val_accuracy: 0.8943\n",
      "Epoch 10/20\n",
      "54/54 [==============================] - 1s 13ms/step - loss: 0.2062 - accuracy: 0.8931 - val_loss: 0.2479 - val_accuracy: 0.8954\n",
      "Epoch 11/20\n",
      "54/54 [==============================] - 1s 12ms/step - loss: 0.2041 - accuracy: 0.8936 - val_loss: 0.2457 - val_accuracy: 0.8972\n",
      "Epoch 12/20\n",
      "54/54 [==============================] - 1s 13ms/step - loss: 0.2002 - accuracy: 0.8959 - val_loss: 0.2442 - val_accuracy: 0.8982\n",
      "Epoch 13/20\n",
      "54/54 [==============================] - 1s 12ms/step - loss: 0.1987 - accuracy: 0.8963 - val_loss: 0.2420 - val_accuracy: 0.8985\n",
      "Epoch 14/20\n",
      "54/54 [==============================] - 1s 12ms/step - loss: 0.1974 - accuracy: 0.8967 - val_loss: 0.2392 - val_accuracy: 0.8989\n",
      "Epoch 15/20\n",
      "54/54 [==============================] - 1s 13ms/step - loss: 0.1948 - accuracy: 0.8974 - val_loss: 0.2380 - val_accuracy: 0.8991\n",
      "Epoch 16/20\n",
      "54/54 [==============================] - 1s 13ms/step - loss: 0.1934 - accuracy: 0.8977 - val_loss: 0.2357 - val_accuracy: 0.8994\n",
      "Epoch 17/20\n",
      "54/54 [==============================] - 1s 12ms/step - loss: 0.1919 - accuracy: 0.8982 - val_loss: 0.2349 - val_accuracy: 0.8997\n",
      "Epoch 18/20\n",
      "54/54 [==============================] - 1s 13ms/step - loss: 0.1917 - accuracy: 0.8975 - val_loss: 0.2339 - val_accuracy: 0.9003\n",
      "Epoch 19/20\n",
      "54/54 [==============================] - 1s 12ms/step - loss: 0.1895 - accuracy: 0.8988 - val_loss: 0.2328 - val_accuracy: 0.9010\n",
      "Epoch 20/20\n",
      "54/54 [==============================] - 1s 12ms/step - loss: 0.1883 - accuracy: 0.8997 - val_loss: 0.2313 - val_accuracy: 0.9020\n"
     ]
    }
   ],
   "source": [
    "# Setup some training parameters\n",
    "batch_size = 10000\n",
    "epochs = 20\n",
    "input_shape = (X.shape[1],)\n",
    "\n",
    "# Build and train model\n",
    "model9 = build_DNN(input_shape=input_shape, n_layers=2, n_nodes=20, learning_rate=0.1, act_fun='sigmoid', optimizer='sgd')\n",
    "\n",
    "history9 =model9.fit(Xtrain,Ytrain,epochs = epochs,validation_data = (Xval,Yval),batch_size=batch_size,class_weight = class_weights)"
   ]
  },
  {
   "cell_type": "code",
   "execution_count": 151,
   "metadata": {
    "colab": {
     "base_uri": "https://localhost:8080/"
    },
    "id": "PjM6f42FnuZ_",
    "outputId": "7dd3c51b-059e-4e7f-9cfe-e7f9a695d95c"
   },
   "outputs": [
    {
     "name": "stdout",
     "output_type": "stream",
     "text": [
      "3582/3582 [==============================] - 4s 1ms/step - loss: 0.2368 - accuracy: 0.8992\n",
      "Test loss: 0.2368\n",
      "Test accuracy: 0.8992\n"
     ]
    }
   ],
   "source": [
    "# Evaluate model on test data\n",
    "score = model9.evaluate(Xtest, Ytest)\n",
    "\n",
    "print('Test loss: %.4f' % score[0])\n",
    "print('Test accuracy: %.4f' % score[1])"
   ]
  },
  {
   "cell_type": "code",
   "execution_count": 152,
   "metadata": {
    "colab": {
     "base_uri": "https://localhost:8080/",
     "height": 544
    },
    "id": "OnIV5zKPoBVj",
    "outputId": "c06e6b46-e0cc-4b6a-b699-7d021cf31baf"
   },
   "outputs": [
    {
     "data": {
      "image/png": "[encoded data removed]",
      "text/plain": [
       "<Figure size 720x288 with 1 Axes>"
      ]
     },
     "metadata": {
      "needs_background": "light",
      "tags": []
     },
     "output_type": "display_data"
    },
    {
     "data": {
      "image/png": "[encoded data removed]",
      "text/plain": [
       "<Figure size 720x288 with 1 Axes>"
      ]
     },
     "metadata": {
      "needs_background": "light",
      "tags": []
     },
     "output_type": "display_data"
    }
   ],
   "source": [
    "plot_results(history9)"
   ]
  },
  {
   "cell_type": "markdown",
   "metadata": {
    "id": "OAjBWodvoINo"
   },
   "source": [
    "# Part 19: Improving performance\n",
    "\n",
    "Spend some time (30 - 90 minutes) playing with the network architecture (number of layers, number of nodes per layer, activation function) and other hyper parameters (optimizer, learning rate, batch size, number of epochs, degree of regularization). For example, try a much deeper network. How much does the training time increase for a network with 10 layers?\n",
    "\n",
    "Question 20: How high classification accuracy can you achieve for the test data? What is your best configuration?\n",
    "\n",
    "#### Answer 20:  \n",
    "Here we select batch_size =1000, epochs=30, n_layers=5, n_nodes=50, learning_rate=0.01, optimizer='adam', act_fun=sigmoid, no batch normalization, no dropout, test accuracy=0.9359"
   ]
  },
  {
   "cell_type": "code",
   "execution_count": 95,
   "metadata": {
    "colab": {
     "base_uri": "https://localhost:8080/"
    },
    "id": "f9oHh7MJoMBq",
    "outputId": "5b339719-c003-4df5-ee2f-71672061c950"
   },
   "outputs": [
    {
     "name": "stdout",
     "output_type": "stream",
     "text": [
      "Epoch 1/30\n",
      "535/535 [==============================] - 4s 7ms/step - loss: 0.2545 - accuracy: 0.8605 - val_loss: 0.2146 - val_accuracy: 0.9187\n",
      "Epoch 2/30\n",
      "535/535 [==============================] - 4s 7ms/step - loss: 0.1595 - accuracy: 0.9175 - val_loss: 0.1957 - val_accuracy: 0.9192\n",
      "Epoch 3/30\n",
      "535/535 [==============================] - 4s 7ms/step - loss: 0.1463 - accuracy: 0.9236 - val_loss: 0.1492 - val_accuracy: 0.9348\n",
      "Epoch 4/30\n",
      "535/535 [==============================] - 4s 7ms/step - loss: 0.1348 - accuracy: 0.9304 - val_loss: 0.1623 - val_accuracy: 0.9330\n",
      "Epoch 5/30\n",
      "535/535 [==============================] - 4s 7ms/step - loss: 0.1337 - accuracy: 0.9303 - val_loss: 0.1557 - val_accuracy: 0.9340\n",
      "Epoch 6/30\n",
      "535/535 [==============================] - 4s 7ms/step - loss: 0.1298 - accuracy: 0.9318 - val_loss: 0.1663 - val_accuracy: 0.9352\n",
      "Epoch 7/30\n",
      "535/535 [==============================] - 4s 7ms/step - loss: 0.1272 - accuracy: 0.9334 - val_loss: 0.1616 - val_accuracy: 0.9358\n",
      "Epoch 8/30\n",
      "535/535 [==============================] - 4s 7ms/step - loss: 0.1256 - accuracy: 0.9346 - val_loss: 0.1481 - val_accuracy: 0.9352\n",
      "Epoch 9/30\n",
      "535/535 [==============================] - 4s 7ms/step - loss: 0.1255 - accuracy: 0.9338 - val_loss: 0.1547 - val_accuracy: 0.9365\n",
      "Epoch 10/30\n",
      "535/535 [==============================] - 4s 7ms/step - loss: 0.1238 - accuracy: 0.9350 - val_loss: 0.1587 - val_accuracy: 0.9342\n",
      "Epoch 11/30\n",
      "535/535 [==============================] - 4s 7ms/step - loss: 0.1272 - accuracy: 0.9337 - val_loss: 0.1420 - val_accuracy: 0.9375\n",
      "Epoch 12/30\n",
      "535/535 [==============================] - 4s 7ms/step - loss: 0.1237 - accuracy: 0.9351 - val_loss: 0.1504 - val_accuracy: 0.9372\n",
      "Epoch 13/30\n",
      "535/535 [==============================] - 4s 7ms/step - loss: 0.1230 - accuracy: 0.9353 - val_loss: 0.1583 - val_accuracy: 0.9360\n",
      "Epoch 14/30\n",
      "535/535 [==============================] - 4s 7ms/step - loss: 0.1233 - accuracy: 0.9347 - val_loss: 0.1580 - val_accuracy: 0.9338\n",
      "Epoch 15/30\n",
      "535/535 [==============================] - 4s 7ms/step - loss: 0.1255 - accuracy: 0.9340 - val_loss: 0.1523 - val_accuracy: 0.9363\n",
      "Epoch 16/30\n",
      "535/535 [==============================] - 4s 7ms/step - loss: 0.1224 - accuracy: 0.9351 - val_loss: 0.1499 - val_accuracy: 0.9385\n",
      "Epoch 17/30\n",
      "535/535 [==============================] - 4s 7ms/step - loss: 0.1224 - accuracy: 0.9353 - val_loss: 0.1746 - val_accuracy: 0.9343\n",
      "Epoch 18/30\n",
      "535/535 [==============================] - 4s 7ms/step - loss: 0.1221 - accuracy: 0.9352 - val_loss: 0.1471 - val_accuracy: 0.9381\n",
      "Epoch 19/30\n",
      "535/535 [==============================] - 4s 7ms/step - loss: 0.1222 - accuracy: 0.9356 - val_loss: 0.1535 - val_accuracy: 0.9370\n",
      "Epoch 20/30\n",
      "535/535 [==============================] - 4s 7ms/step - loss: 0.1212 - accuracy: 0.9359 - val_loss: 0.1510 - val_accuracy: 0.9357\n",
      "Epoch 21/30\n",
      "535/535 [==============================] - 4s 7ms/step - loss: 0.1210 - accuracy: 0.9359 - val_loss: 0.1539 - val_accuracy: 0.9361\n",
      "Epoch 22/30\n",
      "535/535 [==============================] - 4s 7ms/step - loss: 0.1221 - accuracy: 0.9352 - val_loss: 0.1495 - val_accuracy: 0.9390\n",
      "Epoch 23/30\n",
      "535/535 [==============================] - 4s 7ms/step - loss: 0.1204 - accuracy: 0.9366 - val_loss: 0.1596 - val_accuracy: 0.9349\n",
      "Epoch 24/30\n",
      "535/535 [==============================] - 4s 7ms/step - loss: 0.1209 - accuracy: 0.9358 - val_loss: 0.1494 - val_accuracy: 0.9371\n",
      "Epoch 25/30\n",
      "535/535 [==============================] - 4s 7ms/step - loss: 0.1210 - accuracy: 0.9355 - val_loss: 0.1483 - val_accuracy: 0.9383\n",
      "Epoch 26/30\n",
      "535/535 [==============================] - 4s 7ms/step - loss: 0.1199 - accuracy: 0.9361 - val_loss: 0.1417 - val_accuracy: 0.9371\n",
      "Epoch 27/30\n",
      "535/535 [==============================] - 4s 7ms/step - loss: 0.1204 - accuracy: 0.9363 - val_loss: 0.1879 - val_accuracy: 0.9267\n",
      "Epoch 28/30\n",
      "535/535 [==============================] - 4s 7ms/step - loss: 0.1240 - accuracy: 0.9344 - val_loss: 0.1533 - val_accuracy: 0.9377\n",
      "Epoch 29/30\n",
      "535/535 [==============================] - 4s 7ms/step - loss: 0.1199 - accuracy: 0.9360 - val_loss: 0.1490 - val_accuracy: 0.9374\n",
      "Epoch 30/30\n",
      "535/535 [==============================] - 4s 7ms/step - loss: 0.1203 - accuracy: 0.9357 - val_loss: 0.1509 - val_accuracy: 0.9384\n"
     ]
    }
   ],
   "source": [
    "batch_size = 1000\n",
    "epochs = 30\n",
    "input_shape = (X.shape[1],)\n",
    "\n",
    "# Build and train model\n",
    "model10 = build_DNN(input_shape=input_shape, n_layers=5, n_nodes=50, learning_rate=0.01,  optimizer='adam',act_fun='sigmoid')\n",
    "\n",
    "history10 =model10.fit(Xtrain,Ytrain,epochs = epochs,validation_data = (Xval,Yval),batch_size=batch_size,class_weight = class_weights)"
   ]
  },
  {
   "cell_type": "code",
   "execution_count": 96,
   "metadata": {
    "colab": {
     "base_uri": "https://localhost:8080/"
    },
    "id": "tarF7Dz0pS8k",
    "outputId": "ce9e95f3-a0c3-478a-8ad7-8f51b979f9c9"
   },
   "outputs": [
    {
     "name": "stdout",
     "output_type": "stream",
     "text": [
      "3582/3582 [==============================] - 4s 1ms/step - loss: 0.1561 - accuracy: 0.9359\n",
      "Test loss: 0.1561\n",
      "Test accuracy: 0.9359\n"
     ]
    }
   ],
   "source": [
    "# Evaluate model on test data\n",
    "score = model10.evaluate(Xtest, Ytest)\n",
    "\n",
    "print('Test loss: %.4f' % score[0])\n",
    "print('Test accuracy: %.4f' % score[1])"
   ]
  },
  {
   "cell_type": "markdown",
   "metadata": {
    "id": "ZjvUlN6m7iPD"
   },
   "source": [
    "# Part 20: Dropout uncertainty\n",
    "\n",
    "Dropout can also be used during testing, to obtain an estimate of the model uncertainty. Since dropout will randomly remove connections, the network will produce different results every time the same (test) data is put into the network. This technique is called Monte Carlo dropout. For more information, see this paper http://proceedings.mlr.press/v48/gal16.pdf\n",
    "\n",
    "To achieve this, we need to redefine the Keras Dropout call by running the cell below, and use 'myDropout' in each call to Dropout, in the cell that defines the DNN. The `build_DNN` function takes two boolean arguments, use_dropout and use_custom_dropout, add a standard Dropout layer if use_dropout is true, add a myDropout layer if use_custom_dropout is true.\n",
    "\n",
    "Run the same test data through the trained network 100 times, with dropout turned on. \n",
    "\n",
    "Question 21: What is the mean and the standard deviation of the test accuracy?\n",
    "#### Answer 21:\n",
    "mean of 100 accuracies: 0.9176282674074173\n",
    "\n",
    "STD of 100 accuracies : 0.00011789679779053108"
   ]
  },
  {
   "cell_type": "code",
   "execution_count": 98,
   "metadata": {
    "id": "_3UksnbM7mvR"
   },
   "outputs": [],
   "source": [
    "import keras.backend as K\n",
    "import keras\n",
    "\n",
    "class myDropout(keras.layers.Dropout):\n",
    "    \"\"\"Applies Dropout to the input.\n",
    "    Dropout consists in randomly setting\n",
    "    a fraction `rate` of input units to 0 at each update during training time,\n",
    "    which helps prevent overfitting.\n",
    "    # Arguments\n",
    "        rate: float between 0 and 1. Fraction of the input units to drop.\n",
    "        noise_shape: 1D integer tensor representing the shape of the\n",
    "            binary dropout mask that will be multiplied with the input.\n",
    "            For instance, if your inputs have shape\n",
    "            `(batch_size, timesteps, features)` and\n",
    "            you want the dropout mask to be the same for all timesteps,\n",
    "            you can use `noise_shape=(batch_size, 1, features)`.\n",
    "        seed: A Python integer to use as random seed.\n",
    "    # References\n",
    "        - [Dropout: A Simple Way to Prevent Neural Networks from Overfitting](\n",
    "           http://www.jmlr.org/papers/volume15/srivastava14a/srivastava14a.pdf)\n",
    "    \"\"\"\n",
    "    def __init__(self, rate, training=True, noise_shape=None, seed=None, **kwargs):\n",
    "        super(myDropout, self).__init__(rate, noise_shape=None, seed=None,**kwargs)\n",
    "        self.training = training\n",
    "\n",
    "        \n",
    "    def call(self, inputs, training=None):\n",
    "        if 0. < self.rate < 1.:\n",
    "            noise_shape = self._get_noise_shape(inputs)\n",
    "\n",
    "            def dropped_inputs():\n",
    "                return K.dropout(inputs, self.rate, noise_shape,\n",
    "                                 seed=self.seed)\n",
    "            if not training: \n",
    "                return K.in_train_phase(dropped_inputs, inputs, training=self.training)\n",
    "            return K.in_train_phase(dropped_inputs, inputs, training=training)\n",
    "        return inputs"
   ]
  },
  {
   "cell_type": "markdown",
   "metadata": {
    "id": "J8gonOmO8QdE"
   },
   "source": [
    "### Your best config, custom dropout"
   ]
  },
  {
   "cell_type": "code",
   "execution_count": 102,
   "metadata": {
    "colab": {
     "base_uri": "https://localhost:8080/"
    },
    "id": "BnrB-OIe8RIL",
    "outputId": "ef75c86c-9bf7-4e17-c462-b910341588f5"
   },
   "outputs": [
    {
     "name": "stdout",
     "output_type": "stream",
     "text": [
      "Epoch 1/30\n",
      "535/535 [==============================] - 7s 11ms/step - loss: 0.2867 - accuracy: 0.8499 - val_loss: 0.2206 - val_accuracy: 0.9117\n",
      "Epoch 2/30\n",
      "535/535 [==============================] - 6s 11ms/step - loss: 0.1763 - accuracy: 0.9127 - val_loss: 0.2161 - val_accuracy: 0.9168\n",
      "Epoch 3/30\n",
      "535/535 [==============================] - 6s 11ms/step - loss: 0.1715 - accuracy: 0.9145 - val_loss: 0.2193 - val_accuracy: 0.9166\n",
      "Epoch 4/30\n",
      "535/535 [==============================] - 6s 11ms/step - loss: 0.1715 - accuracy: 0.9144 - val_loss: 0.2131 - val_accuracy: 0.9166\n",
      "Epoch 5/30\n",
      "535/535 [==============================] - 6s 11ms/step - loss: 0.1712 - accuracy: 0.9143 - val_loss: 0.2180 - val_accuracy: 0.9167\n",
      "Epoch 6/30\n",
      "535/535 [==============================] - 6s 11ms/step - loss: 0.1719 - accuracy: 0.9146 - val_loss: 0.2160 - val_accuracy: 0.9172\n",
      "Epoch 7/30\n",
      "535/535 [==============================] - 6s 11ms/step - loss: 0.1709 - accuracy: 0.9149 - val_loss: 0.2150 - val_accuracy: 0.9171\n",
      "Epoch 8/30\n",
      "535/535 [==============================] - 6s 11ms/step - loss: 0.1720 - accuracy: 0.9147 - val_loss: 0.2107 - val_accuracy: 0.9172\n",
      "Epoch 9/30\n",
      "535/535 [==============================] - 6s 11ms/step - loss: 0.1699 - accuracy: 0.9152 - val_loss: 0.2133 - val_accuracy: 0.9169\n",
      "Epoch 10/30\n",
      "535/535 [==============================] - 6s 11ms/step - loss: 0.1673 - accuracy: 0.9169 - val_loss: 0.2143 - val_accuracy: 0.9175\n",
      "Epoch 11/30\n",
      "535/535 [==============================] - 6s 11ms/step - loss: 0.1701 - accuracy: 0.9153 - val_loss: 0.2102 - val_accuracy: 0.9181\n",
      "Epoch 12/30\n",
      "535/535 [==============================] - 6s 11ms/step - loss: 0.1698 - accuracy: 0.9155 - val_loss: 0.2104 - val_accuracy: 0.9178\n",
      "Epoch 13/30\n",
      "535/535 [==============================] - 6s 11ms/step - loss: 0.1686 - accuracy: 0.9160 - val_loss: 0.2090 - val_accuracy: 0.9188\n",
      "Epoch 14/30\n",
      "535/535 [==============================] - 6s 11ms/step - loss: 0.1685 - accuracy: 0.9165 - val_loss: 0.2082 - val_accuracy: 0.9187\n",
      "Epoch 15/30\n",
      "535/535 [==============================] - 6s 11ms/step - loss: 0.1684 - accuracy: 0.9162 - val_loss: 0.2139 - val_accuracy: 0.9175\n",
      "Epoch 16/30\n",
      "535/535 [==============================] - 6s 11ms/step - loss: 0.1676 - accuracy: 0.9169 - val_loss: 0.2110 - val_accuracy: 0.9185\n",
      "Epoch 17/30\n",
      "535/535 [==============================] - 6s 11ms/step - loss: 0.1676 - accuracy: 0.9165 - val_loss: 0.2114 - val_accuracy: 0.9181\n",
      "Epoch 18/30\n",
      "535/535 [==============================] - 6s 11ms/step - loss: 0.1672 - accuracy: 0.9168 - val_loss: 0.2063 - val_accuracy: 0.9196\n",
      "Epoch 19/30\n",
      "535/535 [==============================] - 6s 11ms/step - loss: 0.1683 - accuracy: 0.9164 - val_loss: 0.2079 - val_accuracy: 0.9184\n",
      "Epoch 20/30\n",
      "535/535 [==============================] - 6s 11ms/step - loss: 0.1676 - accuracy: 0.9165 - val_loss: 0.2121 - val_accuracy: 0.9178\n",
      "Epoch 21/30\n",
      "535/535 [==============================] - 6s 11ms/step - loss: 0.1677 - accuracy: 0.9168 - val_loss: 0.2117 - val_accuracy: 0.9189\n",
      "Epoch 22/30\n",
      "535/535 [==============================] - 6s 11ms/step - loss: 0.1664 - accuracy: 0.9177 - val_loss: 0.2058 - val_accuracy: 0.9194\n",
      "Epoch 23/30\n",
      "535/535 [==============================] - 6s 11ms/step - loss: 0.1672 - accuracy: 0.9170 - val_loss: 0.2094 - val_accuracy: 0.9191\n",
      "Epoch 24/30\n",
      "535/535 [==============================] - 6s 11ms/step - loss: 0.1671 - accuracy: 0.9169 - val_loss: 0.2117 - val_accuracy: 0.9194\n",
      "Epoch 25/30\n",
      "535/535 [==============================] - 6s 11ms/step - loss: 0.1665 - accuracy: 0.9178 - val_loss: 0.2106 - val_accuracy: 0.9196\n",
      "Epoch 26/30\n",
      "535/535 [==============================] - 6s 11ms/step - loss: 0.1673 - accuracy: 0.9174 - val_loss: 0.2140 - val_accuracy: 0.9184\n",
      "Epoch 27/30\n",
      "535/535 [==============================] - 6s 11ms/step - loss: 0.1662 - accuracy: 0.9178 - val_loss: 0.2078 - val_accuracy: 0.9198\n",
      "Epoch 28/30\n",
      "535/535 [==============================] - 6s 11ms/step - loss: 0.1659 - accuracy: 0.9183 - val_loss: 0.2081 - val_accuracy: 0.9196\n",
      "Epoch 29/30\n",
      "535/535 [==============================] - 6s 11ms/step - loss: 0.1674 - accuracy: 0.9175 - val_loss: 0.2111 - val_accuracy: 0.9187\n",
      "Epoch 30/30\n",
      "535/535 [==============================] - 6s 11ms/step - loss: 0.1663 - accuracy: 0.9174 - val_loss: 0.2128 - val_accuracy: 0.9198\n"
     ]
    }
   ],
   "source": [
    "# Your best training parameters\n",
    "\n",
    "batch_size = 1000\n",
    "epochs = 30\n",
    "input_shape = (X.shape[1],)\n",
    "\n",
    "\n",
    "# Build and train model\n",
    "model11 = build_DNN(input_shape=input_shape, n_layers=5, n_nodes=50, learning_rate=0.01,  optimizer='adam',act_fun='sigmoid',use_custom_dropout=True)\n",
    "\n",
    "history11 =model11.fit(Xtrain,Ytrain,epochs = epochs,validation_data = (Xval,Yval),batch_size=batch_size,class_weight = class_weights)"
   ]
  },
  {
   "cell_type": "code",
   "execution_count": 111,
   "metadata": {
    "colab": {
     "base_uri": "https://localhost:8080/"
    },
    "id": "CpwEmtUM_Xdd",
    "outputId": "7ce7425f-e65e-4e62-83d9-f8d397cefacb"
   },
   "outputs": [
    {
     "name": "stdout",
     "output_type": "stream",
     "text": [
      "3582/3582 [==============================] - 4s 1ms/step - loss: 0.2179 - accuracy: 0.9178\n",
      "Test accuracy: 0.9178\n"
     ]
    }
   ],
   "source": [
    "# Run this cell a few times to evalute the model on test data, \n",
    "# if you get slightly different test accuracy every time, Dropout during testing is working\n",
    "\n",
    "# Evaluate model on test data\n",
    "score = model11.evaluate(Xtest, Ytest)\n",
    "                       \n",
    "print('Test accuracy: %.4f' % score[1])"
   ]
  },
  {
   "cell_type": "code",
   "execution_count": 114,
   "metadata": {
    "id": "VHT9-Dj4_3Bi"
   },
   "outputs": [],
   "source": [
    "# Run the testing 100 times, and save the accuracies in an array\n",
    "accuracy=[]\n",
    "for i in range(100):\n",
    "    score = model11.evaluate(Xtest,Ytest,verbose = 0)\n",
    "    accuracy.append(score[1])\n",
    "    \n"
   ]
  },
  {
   "cell_type": "code",
   "execution_count": 115,
   "metadata": {
    "colab": {
     "base_uri": "https://localhost:8080/"
    },
    "id": "svK5MLLfBCtB",
    "outputId": "66b807bf-4955-4da3-cfa8-3aa0b19ed7a5"
   },
   "outputs": [
    {
     "name": "stdout",
     "output_type": "stream",
     "text": [
      "mean of 100 accuracies: 0.9176282674074173\n",
      "STD of 100 accuracies : 0.00011789679779053108\n"
     ]
    }
   ],
   "source": [
    "# Calculate and print mean and std of accuracies\n",
    "\n",
    "print(\"mean of 100 accuracies: {}\".format (np.mean(accuracy)))\n",
    "print(\"STD of 100 accuracies : {}\".format (np.std(accuracy)))"
   ]
  },
  {
   "cell_type": "markdown",
   "metadata": {
    "id": "f81K80P_CwTx"
   },
   "source": [
    "# Part 21: Cross validation uncertainty\n",
    "\n",
    "Cross validation (CV) is often used to evaluate a model, by training and testing using different subsets of the data it is possible to get the uncertainty as the standard deviation over folds. We here use a help function from scikit-learn to setup the CV, see https://scikit-learn.org/stable/modules/generated/sklearn.model_selection.StratifiedKFold.html . Use 10 folds with shuffling, random state 1234. \n",
    "\n",
    "Note: We here assume that you have found the best hyper parameters, so here the data are only split into training and testing, no validation.\n",
    "\n",
    "---\n",
    "\n",
    "Question 22: What is the mean and the standard deviation of the test accuracy?\n",
    "#### Answer 22:\n",
    "mean of 100 accuracies: 0.9190276026725769\n",
    "\n",
    "STD of 100 accuracies : 0.0012772975368843832\n",
    "\n",
    "\n",
    "Question 23: What is the main advantage of dropout compared to CV for estimating test uncertainty? The difference may not be so large in this notebook, but imagine that you have a network that takes 24 hours to train.\n",
    "\n",
    "#### Answer 23:\n",
    "In cross validation, at first we split the dataset in kfolds, train the model and evaluate by using the fold left. If have large data set it consumes time and complexity.In dropout method, we randomly delete some node and it is used just in traing , not evaluation."
   ]
  },
  {
   "cell_type": "code",
   "execution_count": 120,
   "metadata": {
    "colab": {
     "base_uri": "https://localhost:8080/"
    },
    "id": "KV3jrj-WCxy6",
    "outputId": "33f6f973-12ff-4c1a-c9d6-7db73e0f3509"
   },
   "outputs": [
    {
     "name": "stdout",
     "output_type": "stream",
     "text": [
      "2388/2388 [==============================] - 3s 1ms/step - loss: 0.2117 - accuracy: 0.9190\n",
      "2388/2388 [==============================] - 3s 1ms/step - loss: 0.2055 - accuracy: 0.9216\n",
      "2388/2388 [==============================] - 3s 1ms/step - loss: 0.2102 - accuracy: 0.9206\n",
      "2388/2388 [==============================] - 3s 1ms/step - loss: 0.2098 - accuracy: 0.9196\n",
      "2388/2388 [==============================] - 3s 1ms/step - loss: 0.2085 - accuracy: 0.9192\n",
      "2388/2388 [==============================] - 3s 1ms/step - loss: 0.2130 - accuracy: 0.9185\n",
      "2388/2388 [==============================] - 3s 1ms/step - loss: 0.2100 - accuracy: 0.9180\n",
      "2388/2388 [==============================] - 3s 1ms/step - loss: 0.2160 - accuracy: 0.9171\n",
      "2388/2388 [==============================] - 3s 1ms/step - loss: 0.2125 - accuracy: 0.9188\n",
      "2388/2388 [==============================] - 3s 1ms/step - loss: 0.2139 - accuracy: 0.9177\n"
     ]
    }
   ],
   "source": [
    "from sklearn.model_selection import StratifiedKFold\n",
    "batch_size = 1000\n",
    "epochs = 30\n",
    "input_shape = (X.shape[1],)\n",
    "accuracy_cv=[]\n",
    "# Define 10-fold cross validation\n",
    "cv_fold = StratifiedKFold(n_splits=10, shuffle=True, random_state=123)\n",
    "# Loop over cross validation folds\n",
    "for train, test in cv_fold.split(X, Y):\n",
    "    Xtrain_fold, Xtest_fold = X[train], X[test]\n",
    "    Ytrain_fold, Ytest_fold = Y[train], Y[test]\n",
    "    \n",
    "    # Calculate class weights for current split\n",
    "    from sklearn.utils import class_weight\n",
    "    class_weights = class_weight.compute_class_weight('balanced', np.unique(Ytrain_fold), Ytrain_fold)\n",
    "    class_weights = {l:c for l,c in zip(np.unique(Ytrain_fold), class_weights)}\n",
    "    \n",
    "    # Rebuild the DNN model, to not continue training on the previously trained model\n",
    "    model12=build_DNN(input_shape=input_shape, n_layers=5, n_nodes=50, learning_rate=0.01,  optimizer='adam',act_fun='sigmoid',use_custom_dropout=True)\n",
    "    \n",
    "    # Fit the model with training set and class weights for this fold\n",
    "    history12 =model12.fit(Xtrain_fold,Ytrain_fold,epochs = epochs,batch_size=batch_size,class_weight = class_weights, verbose=0)\n",
    "    \n",
    "    # Evaluate the model using the test set for this fold\n",
    "    score = model12.evaluate(Xtest_fold, Ytest_fold)\n",
    "    \n",
    "    # Save the test accuracy in an array\n",
    "    accuracy_cv.append(score[1])\n",
    "\n"
   ]
  },
  {
   "cell_type": "code",
   "execution_count": 121,
   "metadata": {
    "colab": {
     "base_uri": "https://localhost:8080/"
    },
    "id": "XghUeFauGNBH",
    "outputId": "d4d9b886-b22a-437f-8c21-02dc1af4be92"
   },
   "outputs": [
    {
     "name": "stdout",
     "output_type": "stream",
     "text": [
      "mean of 100 accuracies: 0.9190276026725769\n",
      "STD of 100 accuracies : 0.0012772975368843832\n"
     ]
    }
   ],
   "source": [
    "# Calculate and print mean and std of accuracies\n",
    "print(\"mean of 100 accuracies: {}\".format (np.mean(accuracy_cv)))\n",
    "print(\"STD of 100 accuracies : {}\".format (np.std(accuracy_cv)))"
   ]
  },
  {
   "cell_type": "markdown",
   "metadata": {
    "id": "yeSf-c_aGaXJ"
   },
   "source": [
    "# Part 22: DNN regression\n",
    "\n",
    "A similar DNN can be used for regression, instead of classification.\n",
    "\n",
    "Question 24: How would you change the DNN in order to use it for regression instead?\n",
    "\n",
    "#### Answer 24:\n",
    "We should not use activation function in final output later.(or we can use activation='linear'.\n",
    "The default loss in regression is Mean Square Error, MSE.\n",
    "We should use kerasRegressor to create model with specific parameters as build_fn, epochs and batch size."
   ]
  },
  {
   "cell_type": "code",
   "execution_count": null,
   "metadata": {
    "id": "sCBS06QCGbH0"
   },
   "outputs": [],
   "source": []
  }
 ],
 "metadata": {
  "colab": {
   "collapsed_sections": [],
   "name": "lab1_deep.ipynb",
   "provenance": []
  },
  "kernelspec": {
   "display_name": "Python 3",
   "language": "python",
   "name": "python3"
  },
  "language_info": {
   "codemirror_mode": {
    "name": "ipython",
    "version": 3
   },
   "file_extension": ".py",
   "mimetype": "text/x-python",
   "name": "python",
   "nbconvert_exporter": "python",
   "pygments_lexer": "ipython3",
   "version": "3.7.4"
  }
 },
 "nbformat": 4,
 "nbformat_minor": 1
}
