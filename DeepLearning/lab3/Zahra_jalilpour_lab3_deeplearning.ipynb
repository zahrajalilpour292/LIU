{
 "cells": [
  {
   "cell_type": "markdown",
   "metadata": {
    "id": "wFElBmfNbCD1"
   },
   "source": [
    "# Zahra Jalilpour(zahja096)"
   ]
  },
  {
   "cell_type": "code",
   "execution_count": 1,
   "metadata": {
    "colab": {
     "base_uri": "https://localhost:8080/"
    },
    "id": "uLzjXSR1lUtK",
    "outputId": "9bbe3b47-8e7f-47d2-86fa-56207037fac7"
   },
   "outputs": [
    {
     "name": "stdout",
     "output_type": "stream",
     "text": [
      "Mounted at /content/drive/\n"
     ]
    }
   ],
   "source": [
    "from google.colab import drive\n",
    "drive.mount('/content/drive/')"
   ]
  },
  {
   "cell_type": "markdown",
   "metadata": {
    "id": "y_GpApXamXxW"
   },
   "source": [
    "# Part-of-Speech Tagging with Recurrent Neural Networks"
   ]
  },
  {
   "cell_type": "markdown",
   "metadata": {
    "id": "8yvLLDInmUZX"
   },
   "source": [
    "Your task in this assignment is to implement a simple part-of-speech tagger based on recurrent neural networks."
   ]
  },
  {
   "cell_type": "markdown",
   "metadata": {
    "id": "QTGRyeKCmPTE"
   },
   "source": [
    "## Problem specification"
   ]
  },
  {
   "cell_type": "markdown",
   "metadata": {
    "id": "EzaR_KZdmMMq"
   },
   "source": [
    "Your task in this assignment is\n",
    "\n",
    "1. to build a part-of-speech tagger based on a recurrent neural network architecture\n",
    "2. to train this tagger on the provided training data and identify a good model\n",
    "2. to evaluate the performance of this model on the provided test data\n",
    "\n",
    "To identify a good model, you can use the provided development (validation) data."
   ]
  },
  {
   "cell_type": "markdown",
   "metadata": {
    "id": "Z_bZX5TgmFex"
   },
   "source": [
    "## Part-of-speech tagging"
   ]
  },
  {
   "cell_type": "markdown",
   "metadata": {
    "id": "1aF6mqm7mENO"
   },
   "source": [
    "Part-of-speech (POS) tagging is the task of labelling words (tokens) with [parts of speech](https://en.wikipedia.org/wiki/Part_of_speech). To give an example, consider the  sentence *Parker hates parsnips*. In this sentence, the word *Parker* should be labelled as a proper noun (a noun that is the name of a person), *hates* should be labelled as a verb, and *parsnips* should be labelled as a (common) noun. Part-of-speech tagging is an essential ingredient of many state-of-the-art natural language understanding systems.\n",
    "\n",
    "Part-of-speech tagging can be cast as a supervised machine learning problem where the gold-standard data consists of sentences whose words have been manually annotated with parts of speech. For the present assignment you will be using a corpus built over the source material of the [English Web Treebank](https://catalog.ldc.upenn.edu/LDC2012T13), consisting of approximately 16,000&nbsp;sentences with 254,000&nbsp;tokens. The corpus has been released by the [Universal Dependencies Project](http://universaldependencies.org).\n",
    "\n",
    "To make it easier to compare systems, the gold-standard data has been split into three parts: training, development (validation), and test. The following cell provides a function that can be used to load the data."
   ]
  },
  {
   "cell_type": "code",
   "execution_count": 2,
   "metadata": {
    "id": "oAtAl0nxlqQc"
   },
   "outputs": [],
   "source": [
    "def read_data(path):\n",
    "    with open(path, encoding='utf-8') as fp:\n",
    "        result = []\n",
    "        for line in fp:\n",
    "            line = line.rstrip()\n",
    "            if len(line) == 0:\n",
    "                yield result\n",
    "                result = []\n",
    "            elif not line.startswith('#'):\n",
    "                columns = line.split()\n",
    "                if columns[0].isdigit():\n",
    "                    result.append((columns[1], columns[3]))"
   ]
  },
  {
   "cell_type": "markdown",
   "metadata": {
    "id": "6F-vwowNl8J0"
   },
   "source": [
    "The next cell loads the data:"
   ]
  },
  {
   "cell_type": "code",
   "execution_count": 3,
   "metadata": {
    "colab": {
     "base_uri": "https://localhost:8080/"
    },
    "id": "ezrpruVqlV8R",
    "outputId": "8e57624f-5019-494f-9ea1-1fa082de1a34"
   },
   "outputs": [
    {
     "name": "stdout",
     "output_type": "stream",
     "text": [
      "Number of sentences in the training data: 12543\n",
      "Number of sentences in the development data: 2002\n",
      "Number of sentences in the test data: 2077\n"
     ]
    }
   ],
   "source": [
    "train_data = list(read_data('/content/drive/My Drive/en_ewt-ud-train.conllu'))\n",
    "print('Number of sentences in the training data: {}'.format(len(train_data)))\n",
    "\n",
    "dev_data = list(read_data('/content/drive/My Drive/en_ewt-ud-dev.conllu'))\n",
    "print('Number of sentences in the development data: {}'.format(len(dev_data)))\n",
    "\n",
    "test_data = list(read_data('/content/drive/My Drive/en_ewt-ud-test.conllu'))\n",
    "print('Number of sentences in the test data: {}'.format(len(test_data)))"
   ]
  },
  {
   "cell_type": "markdown",
   "metadata": {
    "id": "R4av_9BxmfKM"
   },
   "source": [
    "From a Python perspective, each of the data sets is a list of what we shall refer to as *tagged sentences*. A tagged sentence, in turn, is a list of pairs $(w,t)$, where $w$ is a word token and $t$ is the word&rsquo;s POS tag. Here is an example from the training data to show you how this looks like:"
   ]
  },
  {
   "cell_type": "code",
   "execution_count": 4,
   "metadata": {
    "colab": {
     "base_uri": "https://localhost:8080/"
    },
    "id": "dOnJFHIFmfw3",
    "outputId": "bce02cd0-2d81-47a2-abc8-9d7d9b8ec724"
   },
   "outputs": [
    {
     "data": {
      "text/plain": [
       "[('There', 'PRON'),\n",
       " ('has', 'AUX'),\n",
       " ('been', 'VERB'),\n",
       " ('talk', 'NOUN'),\n",
       " ('that', 'SCONJ'),\n",
       " ('the', 'DET'),\n",
       " ('night', 'NOUN'),\n",
       " ('curfew', 'NOUN'),\n",
       " ('might', 'AUX'),\n",
       " ('be', 'AUX'),\n",
       " ('implemented', 'VERB'),\n",
       " ('again', 'ADV'),\n",
       " ('.', 'PUNCT')]"
      ]
     },
     "execution_count": 4,
     "metadata": {
      "tags": []
     },
     "output_type": "execute_result"
    }
   ],
   "source": [
    "train_data[42]"
   ]
  },
  {
   "cell_type": "markdown",
   "metadata": {
    "id": "_XFJGPaymtl0"
   },
   "source": [
    "You will see part-of-speech tags such as `VERB` for verb, `NOUN` for noun, and `ADV` for adverb. If you are interested in learning more about the tag set used in the gold-standard data, you can have a look at the documentation of the [Universal POS tags](http://universaldependencies.org/u/pos/all.html). However, you do not need to understand the meaning of the POS tags to solve this assignment; you can simply treat them as labels drawn from a finite set of alternatives."
   ]
  },
  {
   "cell_type": "markdown",
   "metadata": {
    "id": "Qp8feA_KmxVk"
   },
   "source": [
    "## Network architecture\n"
   ]
  },
  {
   "cell_type": "markdown",
   "metadata": {
    "id": "ACOYXbr5myDY"
   },
   "source": [
    "The proposed network architecture for your tagger is a sequential model with three layers, illustrated below: an embedding, a bidirectional LSTM, and a softmax layer. The embedding turns word indexes (integers representing words) into fixed-size dense vectors which are then fed into the bidirectional LSTM. The output of the LSTM at each position of the sentence is passed to a softmax layer which predicts the POS tag for the word at that position.\n",
    "\n",
    "![/content/drive/My Drive/architecture.png](attachment:architecture.png)\n",
    "\n",
    "To implement the network architecture, you will use [Keras](https://keras.io/). Keras comes with an extensive online documentation, and reading the relevant parts of this documentation will be essential when working on this assignment. We suggest to start with the tutorial [Getting started with the Keras Sequential model](https://keras.io/getting-started/sequential-model-guide/). After that, you should have a look at some of the examples mentioned in that tutorial, and in particular the [Bidirectional LSTM](https://keras.io/examples/nlp/bidirectional_lstm_imdb/) example."
   ]
  },
  {
   "cell_type": "markdown",
   "metadata": {
    "id": "l0hFFVmanCdV"
   },
   "source": [
    "## Evaluation"
   ]
  },
  {
   "cell_type": "markdown",
   "metadata": {
    "id": "QeyAS5-nnGK1"
   },
   "source": [
    "The most widely-used evaluation measure for part-of-speech tagging is per-word accuracy, which is the percentage of words to which the tagger assigns the correct tag (according to the gold standard). This is one of the default metrics in Keras.\n",
    "\n",
    "One problem that you will encounter during evaluation is that the evaluation data contains words that you did not see (and did not add to your index) during training. The simplest solution to this problem is to introduce a special &lsquo;word&rsquo; `<unk>` and replace each unknown word with this pseudoword."
   ]
  },
  {
   "cell_type": "markdown",
   "metadata": {
    "id": "xcf3l0N2nGua"
   },
   "source": [
    "# Part 1: Pre-process the data"
   ]
  },
  {
   "cell_type": "markdown",
   "metadata": {
    "id": "SE1XNVfYnKKy"
   },
   "source": [
    "Before you can start to implement the network architecture as such, you will have to bring the tagged sentences from the gold-standard data into a form that can be used with the network. One important step in this is to map the words and tags (strings) to integers. Here is code that illustrates the idea:"
   ]
  },
  {
   "cell_type": "code",
   "execution_count": 5,
   "metadata": {
    "colab": {
     "base_uri": "https://localhost:8080/"
    },
    "id": "CRsUdajhmmDg",
    "outputId": "38f6d5d1-15cd-485c-a1d8-ddc85f7e30cd"
   },
   "outputs": [
    {
     "name": "stdout",
     "output_type": "stream",
     "text": [
      "Number of unique words in the training data: 19672\n",
      "Index of the word \"hates\": 4579\n"
     ]
    }
   ],
   "source": [
    "word_to_index = {}\n",
    "for tagged_sentence in train_data:\n",
    "    for word, tag in tagged_sentence:\n",
    "        if word not in word_to_index:\n",
    "            word_to_index[word] = len(word_to_index)\n",
    "\n",
    "print('Number of unique words in the training data: {}'.format(len(word_to_index)))\n",
    "print('Index of the word \"hates\": {}'.format(word_to_index['hates']))"
   ]
  },
  {
   "cell_type": "markdown",
   "metadata": {
    "id": "M2g4UfV9necu"
   },
   "source": [
    "Once you have indexes for the words and the tags, you can construct the input and the gold-standard output tensor required to train the network.\n",
    "\n",
    "### Constructing the input tensor\n",
    "\n",
    "The input tensor should be of shape $(N, n)$ where $N$ is the total number of sentences in the training data and $n$ is the length of the longest sentence. Note that Keras requires all sequences in an input tensor to have the same length, which means that you will have to pad all sequences to that length. You can use the helper function [`pad_sequences`](https://www.tensorflow.org/api_docs/python/tf/keras/preprocessing/sequence/pad_sequences) for this, which by default will front-pad sequences with the value&nbsp;0. It is essential then that you do not use this special padding value as the index of actual words.\n",
    "\n",
    "### Constructing the target output tensor\n",
    "\n",
    "The target output tensor should be of shape $(N, n, T)$ where $T$ is the number of unique tags in the training data, plus one to cater for the special padding value. The additional dimension corresponds to the fact that the softmax layer of the network will output one $T$-dimensional vector for each position of an input sentence. To construct this vector, you can use the helper function [`to_categorical`](https://www.tensorflow.org/api_docs/python/tf/keras/utils/to_categorical)."
   ]
  },
  {
   "cell_type": "code",
   "execution_count": 8,
   "metadata": {
    "colab": {
     "base_uri": "https://localhost:8080/"
    },
    "id": "6UtqxHcGoNQR",
    "outputId": "b5180e83-a107-4378-e502-9c04ef3aa51c"
   },
   "outputs": [
    {
     "name": "stdout",
     "output_type": "stream",
     "text": [
      "Number of unique words in the training data: 19672\n",
      "Number of unique tags in the training_data: 17\n"
     ]
    }
   ],
   "source": [
    "# Define a help function to build index from a list of words or tags, each word / tag will have a unique number\n",
    "def build_index(strings, init=[]):\n",
    "    string_to_index = {s: i for i, s in enumerate(init)}\n",
    "    # Loop over strings in 'strings'\n",
    "    for string in strings:\n",
    "        # Check if string exists in variable 'string_to_index', \n",
    "        # if string does not exist, add a new element to 'string_to_index': the current length of 'string_to_index'\n",
    "      if string not in string_to_index:\n",
    "        string_to_index[string] = len(string_to_index)\n",
    "    return string_to_index\n",
    "        \n",
    "# Convert all words and tags in train_data to lists, start with empty lists and use '.append()' \n",
    "# to add one word / tag at a time, similar to the cell below 'pre-process the data'\n",
    "words, tags = [], []\n",
    "for sentence  in train_data:\n",
    "  for word, tag in sentence:\n",
    "    if word not in words:\n",
    "      words.append(word)\n",
    "    if tag not in tags:\n",
    "      tags.append(tag)\n",
    "\n",
    "\n",
    "\n",
    "# Call the help function you made, to build an index for words (word_to_index), and one index for tags (tag_to_index)\n",
    "word_to_index =  build_index(words, init=[])\n",
    "tag_to_index = build_index(tags, init=[])\n",
    "\n",
    "# Check number of words and tags\n",
    "num_words = len(word_to_index)\n",
    "num_tags = len(tag_to_index)\n",
    "\n",
    "print(f'Number of unique words in the training data: {num_words}')\n",
    "print(f'Number of unique tags in the training_data: {num_tags}')"
   ]
  },
  {
   "cell_type": "code",
   "execution_count": 10,
   "metadata": {
    "colab": {
     "base_uri": "https://localhost:8080/"
    },
    "id": "tWoE8wd3nU7z",
    "outputId": "a2b9af08-abae-4136-d6f6-d249ad0fdc75"
   },
   "outputs": [
    {
     "name": "stdout",
     "output_type": "stream",
     "text": [
      "(12543, 159)\n",
      "(12543, 159, 17)\n"
     ]
    }
   ],
   "source": [
    "from tensorflow.keras.preprocessing.sequence import pad_sequences\n",
    "from tensorflow.keras.utils import to_categorical\n",
    "\n",
    "# Make a function that converts the tagged sentences, word indices and tag indices to \n",
    "# X and Y, that can be used when training the RNN\n",
    "def encode(tagged_sentences, word_to_index, tag_to_index):\n",
    "    \n",
    "    # Start with empty lists that will contain all training examples and corresponding output\n",
    "    X, Y = [], []\n",
    "    word_to_index[\"<unk>\"] = len(word_to_index)\n",
    "    # Loop over tagged sentences\n",
    "    for tagged_sentence in tagged_sentences:\n",
    "        # Make empty lists for current sentence\n",
    "        Xcurrent, Ycurrent = [], []\n",
    "       \n",
    "        # Loop over words and tags in current sentence\n",
    "        for word,tag in tagged_sentence:\n",
    "             # Append the index for the current word to Xcurrent, \n",
    "             # if the word does not exist in 'word_to_index', add the index for '<unk>' instead\n",
    "            if word not in word_to_index:\n",
    "                #word_to_index['<unk>']=len(word_to_index)\n",
    "                Xcurrent.append(word_to_index['<unk>'])\n",
    "            else:\n",
    "                Xcurrent.append(word_to_index[word]) \n",
    "            \n",
    "             # Append the index for the current tag to Ycurrent\n",
    "            if tag in tag_to_index:\n",
    "                Ycurrent.append(tag_to_index[tag])  \n",
    "        # Append X with Xcurrent, and Y with Ycurrent\n",
    "        X.append(Xcurrent)\n",
    "        Y.append(Ycurrent)\n",
    "    # Pad the sequences, so that all have the same length\n",
    "    X = pad_sequences(X)\n",
    "    Y = pad_sequences(Y)\n",
    "    # Convert labels to categorical, as you did in the CNN lab\n",
    "    Y = to_categorical(Y,num_tags)\n",
    "\n",
    "    return X, Y\n",
    "    \n",
    "    \n",
    "    \n",
    "# Use your 'encode' function to create X and Y from train_data, word_to_index, tag_to_index\n",
    "\n",
    "X,Y = encode(train_data, word_to_index, tag_to_index)\n",
    "\n",
    "# Print the shape of X and Y\n",
    "print(X.shape) \n",
    "print(Y.shape)"
   ]
  },
  {
   "cell_type": "markdown",
   "metadata": {
    "id": "8-RYXSR-wjo5"
   },
   "source": [
    "## Part 2: Construct the model"
   ]
  },
  {
   "cell_type": "markdown",
   "metadata": {
    "id": "mRRs5VM3wnpI"
   },
   "source": [
    "To implement the network architecture, you need to find and instantiate the relevant building blocks from the Keras library. Note that Keras layers support a large number of optional parameters; use the default values unless you have a good reason not to. Two mandatory parameters that you will have to specify are the dimensionality of the embedding and the dimensionality of the output of the LSTM layer. The following values are reasonable starting points, but do try a number of different settings.\n",
    "\n",
    "* dimensionality of the embedding: 100\n",
    "* dimensionality of the output of the bidirectional LSTM layer: 100\n",
    "\n",
    "You will also have to choose an appropriate loss function for MULTI-class classification. For training we recommend the Adam optimiser."
   ]
  },
  {
   "cell_type": "code",
   "execution_count": 13,
   "metadata": {
    "colab": {
     "base_uri": "https://localhost:8080/"
    },
    "id": "CPfAf_1OwsYU",
    "outputId": "743a7804-9c8d-4b3d-9b24-001eb4598272"
   },
   "outputs": [
    {
     "name": "stdout",
     "output_type": "stream",
     "text": [
      "Model: \"sequential_1\"\n",
      "_________________________________________________________________\n",
      "Layer (type)                 Output Shape              Param #   \n",
      "=================================================================\n",
      "embedding (Embedding)        (None, None, 100)         1967400   \n",
      "_________________________________________________________________\n",
      "bidirectional (Bidirectional (None, None, 200)         160800    \n",
      "_________________________________________________________________\n",
      "dense (Dense)                (None, None, 17)          3417      \n",
      "=================================================================\n",
      "Total params: 2,131,617\n",
      "Trainable params: 2,131,617\n",
      "Non-trainable params: 0\n",
      "_________________________________________________________________\n"
     ]
    }
   ],
   "source": [
    "from tensorflow.keras import Sequential\n",
    "# Import necessary layers\n",
    "from keras.layers import LSTM, Bidirectional, Embedding,  Dense \n",
    "from keras.optimizers import Adam\n",
    "from keras.losses import categorical_crossentropy\n",
    "\n",
    "embedding_dim = 100\n",
    "hidden_dim = 100\n",
    "input_dim=len(word_to_index)+1\n",
    "# Create model, similar to how it was done in the DNN and CNN labs\n",
    "# The model should have an embedding layer, a bidirectional LSTM, and a dense softmax layer \n",
    "# (see the network architecture image)\n",
    "def build_RNN(embedding_dim=100, hidden_dim=100):\n",
    "  model = Sequential()\n",
    "  model.add(Embedding(input_dim, output_dim=embedding_dim, mask_zero=True))\n",
    "  model.add(Bidirectional(LSTM(hidden_dim, return_sequences=True)))\n",
    "  model.add(Dense(num_tags , activation = 'softmax'))\n",
    "# Compile model\n",
    "  model.compile(loss='categorical_crossentropy', optimizer='adam', metrics=['accuracy'])\n",
    "  return (model)\n",
    "\n",
    "\n",
    "# Print a summary of the model\n",
    "model = build_RNN()\n",
    "\n",
    "model.summary()"
   ]
  },
  {
   "cell_type": "markdown",
   "metadata": {
    "id": "8h0XNVXp97Bq"
   },
   "source": [
    "## Part 3: Train the network\n",
    "The next step is to train the network. Use the following parameters:\n",
    "\n",
    "number of epochs: 10\n",
    "batch size: 32\n",
    "Training will print the average running loss on the training data after each minibatch. In addition to that, we ask you to also print the loss and accuracy on the development data after each epoch. You can do so by providing the validation_data argument to the fit method.\n",
    "\n",
    "Note that the fit method returns a History object that contains useful information about the training. We will use that information in the next step."
   ]
  },
  {
   "cell_type": "code",
   "execution_count": 14,
   "metadata": {
    "colab": {
     "base_uri": "https://localhost:8080/"
    },
    "id": "Jv9IKjiP9_5d",
    "outputId": "0aeed859-884e-49d5-9e15-3bd3cacc4d3c"
   },
   "outputs": [
    {
     "name": "stdout",
     "output_type": "stream",
     "text": [
      "Epoch 1/10\n",
      "392/392 - 128s - loss: 0.0874 - accuracy: 0.7492 - val_loss: 0.0552 - val_accuracy: 0.9021\n",
      "Epoch 2/10\n",
      "392/392 - 119s - loss: 0.0169 - accuracy: 0.9523 - val_loss: 0.0488 - val_accuracy: 0.9134\n",
      "Epoch 3/10\n",
      "392/392 - 120s - loss: 0.0095 - accuracy: 0.9723 - val_loss: 0.0477 - val_accuracy: 0.9174\n",
      "Epoch 4/10\n",
      "392/392 - 119s - loss: 0.0066 - accuracy: 0.9807 - val_loss: 0.0504 - val_accuracy: 0.9161\n",
      "Epoch 5/10\n",
      "392/392 - 120s - loss: 0.0047 - accuracy: 0.9867 - val_loss: 0.0539 - val_accuracy: 0.9147\n",
      "Epoch 6/10\n",
      "392/392 - 120s - loss: 0.0033 - accuracy: 0.9911 - val_loss: 0.0564 - val_accuracy: 0.9138\n",
      "Epoch 7/10\n",
      "392/392 - 121s - loss: 0.0023 - accuracy: 0.9940 - val_loss: 0.0599 - val_accuracy: 0.9126\n",
      "Epoch 8/10\n",
      "392/392 - 120s - loss: 0.0016 - accuracy: 0.9962 - val_loss: 0.0630 - val_accuracy: 0.9129\n",
      "Epoch 9/10\n",
      "392/392 - 120s - loss: 0.0011 - accuracy: 0.9977 - val_loss: 0.0659 - val_accuracy: 0.9134\n",
      "Epoch 10/10\n",
      "392/392 - 120s - loss: 7.2753e-04 - accuracy: 0.9985 - val_loss: 0.0691 - val_accuracy: 0.9115\n"
     ]
    }
   ],
   "source": [
    "# Encode the development (validation data) using the 'encode' function you created before\n",
    "Xval,Yval = encode(dev_data, word_to_index, tag_to_index)\n",
    "\n",
    "epochs=10\n",
    "batch_size=32\n",
    "model = build_RNN(embedding_dim=200, hidden_dim=100)\n",
    "\n",
    "# Train the model and save the history, as you did in the DNN and CNN labs, provide validation data\n",
    "history = model.fit(X,Y, batch_size=batch_size, verbose=2, validation_data=(Xval,Yval), epochs=epochs)\n"
   ]
  },
  {
   "cell_type": "code",
   "execution_count": 15,
   "metadata": {
    "colab": {
     "base_uri": "https://localhost:8080/"
    },
    "id": "TP7Il0WsABEC",
    "outputId": "39cd1337-69b2-4163-9465-e69a3ab25c4e"
   },
   "outputs": [
    {
     "name": "stdout",
     "output_type": "stream",
     "text": [
      "63/63 [==============================] - 2s 33ms/step - loss: 0.0691 - accuracy: 0.9115\n",
      "Valid loss: 0.0691\n",
      "Valid accuracy: 0.9115\n"
     ]
    }
   ],
   "source": [
    "# Evaluate the trained model on test set, not used in training or validation\n",
    "score = model.evaluate(Xval, Yval)\n",
    "print('Valid loss: %.4f' % score[0])\n",
    "print('Valid accuracy: %.4f' % score[1])"
   ]
  },
  {
   "cell_type": "markdown",
   "metadata": {
    "id": "PhXNWqix_lCD"
   },
   "source": [
    "## Part 4: Identify a good model\n",
    "The following code will plot the loss on the training data and the loss on the validation data after each epoch:"
   ]
  },
  {
   "cell_type": "code",
   "execution_count": 16,
   "metadata": {
    "id": "g02vREsw_sxM"
   },
   "outputs": [],
   "source": [
    "# Lets define a help function for plotting the training results\n",
    "import matplotlib.pyplot as plt\n",
    "\n",
    "def plot_results(history):\n",
    "    \n",
    "    val_loss = history.history['val_loss']\n",
    "    acc = history.history['accuracy']\n",
    "    loss = history.history['loss']\n",
    "    val_acc = history.history['val_accuracy']\n",
    "    \n",
    "    plt.figure(figsize=(10,4))\n",
    "    plt.xlabel('Epochs')\n",
    "    plt.ylabel('Loss')\n",
    "    plt.plot(loss)\n",
    "    plt.plot(val_loss)\n",
    "    plt.legend(['Training','Validation'])\n",
    "\n",
    "    plt.figure(figsize=(10,4))\n",
    "    plt.xlabel('Epochs')\n",
    "    plt.ylabel('Accuracy')\n",
    "    plt.plot(acc)\n",
    "    plt.plot(val_acc)\n",
    "    plt.legend(['Training','Validation'])\n",
    "\n",
    "    plt.show()"
   ]
  },
  {
   "cell_type": "code",
   "execution_count": 17,
   "metadata": {
    "colab": {
     "base_uri": "https://localhost:8080/",
     "height": 541
    },
    "id": "OPfoZ4j4_voB",
    "outputId": "79ca56f3-fd60-41eb-cc3d-f2628f3f9be2"
   },
   "outputs": [
    {
     "data": {
      "image/png": "[encoded data removed]",
      "text/plain": [
       "<Figure size 720x288 with 1 Axes>"
      ]
     },
     "metadata": {
      "needs_background": "light",
      "tags": []
     },
     "output_type": "display_data"
    },
    {
     "data": {
      "image/png": "[encoded data removed]",
      "text/plain": [
       "<Figure size 720x288 with 1 Axes>"
      ]
     },
     "metadata": {
      "needs_background": "light",
      "tags": []
     },
     "output_type": "display_data"
    }
   ],
   "source": [
    "plot_results(history)"
   ]
  },
  {
   "cell_type": "markdown",
   "metadata": {
    "id": "UQ9klPsMATHZ"
   },
   "source": [
    "Look at the plot and determine the epoch after which the model starts to overfit. Then, re-train your model using that many epochs and compute the accuracy of the tagger on the test data."
   ]
  },
  {
   "cell_type": "code",
   "execution_count": 18,
   "metadata": {
    "colab": {
     "base_uri": "https://localhost:8080/"
    },
    "id": "r63SI0ZUAWYe",
    "outputId": "f2ff00c4-a7aa-41dc-cc7e-d66f981d368c"
   },
   "outputs": [
    {
     "name": "stdout",
     "output_type": "stream",
     "text": [
      "65/65 [==============================] - 4s 37ms/step - loss: 0.0609 - accuracy: 0.9132\n",
      "test loss: 0.0609\n",
      "test accuracy: 0.9132\n"
     ]
    }
   ],
   "source": [
    "# Encode the test_data using the 'encode' function you created before\n",
    "Xtest,Ytest = encode(test_data, word_to_index, tag_to_index)\n",
    "\n",
    "\n",
    "# Evaluate the model on test data, as you did in the DNN and CNN lab\n",
    "score = model.evaluate(Xtest, Ytest)\n",
    "print('test loss: %.4f' % score[0])\n",
    "print('test accuracy: %.4f' % score[1])"
   ]
  },
  {
   "cell_type": "markdown",
   "metadata": {
    "id": "KhzRCC5HAeHS"
   },
   "source": [
    "## Submission\n",
    "Your notebook should include all your code, and should be runnable without further modification. It should also include answers to the following questions:\n",
    "\n",
    "How many epochs did you train the final model for?\n",
    "\n",
    "10 epochs\n",
    "\n",
    "What accuracy did you achieve on the test data?\n",
    "\n",
    "test accuracy: 0.9132\n",
    "\n",
    "What dimensionality of the embedding did you use for your best results?\n",
    "\n",
    "200\n",
    "\n",
    "What dimensionality of the output of the bidirectional LSTM layer did you use for your best results?\n",
    "\n",
    "100\n",
    "\n",
    "Instead of manually identifying a good model, and redoing the training to that number of epochs, how can you automatically stop the training when the validation performance does not improve anymore? Hint: see Lecture 2\n",
    "\n",
    "Keras supports the early stopping of training via a callback called EarlyStopping.The “monitor” allows you to specify the performance measure to monitor in order to end training.Based on the choice of performance measure, the “mode” argument will need to be specified as whether the objective of the chosen metric is to increase (maximize or ‘max‘) or to decrease (minimize or ‘min‘).\n",
    "es=EarlyStopping(monitor='val_loss', mode='min')\n",
    "model.fit(Xtest,Ytest,, validation_data=(Xval,Yval), callbacks=[es])\n",
    "https://machinelearningmastery.com/how-to-stop-training-deep-neural-networks-at-the-right-time-using-early-stopping/\n",
    "\n",
    "lecture2 teacher's,Anders Eklund\n",
    "\n",
    "What did you find particularly surprising or hard?\n",
    "\n",
    "The basic concept seems understandable and easy, but mathematic equations and architecture of LSTMs is hard. \n",
    "\n",
    "How do you calculate the number of parameters in the embedding layer? Hint: the calculation includes the vocabulary size and the embedding dimension\n",
    "\n",
    "(vocabulary_size )* embedding_dimension = (19672)*100=1967200\n",
    "\n",
    "How do you calculate the number of parameters in the bidirectional LSTM layer? Hint: A LSTM layer has 4 parts; cell, input gate, output gate, forget gate, each part contains two weight matrices and a bias vector. A bidirectional LSTM contains two LSTMs.\n",
    "\n",
    "number of parameters of a LSTM layer  = 4 * ((size_of_input + 1) * size_of_output + size_of_output^2) \n",
    "\n",
    "\n",
    "https://en.wikipedia.org/wiki/Long_short-term_memory"
   ]
  },
  {
   "cell_type": "markdown",
   "metadata": {
    "id": "tG7OlRMlAx74"
   },
   "source": [
    "## Ethics in deep learning\n",
    "\n",
    "Now that you have watched the 5 lectures, and completed the 3 laborations in this course, what do you think is the most important ethical question related to deep learning? Motivate your answer.\n",
    "\n",
    "In my opinion, one of the most important ethical question related to deep learning, is related to NLP application ethics. Transparency and accuracy should be considered in this regard. Some times social content may be considered in a wrong way. As NLP is processing by machine, impact of error(intentionally error) should be considered. Transparency should increse and manipulating issues related to society should reduce.\n"
   ]
  }
 ],
 "metadata": {
  "colab": {
   "collapsed_sections": [],
   "name": "Zahra_jalilpour_lab3_deeplearning.ipynb",
   "provenance": []
  },
  "kernelspec": {
   "display_name": "Python 3",
   "language": "python",
   "name": "python3"
  },
  "language_info": {
   "codemirror_mode": {
    "name": "ipython",
    "version": 3
   },
   "file_extension": ".py",
   "mimetype": "text/x-python",
   "name": "python",
   "nbconvert_exporter": "python",
   "pygments_lexer": "ipython3",
   "version": "3.7.4"
  }
 },
 "nbformat": 4,
 "nbformat_minor": 1
}
